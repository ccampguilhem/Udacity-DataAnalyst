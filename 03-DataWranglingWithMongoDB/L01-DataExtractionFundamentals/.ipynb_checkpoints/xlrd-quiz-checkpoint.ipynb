{
 "cells": [
  {
   "cell_type": "code",
   "execution_count": 30,
   "metadata": {},
   "outputs": [
    {
     "name": "stdout",
     "output_type": "stream",
     "text": [
      "Number of rows: 7296\n"
     ]
    }
   ],
   "source": [
    "#!/usr/bin/env python\n",
    "\"\"\"\n",
    "Your task is as follows:\n",
    "- read the provided Excel file\n",
    "- find and return the min, max and average values for the COAST region\n",
    "- find and return the time value for the min and max entries\n",
    "- the time values should be returned as Python tuples\n",
    "\n",
    "Please see the test function for the expected return format\n",
    "\n",
    "\"\"\"\n",
    "\n",
    "from zipfile import ZipFile\n",
    "import os\n",
    "import functools\n",
    "\n",
    "import xlrd\n",
    "import pandas as pd\n",
    "\n",
    "\n",
    "datafile = \"dataset/2013_ERCOT_Hourly_Load_Data\"\n",
    "\n",
    "\n",
    "def open_zip(datafile):\n",
    "    with ZipFile('{0}.zip'.format(datafile), 'r') as myzip:\n",
    "        myzip.extractall('dataset')\n",
    "\n",
    "\n",
    "def parse_file(datafile):\n",
    "    workbook = xlrd.open_workbook('{0}.xls'.format(datafile))\n",
    "    sheet = workbook.sheet_by_index(0)\n",
    "\n",
    "    ### example on how you can get the data\n",
    "    #sheet_data = [[sheet.cell_value(r, col) for col in range(sheet.ncols)] for r in range(sheet.nrows)]\n",
    "\n",
    "    ### other useful methods:\n",
    "    # print \"\\nROWS, COLUMNS, and CELLS:\"\n",
    "    # print \"Number of rows in the sheet:\", \n",
    "    # print sheet.nrows\n",
    "    # print \"Type of data in cell (row 3, col 2):\", \n",
    "    # print sheet.cell_type(3, 2)\n",
    "    # print \"Value in cell (row 3, col 2):\", \n",
    "    # print sheet.cell_value(3, 2)\n",
    "    # print \"Get a slice of values in column 3, from rows 1-3:\"\n",
    "    # print sheet.col_values(3, start_rowx=1, end_rowx=4)\n",
    "\n",
    "    # print \"\\nDATES:\"\n",
    "    # print \"Type of data in cell (row 1, col 0):\", \n",
    "    # print sheet.cell_type(1, 0)\n",
    "    # exceltime = sheet.cell_value(1, 0)\n",
    "    # print \"Time in Excel format:\",\n",
    "    # print exceltime\n",
    "    # print \"Convert time to a Python datetime tuple, from the Excel float:\",\n",
    "    # print xlrd.xldate_as_tuple(exceltime, 0)\n",
    "    \n",
    "    print \"Number of rows:\", sheet.nrows\n",
    "    \n",
    "    #Convert Excel dates to tuples\n",
    "    convert_date = functools.partial(xlrd.xldate_as_tuple, datemode=0)\n",
    "    \n",
    "    #Read second column\n",
    "    coast = sheet.col_values(1, start_rowx=1, end_rowx=sheet.nrows)\n",
    "    timestamp = sheet.col_values(0, start_rowx=1, end_rowx=sheet.nrows)\n",
    "    df = pd.DataFrame({\"timestamp\": timestamp, \"coast\": coast})\n",
    "    max_index = df.idxmax()[\"coast\"]\n",
    "    min_index = df.idxmin()[\"coast\"]\n",
    "    \n",
    "    data = {\n",
    "            'maxtime': convert_date(df.iloc[max_index][\"timestamp\"]),\n",
    "            'maxvalue': df.iloc[max_index][\"coast\"],\n",
    "            'mintime': convert_date(df.iloc[min_index][\"timestamp\"]),\n",
    "            'minvalue': df.iloc[min_index][\"coast\"],\n",
    "            'avgcoast': df[\"coast\"].mean()\n",
    "    }\n",
    "    return data\n",
    "\n",
    "\n",
    "def test():\n",
    "    open_zip(datafile)\n",
    "    data = parse_file(datafile)\n",
    "    os.remove('{0}.xls'.format(datafile))\n",
    "    \n",
    "\n",
    "    assert data['maxtime'] == (2013, 8, 13, 17, 0, 0)\n",
    "    assert round(data['maxvalue'], 10) == round(18779.02551, 10)\n",
    "\n",
    "\n",
    "test()"
   ]
  },
  {
   "cell_type": "code",
   "execution_count": null,
   "metadata": {
    "collapsed": true
   },
   "outputs": [],
   "source": []
  }
 ],
 "metadata": {
  "kernelspec": {
   "display_name": "Python [conda env:DataAnalysis]",
   "language": "python",
   "name": "conda-env-DataAnalysis-py"
  },
  "language_info": {
   "codemirror_mode": {
    "name": "ipython",
    "version": 2
   },
   "file_extension": ".py",
   "mimetype": "text/x-python",
   "name": "python",
   "nbconvert_exporter": "python",
   "pygments_lexer": "ipython2",
   "version": "2.7.13"
  }
 },
 "nbformat": 4,
 "nbformat_minor": 2
}
