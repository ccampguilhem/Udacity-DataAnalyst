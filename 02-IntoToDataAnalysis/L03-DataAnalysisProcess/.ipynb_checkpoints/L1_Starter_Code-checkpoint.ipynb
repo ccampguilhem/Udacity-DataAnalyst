{
 "cells": [
  {
   "cell_type": "markdown",
   "metadata": {},
   "source": [
    "Before we get started, a couple of reminders to keep in mind when using iPython notebooks:\n",
    "\n",
    "- Remember that you can see from the left side of a code cell when it was last run if there is a number within the brackets.\n",
    "- When you start a new notebook session, make sure you run all of the cells up to the point where you last left off. Even if the output is still visible from when you ran the cells in your previous session, the kernel starts in a fresh state so you'll need to reload the data, etc. on a new session.\n",
    "- The previous point is useful to keep in mind if your answers do not match what is expected in the lesson's quizzes. Try reloading the data and run all of the processing steps one by one in order to make sure that you are working with the same variables and data that are at each quiz stage.\n",
    "\n",
    "\n",
    "## Load Data from CSVs"
   ]
  },
  {
   "cell_type": "code",
   "execution_count": 1,
   "metadata": {
    "collapsed": true
   },
   "outputs": [],
   "source": [
    "import unicodecsv\n",
    "\n",
    "with open('./dataset/enrollments.csv', 'rb') as f:\n",
    "    reader = unicodecsv.DictReader(f)\n",
    "    enrollments = list(reader)"
   ]
  },
  {
   "cell_type": "code",
   "execution_count": 2,
   "metadata": {},
   "outputs": [
    {
     "name": "stdout",
     "output_type": "stream",
     "text": [
      "{u'lessons_completed': u'0.0', u'num_courses_visited': u'1.0', u'total_minutes_visited': u'11.6793745', u'projects_completed': u'0.0', u'acct': u'0', u'utc_date': u'2015-01-09'}\n",
      "{u'lesson_key': u'3176718735', u'processing_state': u'EVALUATED', u'account_key': u'256', u'assigned_rating': u'UNGRADED', u'completion_date': u'2015-01-16', u'creation_date': u'2015-01-14'}\n"
     ]
    }
   ],
   "source": [
    "#####################################\n",
    "#                 1                 #\n",
    "#####################################\n",
    "\n",
    "## Read in the data from daily_engagement.csv and project_submissions.csv \n",
    "## and store the results in the below variables.\n",
    "## Then look at the first row of each table.\n",
    "\n",
    "with open('./dataset/daily_engagement.csv', 'rb') as f:\n",
    "    reader = unicodecsv.DictReader(f)\n",
    "    daily_engagement = list(reader)\n",
    "    \n",
    "with open('./dataset/project_submissions.csv', 'rb') as f:\n",
    "    reader = unicodecsv.DictReader(f)\n",
    "    project_submissions = list(reader)\n",
    "\n",
    "print(daily_engagement[0])\n",
    "print(project_submissions[0])"
   ]
  },
  {
   "cell_type": "markdown",
   "metadata": {},
   "source": [
    "## Fixing Data Types"
   ]
  },
  {
   "cell_type": "code",
   "execution_count": 3,
   "metadata": {},
   "outputs": [
    {
     "data": {
      "text/plain": [
       "{u'account_key': u'448',\n",
       " u'cancel_date': datetime.datetime(2015, 1, 14, 0, 0),\n",
       " u'days_to_cancel': 65,\n",
       " u'is_canceled': True,\n",
       " u'is_udacity': True,\n",
       " u'join_date': datetime.datetime(2014, 11, 10, 0, 0),\n",
       " u'status': u'canceled'}"
      ]
     },
     "execution_count": 3,
     "metadata": {},
     "output_type": "execute_result"
    }
   ],
   "source": [
    "from datetime import datetime as dt\n",
    "\n",
    "# Takes a date as a string, and returns a Python datetime object. \n",
    "# If there is no date given, returns None\n",
    "def parse_date(date):\n",
    "    if date == '':\n",
    "        return None\n",
    "    else:\n",
    "        return dt.strptime(date, '%Y-%m-%d')\n",
    "    \n",
    "# Takes a string which is either an empty string or represents an integer,\n",
    "# and returns an int or None.\n",
    "def parse_maybe_int(i):\n",
    "    if i == '':\n",
    "        return None\n",
    "    else:\n",
    "        return int(i)\n",
    "\n",
    "# Clean up the data types in the enrollments table\n",
    "for enrollment in enrollments:\n",
    "    enrollment['cancel_date'] = parse_date(enrollment['cancel_date'])\n",
    "    enrollment['days_to_cancel'] = parse_maybe_int(enrollment['days_to_cancel'])\n",
    "    enrollment['is_canceled'] = enrollment['is_canceled'] == 'True'\n",
    "    enrollment['is_udacity'] = enrollment['is_udacity'] == 'True'\n",
    "    enrollment['join_date'] = parse_date(enrollment['join_date'])\n",
    "    \n",
    "enrollments[0]"
   ]
  },
  {
   "cell_type": "code",
   "execution_count": 4,
   "metadata": {},
   "outputs": [
    {
     "data": {
      "text/plain": [
       "{u'acct': u'0',\n",
       " u'lessons_completed': 0,\n",
       " u'num_courses_visited': 1,\n",
       " u'projects_completed': 0,\n",
       " u'total_minutes_visited': 11.6793745,\n",
       " u'utc_date': datetime.datetime(2015, 1, 9, 0, 0)}"
      ]
     },
     "execution_count": 4,
     "metadata": {},
     "output_type": "execute_result"
    }
   ],
   "source": [
    "# Clean up the data types in the engagement table\n",
    "for engagement_record in daily_engagement:\n",
    "    engagement_record['lessons_completed'] = int(float(engagement_record['lessons_completed']))\n",
    "    engagement_record['num_courses_visited'] = int(float(engagement_record['num_courses_visited']))\n",
    "    engagement_record['projects_completed'] = int(float(engagement_record['projects_completed']))\n",
    "    engagement_record['total_minutes_visited'] = float(engagement_record['total_minutes_visited'])\n",
    "    engagement_record['utc_date'] = parse_date(engagement_record['utc_date'])\n",
    "    \n",
    "daily_engagement[0]"
   ]
  },
  {
   "cell_type": "code",
   "execution_count": 5,
   "metadata": {},
   "outputs": [
    {
     "data": {
      "text/plain": [
       "{u'account_key': u'256',\n",
       " u'assigned_rating': u'UNGRADED',\n",
       " u'completion_date': datetime.datetime(2015, 1, 16, 0, 0),\n",
       " u'creation_date': datetime.datetime(2015, 1, 14, 0, 0),\n",
       " u'lesson_key': u'3176718735',\n",
       " u'processing_state': u'EVALUATED'}"
      ]
     },
     "execution_count": 5,
     "metadata": {},
     "output_type": "execute_result"
    }
   ],
   "source": [
    "# Clean up the data types in the submissions table\n",
    "for submission in project_submissions:\n",
    "    submission['completion_date'] = parse_date(submission['completion_date'])\n",
    "    submission['creation_date'] = parse_date(submission['creation_date'])\n",
    "\n",
    "project_submissions[0]"
   ]
  },
  {
   "cell_type": "markdown",
   "metadata": {},
   "source": [
    "Note when running the above cells that we are actively changing the contents of our data variables. If you try to run these cells multiple times in the same session, an error will occur.\n",
    "\n",
    "## Investigating the Data"
   ]
  },
  {
   "cell_type": "code",
   "execution_count": 6,
   "metadata": {},
   "outputs": [],
   "source": [
    "#####################################\n",
    "#                 2                 #\n",
    "#####################################\n",
    "\n",
    "## Find the total number of rows and the number of unique students (account keys)\n",
    "## in each table.\n",
    "def get_unique_student(dataset):\n",
    "    students = set()\n",
    "    for row in dataset:\n",
    "        students.add(row[\"account_key\"])\n",
    "    return students"
   ]
  },
  {
   "cell_type": "markdown",
   "metadata": {},
   "source": [
    "## Problems in the Data"
   ]
  },
  {
   "cell_type": "code",
   "execution_count": 7,
   "metadata": {},
   "outputs": [
    {
     "name": "stdout",
     "output_type": "stream",
     "text": [
      "0\n"
     ]
    }
   ],
   "source": [
    "#####################################\n",
    "#                 3                 #\n",
    "#####################################\n",
    "\n",
    "## Rename the \"acct\" column in the daily_engagement table to \"account_key\".\n",
    "for de in daily_engagement:\n",
    "    de[\"account_key\"] = de.pop('acct')\n",
    "print daily_engagement[0][\"account_key\"]"
   ]
  },
  {
   "cell_type": "code",
   "execution_count": 8,
   "metadata": {},
   "outputs": [
    {
     "name": "stdout",
     "output_type": "stream",
     "text": [
      "enrollments 1302\n",
      "project_submissions 743\n",
      "daily_engagement 1237\n"
     ]
    }
   ],
   "source": [
    "for dataset in [(\"enrollments\", enrollments), \n",
    "                (\"project_submissions\", project_submissions), \n",
    "                (\"daily_engagement\", daily_engagement)]:\n",
    "    print dataset[0], len(get_unique_student(dataset[1]))"
   ]
  },
  {
   "cell_type": "markdown",
   "metadata": {},
   "source": [
    "## Missing Engagement Records"
   ]
  },
  {
   "cell_type": "code",
   "execution_count": 9,
   "metadata": {},
   "outputs": [],
   "source": [
    "import operator as op\n",
    "def filter_dataset(dataset, key, operator, value, reverse=False):\n",
    "    filtered = [ ]\n",
    "    operators = {\"==\": op.eq, \">\": op.gt, \"<\": op.lt, \">=\": op.ge, \"<=\": op.le, \"!=\": op.ne,\n",
    "                 \"in\": op.contains, \"is\": op.is_}\n",
    "    func = operators[operator]\n",
    "    dataset[0][key]\n",
    "    for row in dataset:\n",
    "        if func(value, row[key]) != reverse:\n",
    "            filtered.append(row)\n",
    "    return filtered"
   ]
  },
  {
   "cell_type": "code",
   "execution_count": 10,
   "metadata": {},
   "outputs": [
    {
     "name": "stdout",
     "output_type": "stream",
     "text": [
      "65\n",
      "71\n",
      "{u'status': u'canceled', u'is_udacity': False, u'is_canceled': True, u'join_date': datetime.datetime(2014, 11, 12, 0, 0), u'account_key': u'1219', u'cancel_date': datetime.datetime(2014, 11, 12, 0, 0), u'days_to_cancel': 0}\n",
      "{u'status': u'canceled', u'is_udacity': False, u'is_canceled': True, u'join_date': datetime.datetime(2014, 11, 13, 0, 0), u'account_key': u'871', u'cancel_date': datetime.datetime(2014, 11, 13, 0, 0), u'days_to_cancel': 0}\n",
      "{u'status': u'canceled', u'is_udacity': False, u'is_canceled': True, u'join_date': datetime.datetime(2014, 11, 15, 0, 0), u'account_key': u'1218', u'cancel_date': datetime.datetime(2014, 11, 15, 0, 0), u'days_to_cancel': 0}\n",
      "{u'status': u'canceled', u'is_udacity': False, u'is_canceled': True, u'join_date': datetime.datetime(2014, 12, 4, 0, 0), u'account_key': u'654', u'cancel_date': datetime.datetime(2014, 12, 4, 0, 0), u'days_to_cancel': 0}\n",
      "{u'status': u'canceled', u'is_udacity': False, u'is_canceled': True, u'join_date': datetime.datetime(2014, 12, 4, 0, 0), u'account_key': u'654', u'cancel_date': datetime.datetime(2014, 12, 4, 0, 0), u'days_to_cancel': 0}\n",
      "{u'status': u'canceled', u'is_udacity': False, u'is_canceled': True, u'join_date': datetime.datetime(2014, 12, 3, 0, 0), u'account_key': u'654', u'cancel_date': datetime.datetime(2014, 12, 3, 0, 0), u'days_to_cancel': 0}\n",
      "{u'status': u'canceled', u'is_udacity': False, u'is_canceled': True, u'join_date': datetime.datetime(2014, 12, 4, 0, 0), u'account_key': u'964', u'cancel_date': datetime.datetime(2014, 12, 4, 0, 0), u'days_to_cancel': 0}\n",
      "{u'status': u'canceled', u'is_udacity': False, u'is_canceled': True, u'join_date': datetime.datetime(2014, 12, 9, 0, 0), u'account_key': u'817', u'cancel_date': datetime.datetime(2014, 12, 9, 0, 0), u'days_to_cancel': 0}\n",
      "{u'status': u'canceled', u'is_udacity': False, u'is_canceled': True, u'join_date': datetime.datetime(2015, 1, 7, 0, 0), u'account_key': u'1171', u'cancel_date': datetime.datetime(2015, 1, 7, 0, 0), u'days_to_cancel': 0}\n",
      "{u'status': u'canceled', u'is_udacity': False, u'is_canceled': True, u'join_date': datetime.datetime(2015, 1, 8, 0, 0), u'account_key': u'884', u'cancel_date': datetime.datetime(2015, 1, 8, 0, 0), u'days_to_cancel': 0}\n"
     ]
    }
   ],
   "source": [
    "#####################################\n",
    "#                 4                 #\n",
    "#####################################\n",
    "\n",
    "## Find any one student enrollments where the student is missing from the daily engagement table.\n",
    "## Output that enrollment.\n",
    "enrollments_accounts = get_unique_student(enrollments)\n",
    "engagment_accounts = get_unique_student(daily_engagement)\n",
    "missing_engagement_accounts = enrollments_accounts - engagment_accounts\n",
    "print len(missing_engagement_accounts)\n",
    "filtered_enrollments = filter_dataset(enrollments, \"account_key\", \"in\", missing_engagement_accounts)\n",
    "print len(filtered_enrollments)\n",
    "for row in filtered_enrollments[:10]:\n",
    "    print row"
   ]
  },
  {
   "cell_type": "markdown",
   "metadata": {},
   "source": [
    "## Checking for More Problem Records"
   ]
  },
  {
   "cell_type": "code",
   "execution_count": 11,
   "metadata": {},
   "outputs": [
    {
     "name": "stdout",
     "output_type": "stream",
     "text": [
      "{u'status': u'canceled', u'is_udacity': True, u'is_canceled': True, u'join_date': datetime.datetime(2015, 1, 10, 0, 0), u'account_key': u'1304', u'cancel_date': datetime.datetime(2015, 3, 10, 0, 0), u'days_to_cancel': 59}\n",
      "{u'status': u'canceled', u'is_udacity': True, u'is_canceled': True, u'join_date': datetime.datetime(2015, 3, 10, 0, 0), u'account_key': u'1304', u'cancel_date': datetime.datetime(2015, 6, 17, 0, 0), u'days_to_cancel': 99}\n",
      "{u'status': u'current', u'is_udacity': True, u'is_canceled': False, u'join_date': datetime.datetime(2015, 2, 25, 0, 0), u'account_key': u'1101', u'cancel_date': None, u'days_to_cancel': None}\n",
      "3\n"
     ]
    }
   ],
   "source": [
    "#####################################\n",
    "#                 5                 #\n",
    "#####################################\n",
    "\n",
    "## Find the number of surprising data points (enrollments missing from\n",
    "## the engagement table) that remain, if any.\n",
    "number_of_different_dates = 0\n",
    "for row in filtered_enrollments:\n",
    "    if row[\"join_date\"] != row[\"cancel_date\"]:\n",
    "        print row\n",
    "        number_of_different_dates += 1\n",
    "print number_of_different_dates"
   ]
  },
  {
   "cell_type": "markdown",
   "metadata": {},
   "source": [
    "## Tracking Down the Remaining Problems"
   ]
  },
  {
   "cell_type": "code",
   "execution_count": 12,
   "metadata": {},
   "outputs": [
    {
     "data": {
      "text/plain": [
       "6"
      ]
     },
     "execution_count": 12,
     "metadata": {},
     "output_type": "execute_result"
    }
   ],
   "source": [
    "# Create a set of the account keys for all Udacity test accounts\n",
    "udacity_test_accounts = set()\n",
    "for enrollment in enrollments:\n",
    "    if enrollment['is_udacity']:\n",
    "        udacity_test_accounts.add(enrollment['account_key'])\n",
    "len(udacity_test_accounts)"
   ]
  },
  {
   "cell_type": "code",
   "execution_count": 13,
   "metadata": {
    "collapsed": true
   },
   "outputs": [],
   "source": [
    "# Given some data with an account_key field, removes any records corresponding to Udacity test accounts\n",
    "def remove_udacity_accounts(data):\n",
    "    non_udacity_data = []\n",
    "    for data_point in data:\n",
    "        if data_point['account_key'] not in udacity_test_accounts:\n",
    "            non_udacity_data.append(data_point)\n",
    "    return non_udacity_data"
   ]
  },
  {
   "cell_type": "code",
   "execution_count": 14,
   "metadata": {},
   "outputs": [
    {
     "name": "stdout",
     "output_type": "stream",
     "text": [
      "1622\n",
      "135656\n",
      "3634\n"
     ]
    }
   ],
   "source": [
    "# Remove Udacity test accounts from all three tables\n",
    "non_udacity_enrollments = remove_udacity_accounts(enrollments)\n",
    "non_udacity_engagement = remove_udacity_accounts(daily_engagement)\n",
    "non_udacity_submissions = remove_udacity_accounts(project_submissions)\n",
    "\n",
    "print len(non_udacity_enrollments)\n",
    "print len(non_udacity_engagement)\n",
    "print len(non_udacity_submissions)"
   ]
  },
  {
   "cell_type": "markdown",
   "metadata": {},
   "source": [
    "## Refining the Question"
   ]
  },
  {
   "cell_type": "code",
   "execution_count": 15,
   "metadata": {},
   "outputs": [
    {
     "name": "stdout",
     "output_type": "stream",
     "text": [
      "995\n"
     ]
    }
   ],
   "source": [
    "#####################################\n",
    "#                 6                 #\n",
    "#####################################\n",
    "\n",
    "## Create a dictionary named paid_students containing all students who either\n",
    "## haven't canceled yet or who remained enrolled for more than 7 days. The keys\n",
    "## should be account keys, and the values should be the date the student enrolled.\n",
    "\n",
    "paid_students = {}\n",
    "for row in non_udacity_enrollments:\n",
    "    if row[\"days_to_cancel\"] is None or row[\"days_to_cancel\"] > 7:\n",
    "        account = row[\"account_key\"]\n",
    "        enrollment_date = row[\"join_date\"]\n",
    "        if account not in paid_students:\n",
    "            paid_students[account] = enrollment_date\n",
    "        elif enrollment_date > paid_students[account]:\n",
    "            paid_students[account] = enrollment_date\n",
    "print len(paid_students)"
   ]
  },
  {
   "cell_type": "markdown",
   "metadata": {},
   "source": [
    "## Getting Data from First Week"
   ]
  },
  {
   "cell_type": "code",
   "execution_count": 16,
   "metadata": {
    "collapsed": true
   },
   "outputs": [],
   "source": [
    "# Takes a student's join date and the date of a specific engagement record,\n",
    "# and returns True if that engagement record happened within one week\n",
    "# of the student joining.\n",
    "def within_one_week(join_date, engagement_date):\n",
    "    time_delta = engagement_date - join_date\n",
    "    return 0 <= time_delta.days < 7"
   ]
  },
  {
   "cell_type": "code",
   "execution_count": 17,
   "metadata": {},
   "outputs": [
    {
     "name": "stdout",
     "output_type": "stream",
     "text": [
      "6919\n"
     ]
    }
   ],
   "source": [
    "#####################################\n",
    "#                 7                 #\n",
    "#####################################\n",
    "\n",
    "## Create a list of rows from the engagement table including only rows where\n",
    "## the student is one of the paid students you just found, and the date is within\n",
    "## one week of the student's join date.\n",
    "\n",
    "paid_engagement_in_first_week = [ ]\n",
    "for row in non_udacity_engagement:\n",
    "    account = row[\"account_key\"]\n",
    "    try:\n",
    "        join_date = paid_students[account]\n",
    "    except KeyError:\n",
    "        continue\n",
    "    if within_one_week(join_date, row[\"utc_date\"]):\n",
    "        paid_engagement_in_first_week.append(row)\n",
    "print len(paid_engagement_in_first_week)"
   ]
  },
  {
   "cell_type": "markdown",
   "metadata": {},
   "source": [
    "## Exploring Student Engagement"
   ]
  },
  {
   "cell_type": "code",
   "execution_count": 18,
   "metadata": {
    "collapsed": true
   },
   "outputs": [],
   "source": [
    "from collections import defaultdict\n",
    "\n",
    "# Create a dictionary of engagement grouped by student.\n",
    "# The keys are account keys, and the values are lists of engagement records.\n",
    "engagement_by_account = defaultdict(list)\n",
    "for engagement_record in paid_engagement_in_first_week:\n",
    "    account_key = engagement_record['account_key']\n",
    "    engagement_by_account[account_key].append(engagement_record)"
   ]
  },
  {
   "cell_type": "code",
   "execution_count": 19,
   "metadata": {
    "collapsed": true
   },
   "outputs": [],
   "source": [
    "# Create a dictionary with the total minutes each student spent in the classroom during the first week.\n",
    "# The keys are account keys, and the values are numbers (total minutes)\n",
    "total_minutes_by_account = {}\n",
    "for account_key, engagement_for_student in engagement_by_account.items():\n",
    "    total_minutes = 0\n",
    "    for engagement_record in engagement_for_student:\n",
    "        total_minutes += engagement_record['total_minutes_visited']\n",
    "    total_minutes_by_account[account_key] = total_minutes"
   ]
  },
  {
   "cell_type": "code",
   "execution_count": 20,
   "metadata": {},
   "outputs": [
    {
     "name": "stdout",
     "output_type": "stream",
     "text": [
      "Mean: 306.708326753\n",
      "Standard deviation: 412.996933409\n",
      "Minimum: 0.0\n",
      "Maximum: 3564.7332645\n"
     ]
    }
   ],
   "source": [
    "import numpy as np\n",
    "\n",
    "# Summarize the data about minutes spent in the classroom\n",
    "total_minutes = total_minutes_by_account.values()\n",
    "print 'Mean:', np.mean(total_minutes)\n",
    "print 'Standard deviation:', np.std(total_minutes)\n",
    "print 'Minimum:', np.min(total_minutes)\n",
    "print 'Maximum:', np.max(total_minutes)"
   ]
  },
  {
   "cell_type": "markdown",
   "metadata": {},
   "source": [
    "## Debugging Data Analysis Code"
   ]
  },
  {
   "cell_type": "code",
   "execution_count": 21,
   "metadata": {},
   "outputs": [
    {
     "name": "stdout",
     "output_type": "stream",
     "text": [
      "{}\n"
     ]
    }
   ],
   "source": [
    "#####################################\n",
    "#                 8                 #\n",
    "#####################################\n",
    "\n",
    "## Go through a similar process as before to see if there is a problem.\n",
    "## Locate at least one surprising piece of data, output it, and take a look at it.\n",
    "\n",
    "outliers = {account: total_minutes_visited for (account, total_minutes_visited) in total_minutes_by_account.iteritems() \n",
    "            if total_minutes_visited > 7*24*60}\n",
    "print outliers\n",
    "\n",
    "for account in outliers.iterkeys():\n",
    "    for engagement in engagement_by_account[account]:\n",
    "        print engagement"
   ]
  },
  {
   "cell_type": "markdown",
   "metadata": {},
   "source": [
    "If dictionnary is empty, the \"bug has been fixed. Else: Engagements are within a 4 month period or so. It should have been only first week right ?"
   ]
  },
  {
   "cell_type": "code",
   "execution_count": 22,
   "metadata": {},
   "outputs": [
    {
     "name": "stdout",
     "output_type": "stream",
     "text": [
      "[]\n"
     ]
    }
   ],
   "source": [
    "enrollment_outliers = filter_dataset(non_udacity_enrollments, \"account_key\", \"in\", outliers.keys())\n",
    "print enrollment_outliers"
   ]
  },
  {
   "cell_type": "markdown",
   "metadata": {},
   "source": [
    "If list is empty, the bug has been fixed. Else: The outliers has multiple entries in enrollments dataset. Let's see if others have the same characteristics:"
   ]
  },
  {
   "cell_type": "code",
   "execution_count": 24,
   "metadata": {},
   "outputs": [
    {
     "name": "stdout",
     "output_type": "stream",
     "text": [
      "995\n",
      "218\n"
     ]
    }
   ],
   "source": [
    "print len(engagement_by_account)\n",
    "number_of_enrollments = { }\n",
    "for account in engagement_by_account.iterkeys():\n",
    "    interest = filter_dataset(non_udacity_enrollments, \"account_key\", \"==\", account)\n",
    "    number_of_enrollments[account] = len(interest)\n",
    "number_of_multiple_enrollments = 0\n",
    "for (account, count) in number_of_enrollments.iteritems():\n",
    "    if count > 1:\n",
    "        number_of_multiple_enrollments += 1\n",
    "print number_of_multiple_enrollments"
   ]
  },
  {
   "cell_type": "markdown",
   "metadata": {},
   "source": [
    "218 accounts have multiple enrollments. The consequence is that time delta may be negative as we keep only the more recent enrollment. This results in counting too much engagements for severall accounts. the function has to be updated from:\n",
    "\n",
    "```python\n",
    "def within_one_week(join_date, engagement_date):\n",
    "    time_delta = engagement_date - join_date\n",
    "    return time_delta.days < 7\n",
    "```\n",
    "\n",
    "to:\n",
    "\n",
    "```python\n",
    "def within_one_week(join_date, engagement_date):\n",
    "    time_delta = engagement_date - join_date\n",
    "    return 0 <= time_delta.days < 7\n",
    "```"
   ]
  },
  {
   "cell_type": "markdown",
   "metadata": {},
   "source": [
    "## Lessons Completed in First Week"
   ]
  },
  {
   "cell_type": "code",
   "execution_count": 25,
   "metadata": {},
   "outputs": [
    {
     "name": "stdout",
     "output_type": "stream",
     "text": [
      "Mean: 306.708326753\n",
      "Standard deviation: 412.996933409\n",
      "Minimum: 0.0\n",
      "Maximum: 3564.7332645\n",
      "Mean: 1.63618090452\n",
      "Standard deviation: 3.00256129983\n",
      "Minimum: 0\n",
      "Maximum: 36\n"
     ]
    }
   ],
   "source": [
    "#####################################\n",
    "#                 9                 #\n",
    "#####################################\n",
    "\n",
    "## Adapt the code above to find the mean, standard deviation, minimum, and maximum for\n",
    "## the number of lessons completed by each student during the first week. Try creating\n",
    "## one or more functions to re-use the code above.\n",
    "\n",
    "def aggregate_engagements(data, key):\n",
    "    aggregate_by_account = { }\n",
    "    for account_key, engagement_for_student in data.items():\n",
    "        aggregate = 0\n",
    "        for engagement_record in engagement_for_student:\n",
    "            aggregate += engagement_record[key]\n",
    "        aggregate_by_account[account_key] = aggregate\n",
    "    aggregate = aggregate_by_account.values()\n",
    "    print 'Mean:', np.mean(aggregate)\n",
    "    print 'Standard deviation:', np.std(aggregate)\n",
    "    print 'Minimum:', np.min(aggregate)\n",
    "    print 'Maximum:', np.max(aggregate)\n",
    "        \n",
    "aggregate_engagements(engagement_by_account, \"total_minutes_visited\")\n",
    "aggregate_engagements(engagement_by_account, \"lessons_completed\")"
   ]
  },
  {
   "cell_type": "markdown",
   "metadata": {},
   "source": [
    "## Number of Visits in First Week"
   ]
  },
  {
   "cell_type": "code",
   "execution_count": 26,
   "metadata": {},
   "outputs": [
    {
     "name": "stdout",
     "output_type": "stream",
     "text": [
      "Mean: 2.86733668342\n",
      "Standard deviation: 2.25519800292\n",
      "Minimum: 0\n",
      "Maximum: 7\n"
     ]
    }
   ],
   "source": [
    "######################################\n",
    "#                 10                 #\n",
    "######################################\n",
    "\n",
    "## Find the mean, standard deviation, minimum, and maximum for the number of\n",
    "## days each student visits the classroom during the first week.\n",
    "\n",
    "engagement_by_account = defaultdict(list)\n",
    "for engagement_record in paid_engagement_in_first_week:\n",
    "    account_key = engagement_record['account_key']\n",
    "    if engagement_record['num_courses_visited'] > 0:\n",
    "        engagement_record['has_visited'] = 1\n",
    "    else:\n",
    "        engagement_record['has_visited'] = 0\n",
    "    engagement_by_account[account_key].append(engagement_record)\n",
    "    \n",
    "aggregate_engagements(engagement_by_account, \"has_visited\")"
   ]
  },
  {
   "cell_type": "markdown",
   "metadata": {},
   "source": [
    "## Splitting out Passing Students"
   ]
  },
  {
   "cell_type": "code",
   "execution_count": 38,
   "metadata": {},
   "outputs": [
    {
     "name": "stdout",
     "output_type": "stream",
     "text": [
      "Total of submissions for paid students:  3618\n",
      "{u'lesson_key': u'3176718735', u'processing_state': u'EVALUATED', u'account_key': u'256', u'assigned_rating': u'PASSED', u'completion_date': datetime.datetime(2015, 1, 20, 0, 0), u'creation_date': datetime.datetime(2015, 1, 20, 0, 0)}\n",
      "Number of students who have passed:  647\n",
      "Number of students who have not passed:  348\n",
      "4527\n",
      "2392\n"
     ]
    }
   ],
   "source": [
    "######################################\n",
    "#                 11                 #\n",
    "######################################\n",
    "\n",
    "## Create two lists of engagement data for paid students in the first week.\n",
    "## The first list should contain data for students who eventually pass the\n",
    "## subway project, and the second list should contain data for students\n",
    "## who do not.\n",
    "\n",
    "subway_project_lesson_keys = ['746169184', '3176718735']\n",
    "\n",
    "#We only keep the submission of non udacity accounts, in the first 7 days:\n",
    "paid_submissions = [ ]\n",
    "for row in non_udacity_submissions:\n",
    "    account = row[\"account_key\"]\n",
    "    try:\n",
    "        join_date = paid_students[account]\n",
    "    except KeyError:\n",
    "        continue\n",
    "    paid_submissions.append(row)\n",
    "print \"Total of submissions for paid students: \", len(paid_submissions)\n",
    "\n",
    "#We first filter project submissions related to the project to analyze:\n",
    "filtered_project_submissions = filter_dataset(paid_submissions, \"lesson_key\", \n",
    "                                              \"in\", subway_project_lesson_keys)\n",
    "\n",
    "#We list passed projects and non-passed ones:\n",
    "passed_project_submissions = filter_dataset(filtered_project_submissions, \n",
    "                                            \"assigned_rating\", \"in\", [\"PASSED\", \"DISTINCTION\"])\n",
    "print passed_project_submissions[0]\n",
    "\n",
    "#Now we collect list of students who have passed the projects and list of students who have failed at least once:\n",
    "passing_students = set([row[\"account_key\"] for row in passed_project_submissions])\n",
    "non_passing_students = set(paid_students.keys()) - passing_students\n",
    "\n",
    "#We remove from non-passing list students any student who has passed the project\n",
    "print \"Number of students who have passed: \", len(passing_students)\n",
    "print \"Number of students who have not passed: \", len(non_passing_students)\n",
    "\n",
    "\n",
    "#We now filter engagements based on student list:\n",
    "passing_engagement = filter_dataset(paid_engagement_in_first_week, \"account_key\", \"in\", passing_students)\n",
    "non_passing_engagement = filter_dataset(paid_engagement_in_first_week, \"account_key\", \"in\", non_passing_students)\n",
    "\n",
    "print len(passing_engagement)\n",
    "print len(non_passing_engagement)"
   ]
  },
  {
   "cell_type": "markdown",
   "metadata": {},
   "source": [
    "## Comparing the Two Student Groups"
   ]
  },
  {
   "cell_type": "code",
   "execution_count": 43,
   "metadata": {},
   "outputs": [
    {
     "name": "stdout",
     "output_type": "stream",
     "text": [
      "Passing students\n",
      "----------------\n",
      "Total minutes visited\n",
      "Mean: 394.586046484\n",
      "Standard deviation: 448.499519327\n",
      "Minimum: 0.0\n",
      "Maximum: 3564.7332645\n",
      "Lessons completed\n",
      "Mean: 2.05255023184\n",
      "Standard deviation: 3.14222705558\n",
      "Minimum: 0\n",
      "Maximum: 36\n",
      "Number of visits\n",
      "Mean: 3.38485316847\n",
      "Standard deviation: 2.25882147092\n",
      "Minimum: 0\n",
      "Maximum: 7\n",
      "\n",
      "\n",
      "Non-passing students\n",
      "--------------------\n",
      "Total minutes visited\n",
      "Mean: 143.326474267\n",
      "Standard deviation: 269.538619011\n",
      "Minimum: 0.0\n",
      "Maximum: 1768.52274933\n",
      "Lessons completed\n",
      "Mean: 0.862068965517\n",
      "Standard deviation: 2.54915994183\n",
      "Minimum: 0\n",
      "Maximum: 27\n",
      "Number of visits\n",
      "Mean: 1.90517241379\n",
      "Standard deviation: 1.90573144136\n",
      "Minimum: 0\n",
      "Maximum: 7\n"
     ]
    }
   ],
   "source": [
    "######################################\n",
    "#                 12                 #\n",
    "######################################\n",
    "\n",
    "## Compute some metrics you're interested in and see how they differ for\n",
    "## students who pass the subway project vs. students who don't. A good\n",
    "## starting point would be the metrics we looked at earlier (minutes spent\n",
    "## in the classroom, lessons completed, and days visited).\n",
    "\n",
    "def aggregate_from_list(data, key):\n",
    "    aggregate_by_account =defaultdict(lambda : 0)\n",
    "    for row in data:        \n",
    "        account_key = row[\"account_key\"]\n",
    "        aggregate_by_account[account_key] += row[key]\n",
    "    aggregate = aggregate_by_account.values()\n",
    "    print 'Mean:', np.mean(aggregate)\n",
    "    print 'Standard deviation:', np.std(aggregate)\n",
    "    print 'Minimum:', np.min(aggregate)\n",
    "    print 'Maximum:', np.max(aggregate)\n",
    "    return aggregate\n",
    "\n",
    "print \"Passing students\"\n",
    "print \"----------------\"\n",
    "print \"Total minutes visited\"\n",
    "passed_minutes = aggregate_from_list(passing_engagement, \"total_minutes_visited\")\n",
    "print \"Lessons completed\"\n",
    "passed_lessons = aggregate_from_list(passing_engagement, \"lessons_completed\")\n",
    "print \"Number of visits\"\n",
    "passed_visits = aggregate_from_list(passing_engagement, \"has_visited\")\n",
    "\n",
    "print \"\\n\"\n",
    "print \"Non-passing students\"\n",
    "print \"--------------------\"\n",
    "print \"Total minutes visited\"\n",
    "non_passed_minutes = aggregate_from_list(non_passing_engagement, \"total_minutes_visited\")\n",
    "print \"Lessons completed\"\n",
    "non_passed_lessons = aggregate_from_list(non_passing_engagement, \"lessons_completed\")\n",
    "print \"Number of visits\"\n",
    "non_passed_visits = aggregate_from_list(non_passing_engagement, \"has_visited\")\n"
   ]
  },
  {
   "cell_type": "markdown",
   "metadata": {},
   "source": [
    "## Making Histograms"
   ]
  },
  {
   "cell_type": "code",
   "execution_count": 44,
   "metadata": {},
   "outputs": [
    {
     "data": {
      "text/plain": [
       "(array([ 272.,   34.,   17.,    9.,    6.,    2.,    1.,    5.,    0.,    2.]),\n",
       " array([    0.        ,   176.85227493,   353.70454987,   530.5568248 ,\n",
       "          707.40909973,   884.26137467,  1061.1136496 ,  1237.96592453,\n",
       "         1414.81819947,  1591.6704744 ,  1768.52274933]),\n",
       " <a list of 10 Patch objects>)"
      ]
     },
     "execution_count": 44,
     "metadata": {},
     "output_type": "execute_result"
    },
    {
     "data": {
      "image/png": "[encoded data removed]",
      "text/plain": [
       "<matplotlib.figure.Figure at 0x7f48a3522c10>"
      ]
     },
     "metadata": {},
     "output_type": "display_data"
    }
   ],
   "source": [
    "######################################\n",
    "#                 13                 #\n",
    "######################################\n",
    "\n",
    "## Make histograms of the three metrics we looked at earlier for both\n",
    "## students who passed the subway project and students who didn't. You\n",
    "## might also want to make histograms of any other metrics you examined.\n",
    "\n",
    "%matplotlib inline\n",
    "import matplotlib.pyplot as plt\n",
    "\n",
    "plt.hist(passed_minutes)\n",
    "plt.hist(non_passed_minutes)"
   ]
  },
  {
   "cell_type": "code",
   "execution_count": 45,
   "metadata": {},
   "outputs": [
    {
     "data": {
      "text/plain": [
       "(array([ 317.,   17.,    6.,    4.,    1.,    1.,    0.,    1.,    0.,    1.]),\n",
       " array([  0. ,   2.7,   5.4,   8.1,  10.8,  13.5,  16.2,  18.9,  21.6,\n",
       "         24.3,  27. ]),\n",
       " <a list of 10 Patch objects>)"
      ]
     },
     "execution_count": 45,
     "metadata": {},
     "output_type": "execute_result"
    },
    {
     "data": {
      "image/png": "[encoded data removed]",
      "text/plain": [
       "<matplotlib.figure.Figure at 0x7f48a3522ad0>"
      ]
     },
     "metadata": {},
     "output_type": "display_data"
    }
   ],
   "source": [
    "plt.hist(passed_lessons)\n",
    "plt.hist(non_passed_lessons)"
   ]
  },
  {
   "cell_type": "code",
   "execution_count": 46,
   "metadata": {},
   "outputs": [
    {
     "data": {
      "text/plain": [
       "(array([ 97.,  90.,  56.,   0.,  41.,  15.,   0.,  24.,  17.,   8.]),\n",
       " array([ 0. ,  0.7,  1.4,  2.1,  2.8,  3.5,  4.2,  4.9,  5.6,  6.3,  7. ]),\n",
       " <a list of 10 Patch objects>)"
      ]
     },
     "execution_count": 46,
     "metadata": {},
     "output_type": "execute_result"
    },
    {
     "data": {
      "image/png": "[encoded data removed]",
      "text/plain": [
       "<matplotlib.figure.Figure at 0x7f4872f89250>"
      ]
     },
     "metadata": {},
     "output_type": "display_data"
    }
   ],
   "source": [
    "plt.hist(passed_visits)\n",
    "plt.hist(non_passed_visits)"
   ]
  },
  {
   "cell_type": "markdown",
   "metadata": {},
   "source": [
    "## Improving Plots and Sharing Findings"
   ]
  },
  {
   "cell_type": "code",
   "execution_count": 30,
   "metadata": {
    "collapsed": true
   },
   "outputs": [],
   "source": [
    "######################################\n",
    "#                 14                 #\n",
    "######################################\n",
    "\n",
    "## Make a more polished version of at least one of your visualizations\n",
    "## from earlier. Try importing the seaborn library to make the visualization\n",
    "## look better, adding axis labels and a title, and changing one or more\n",
    "## arguments to the hist() function."
   ]
  }
 ],
 "metadata": {
  "kernelspec": {
   "display_name": "Python [default]",
   "language": "python",
   "name": "python2"
  },
  "language_info": {
   "codemirror_mode": {
    "name": "ipython",
    "version": 2
   },
   "file_extension": ".py",
   "mimetype": "text/x-python",
   "name": "python",
   "nbconvert_exporter": "python",
   "pygments_lexer": "ipython2",
   "version": "2.7.13"
  }
 },
 "nbformat": 4,
 "nbformat_minor": 1
}
