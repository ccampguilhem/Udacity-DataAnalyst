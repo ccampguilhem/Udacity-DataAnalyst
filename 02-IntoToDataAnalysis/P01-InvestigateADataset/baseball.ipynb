{
 "cells": [
  {
   "cell_type": "markdown",
   "metadata": {},
   "source": [
    "<a id='Top'/>"
   ]
  },
  {
   "cell_type": "markdown",
   "metadata": {},
   "source": [
    "# Analysis of baseball dataset\n",
    "[Cedric Campguilhem](https://github.com/ccampguilhem/Udacity-DataAnalyst)\n",
    "\n",
    "## Table of contents\n",
    "\n",
    "- [Prelude](#Prelude)\n",
    "- [Introduction](#Introduction)\n",
    "    - [Dataset description](#Dataset description)\n",
    "    - [Questions](#Questions)\n",
    "- [Data wrangling](#Data wrangling)\n",
    "    - [Master dataset](#Master dataset)\n",
    "    - [Wrap up](#Wrap up)\n",
    "- [Exploration](#Exploration)\n",
    "    - [Who plays baseball?](#Who plays baseball)\n",
    "    - [Typical carrier of a baseball player](#Typical carrier)\n",
    "- [Conclusions](#Conclusions)\n",
    "- [Appendix](#Appendix)"
   ]
  },
  {
   "cell_type": "markdown",
   "metadata": {},
   "source": [
    "<a id='Prelude'/>"
   ]
  },
  {
   "cell_type": "markdown",
   "metadata": {},
   "source": [
    "## Prelude *[top](#Top)*\n",
    "\n",
    "This notebook is a re-submission of the project. The analysis remains almost the same but few changes have been brought:\n",
    "* **Seaborn** has been used for anything related to plotting. I was using in the first submission a mix of pandas plot capabilities and some matplotlib functions of my own.\n",
    "* The **data wrangling** phase was previously made in a separate Python module and at different locations in notebook throughout the analysis, so I have regrouped most of the data wrangling in a dedicated section of the notebook. External module is then not required anymore. I also have added comments about missing values and outliers that were missing in previous submission.\n",
    "* The **notebook structure** has been reworked so that outline is better defined at the start of analysis and I have added a table of contents at the start so that it's easier to jump to locations in the notebook as it is now significantly larger. It also better reflects the whole data analysis process:\n",
    "    * Ask questions\n",
    "    * Wrangle\n",
    "    * Explore\n",
    "    * Draw conclusions\n",
    "    * Communicate"
   ]
  },
  {
   "cell_type": "markdown",
   "metadata": {},
   "source": [
    "<a id='Introduction'>"
   ]
  },
  {
   "cell_type": "markdown",
   "metadata": {},
   "source": [
    "## Introduction *[top](#Top)*\n",
    "\n",
    "This notebook is a project for the [Udacity Data Analyst Nanodegree Program](https://www.udacity.com/course/data-analyst-nanodegree--nd002) part of the Introduction to Data Analysis lesson. The lesson is about both numpy and pandas but as I a am a long time user of numpy I prefer to focus on pandas.\n",
    "\n",
    "I have chosen to investigate the baseball dataset through the eyes af an european profane."
   ]
  },
  {
   "cell_type": "markdown",
   "metadata": {},
   "source": [
    "<a id='Dataset description'>"
   ]
  },
  {
   "cell_type": "markdown",
   "metadata": {},
   "source": [
    "### Dataset description *[top](#Top)*\n",
    "\n",
    "The database has been collected by [Sean Lahman](http://www.baseball1.com) and contains statistics for the Major League Baseball from 1871 to nowdays.\n",
    "\n",
    "The database used in this project comes in a series of 27 csv files with various information releated to players, teams, batting statistics and much more. I only have used a subset of this database to perform the analysis. Dataset used will be explained in the [data wrangling](#Data wrangling) section."
   ]
  },
  {
   "cell_type": "markdown",
   "metadata": {},
   "source": [
    "<a id='Questions'>"
   ]
  },
  {
   "cell_type": "markdown",
   "metadata": {},
   "source": [
    "### Questions *[top](#Top)*\n",
    "\n",
    "As I am absolutely profane in baseball, I want first to see who plays baseball in the Major League Baseball and I come with a first series of questions:\n",
    "\n",
    "- Where players are from (country) ?\n",
    "- When (age) players make ther debut ? \n",
    "- When (age) players usally retire ? \n",
    "- How long lasts a baseball carrier ?\n",
    "- What is the the morphotype of a baseball player ? \n",
    "- Has the average morphotype changed in history of baseball ?\n",
    "\n",
    "I also want to be a bit more familiar with different teams playing in the two major leagues (American League and National League) and here are the questions I have:\n",
    "\n",
    "- Which are active teams in National League and American League ?\n",
    "- Is there any team that changed league or division in its history ?\n",
    "- How many titles (league winner) teams have in their respective league (including non-active teams) ?\n",
    "- Which are the teams with the most wins in World Series in history ?\n",
    "- How many world series have been won by teams from National League and American League ?\n",
    "- Which teams have the best win ratio after regular season ?\n",
    "- Which teams have the best average win ratio on multiple seasons ?\n",
    "- How attendance is related to win ratio in league ?\n",
    "\n",
    "Throught the exploration of teams, one specific team (Seattle Mariners) caught my attention. As we will see later in the notebook, this team present a weird specificity:\n",
    "\n",
    "- The team holds the records of wins in a season (2001)...\n",
    "- ...and is part of the few teams which has never won the League (and World Series as a consequence).\n",
    "- The 2001 season was also exceptional for the team compared to the results of previous and later seasons.\n",
    "\n",
    "My list of questions has then be enriched:\n",
    "\n",
    "- Was there any change in the team (manager and players) in 2001 ?\n",
    "- How new recruits had contributed to the team success and how they compared to the rest of players in the league ?"
   ]
  },
  {
   "cell_type": "markdown",
   "metadata": {},
   "source": [
    "<a id='Data wrangling'>"
   ]
  },
  {
   "cell_type": "markdown",
   "metadata": {},
   "source": [
    "## Data wrangling *[top](#Top)*"
   ]
  },
  {
   "cell_type": "markdown",
   "metadata": {},
   "source": [
    "<a id=\"Master dataset\"/>"
   ]
  },
  {
   "cell_type": "markdown",
   "metadata": {},
   "source": [
    "Before we start, we need to import all the librairies and define global variables we need:"
   ]
  },
  {
   "cell_type": "code",
   "execution_count": 266,
   "metadata": {
    "collapsed": true
   },
   "outputs": [],
   "source": [
    "#Python standard library\n",
    "import os\n",
    "import datetime\n",
    "import functools\n",
    "\n",
    "#Pandas data analysis library and numpy array library\n",
    "import pandas as pd\n",
    "import numpy as np\n",
    "\n",
    "#Seaborn visualization library\n",
    "import matplotlib.pyplot as plt\n",
    "import seaborn as sns"
   ]
  },
  {
   "cell_type": "code",
   "execution_count": 61,
   "metadata": {
    "collapsed": true
   },
   "outputs": [],
   "source": [
    "#Path of datasets\n",
    "DATASET_PATH = \"./dataset/core\""
   ]
  },
  {
   "cell_type": "code",
   "execution_count": 65,
   "metadata": {
    "collapsed": true
   },
   "outputs": [],
   "source": [
    "#Enable inline plots in the report\n",
    "%matplotlib inline"
   ]
  },
  {
   "cell_type": "code",
   "execution_count": 71,
   "metadata": {},
   "outputs": [
    {
     "data": {
      "text/plain": [
       "<matplotlib.figure.Figure at 0x7f0a712c5a90>"
      ]
     },
     "metadata": {},
     "output_type": "display_data"
    }
   ],
   "source": [
    "#Configure seaborn plot style\n",
    "sns.set_style('whitegrid')\n",
    "sns.despine()"
   ]
  },
  {
   "cell_type": "code",
   "execution_count": 283,
   "metadata": {
    "collapsed": true
   },
   "outputs": [],
   "source": [
    "#Configure grouping of players by birth date. This is used in master dataset cleaning to add a categorical field\n",
    "BIRTH_PERIODS = [1900, 1930, 1960, 1990]"
   ]
  },
  {
   "cell_type": "code",
   "execution_count": 295,
   "metadata": {
    "collapsed": true
   },
   "outputs": [],
   "source": [
    "#The following functions enable to control the appearance of plots using the birth period categorcial field\n",
    "def birth_periods_order(periods):\n",
    "    \"\"\"\n",
    "    Return the name of categorical fields based on specified periods.\n",
    "    \n",
    "    For example, if periods specified are [1900, 1950, 2000], the return list is:\n",
    "    [\"<1900\", \"[1900, 1950)\", \"[1950, 2000)\", \">2000\"]\n",
    "    \n",
    "    - periods: a sequence of birth year\n",
    "    - return: sorted list of categorical values\n",
    "    \"\"\"\n",
    "    values = []\n",
    "    for i in xrange(len(periods) + 1):\n",
    "        if i == 0:\n",
    "            values.append(\"<{0}\".format(periods[0]))\n",
    "        elif i == len(periods):\n",
    "            values.append(\">={0}\".format(periods[i-1]))\n",
    "        else:\n",
    "            values.append(\"[{0}, {1})\".format(periods[i-1], periods[i]))\n",
    "    return values"
   ]
  },
  {
   "cell_type": "markdown",
   "metadata": {},
   "source": [
    "### Master dataset *[top](#Top)*\n",
    "\n",
    "The master dataset includes players and manager biography. When they have made their debut, final game, where they are from but also their height and weight. So basically, this dataset by its own is enough to answer my first series of [questions](#Questions).\n",
    "\n",
    "Here is the description of the dataset provided with the database:\n",
    "\n",
    "```\n",
    "playerID       A unique code asssigned to each player.  The playerID links\n",
    "               the data in this file with records in the other files.\n",
    "birthYear      Year player was born\n",
    "birthMonth     Month player was born\n",
    "birthDay       Day player was born\n",
    "birthCountry   Country where player was born\n",
    "birthState     State where player was born\n",
    "birthCity      City where player was born\n",
    "deathYear      Year player died\n",
    "deathMonth     Month player died\n",
    "deathDay       Day player died\n",
    "deathCountry   Country where player died\n",
    "deathState     State where player died\n",
    "deathCity      City where player died\n",
    "nameFirst      Player's first name\n",
    "nameLast       Player's last name\n",
    "nameGiven      Player's given name (typically first and middle)\n",
    "weight         Player's weight in pounds\n",
    "height         Player's height in inches\n",
    "bats           Player's batting hand (left, right, or both)         \n",
    "throws         Player's throwing hand (left or right)\n",
    "debut          Date that player made first major league appearance\n",
    "finalGame      Date that player made first major league appearance (blank if still active)\n",
    "retroID        ID used by retrosheet\n",
    "bbrefID        ID used by Baseball Reference website\n",
    "```\n",
    "\n",
    "\n",
    "There are few fields in the dataset that I am not interested with and that will be dropped. \n",
    "\n",
    "Dates (birth, debut, final game) are also collected in a non-consistent way so I have re-formatted them as Python datetime objects, that will help me doing some math with dates later on. Yet, I have kept the birthYear field for convenience. I also have added a categorical field (birthPeriod) which group players based on their birth date.\n",
    "\n",
    "Some players have no playerID, I have removed them from the dataset.\n",
    "\n",
    "Few countries are recorded using abbreviations, I have replaced it with full name.\n",
    "\n",
    "I also have assembled in a fullName field the first and last names of players and managers.\n",
    "\n",
    "I am not used to US units of height and weight so I have converted values in centimeters and kilograms.\n",
    "\n",
    "Finally, I am using the playerID field as index of the master data frame."
   ]
  },
  {
   "cell_type": "markdown",
   "metadata": {},
   "source": [
    "Here are the functions used to clean the dataset. They will be used in `apply`, `applymap` and `assign` methods of pandas data frames objects:"
   ]
  },
  {
   "cell_type": "code",
   "execution_count": 296,
   "metadata": {
    "collapsed": true
   },
   "outputs": [],
   "source": [
    "def rename_countries(country):\n",
    "    \"\"\"\n",
    "    Rename country.\n",
    "    \n",
    "    Removes abreviations in country names.\n",
    "    \n",
    "    - country: country to be renamed\n",
    "    + return: renamed country\n",
    "    \"\"\"\n",
    "    if country == \"CAN\":\n",
    "        return \"Canada\"\n",
    "    elif country == \"D.R.\":\n",
    "        return \"Dominican Republic\"\n",
    "    elif country == \"P.R.\":\n",
    "        return \"Puerto Rico\"\n",
    "    elif country == \"V.I.\":\n",
    "        return \"British Virgin Islands\"\n",
    "    else:\n",
    "        return country\n",
    "        \n",
    "\n",
    "def convert_units(column):\n",
    "    \"\"\"\n",
    "    Convert units in given column.\n",
    "    \n",
    "    Inches are converted into centimeters and pounds are converted into \n",
    "    kilograms.\n",
    "    \n",
    "    - column: series to be converted\n",
    "    - return: series with converted units\n",
    "    \"\"\"\n",
    "    if column.name == \"weight\":\n",
    "        return column * 0.453592\n",
    "    elif column.name == \"height\":\n",
    "        return column * 2.54\n",
    "    else:\n",
    "        return column\n",
    "        \n",
    "        \n",
    "def convert_dates(column):\n",
    "    \"\"\"\n",
    "    Convert dates from string to date time objects.\n",
    "    \n",
    "    The dates format are YYYY-MM-DD in the input data.\n",
    "    \n",
    "    - column: series to be converted\n",
    "    - return: series with datetime data type\n",
    "    \"\"\"\n",
    "    def _convert_date(date):\n",
    "        try:\n",
    "            return datetime.datetime.strptime(date, \"%Y-%m-%d\")\n",
    "        except TypeError:\n",
    "            return date\n",
    "    \n",
    "    if column.name in [\"debut\", \"finalGame\"]:\n",
    "        return column.apply(_convert_date)\n",
    "    else:\n",
    "        return column\n",
    "\n",
    "\n",
    "def combine_names(df):\n",
    "    \"\"\"\n",
    "    Combine first and last name in a series.\n",
    "    \n",
    "    - df: master data frame\n",
    "    - return: series with full name\n",
    "    \"\"\"\n",
    "    return pd.Series([\"%s %s\" % (first, last) for (first, last) in zip(df[u\"nameFirst\"], df[u\"nameLast\"])])\n",
    "\n",
    "\n",
    "def group_by_birth_year(df, bins):\n",
    "    \"\"\"\n",
    "    Group row in data frame by birth year as specified by user.\n",
    "    \n",
    "    The following categories are created:\n",
    "    - birthYear < bins[0]\n",
    "    - bins[0] <= birthYear < bins[1]\n",
    "    - ...\n",
    "    - bins[n-1] <= birthYear < bins[n]\n",
    "    - birthYear >= bins[n]\n",
    "    \n",
    "    - df: input data frame\n",
    "    - bins: definition of bins intervals\n",
    "    - return: series with categories\n",
    "    \"\"\"\n",
    "    birthYear = df[\"birthYear\"]\n",
    "    series = np.zeros(shape=len(birthYear), dtype=object)\n",
    "    values = birth_periods_order(bins)\n",
    "    for i in xrange(len(bins) + 1):\n",
    "        if i == 0:\n",
    "            series[birthYear < bins[0]] = values[0]\n",
    "        elif i == len(bins):\n",
    "            series[birthYear >= bins[i-1]] = values[-1]\n",
    "        else:\n",
    "            mask_low = bins[i-1] <= birthYear\n",
    "            mask_high = birthYear < bins[i]\n",
    "            series[np.logical_and(mask_low, mask_high)] = values[i]\n",
    "    return pd.Series(series, index=birthYear.index)\n",
    "\n",
    "\n",
    "def clean_master(df):\n",
    "    \"\"\"\n",
    "    Clean the master data frame\n",
    "    \n",
    "    Drop unused columns, drop any row with a null player ID and uses playerID\n",
    "    as index. Convert height and weight units, create a new column with birth \n",
    "    date as datetime object and convert debut and finalGame dates into datetime\n",
    "    objects.\n",
    "    \n",
    "    - df: master data frame\n",
    "    - return: cleaned data frame\n",
    "    \"\"\"\n",
    "    #Drop rows where player ID is null\n",
    "    df.dropna(axis=0, subset=['playerID'], inplace=True)\n",
    "    \n",
    "    #Create a datetime object for birth date (not sure if it can be vectorized)\n",
    "    birth_year = df[\"birthYear\"]\n",
    "    birth_month = df[\"birthMonth\"]\n",
    "    birth_day = df[\"birthDay\"]\n",
    "    birth_date = [ ]\n",
    "    for (year, month, day) in zip(birth_year, birth_month, birth_day):\n",
    "        try:\n",
    "            birth_date.append(datetime.datetime(int(year), int(month), \n",
    "                    int(day)))\n",
    "        except ValueError:\n",
    "            birth_date.append(None)\n",
    "    df = df.assign(birthDate=birth_date)\n",
    "    \n",
    "    #We create a new categorical field birth period\n",
    "    #We use a little trick here to adapt our function to what assign method expects\n",
    "    group_function = functools.partial(group_by_birth_year, bins=BIRTH_PERIODS)\n",
    "    df = df.assign(birthPeriod=group_function)\n",
    "\n",
    "    #Combine first name and last name into a full name:\n",
    "    df = df.assign(fullName=combine_names)\n",
    "    \n",
    "    #Drop unused columns\n",
    "    df.drop([\"birthMonth\", \"birthDay\", \"birthState\", \"birthCity\", \"deathYear\", \n",
    "             \"deathMonth\", \"deathDay\", \"deathCountry\", \"deathCity\", \n",
    "             \"deathState\", \"bats\", \"throws\", \"bbrefID\", \"retroID\", \n",
    "             \"nameFirst\", \"nameLast\", \"nameGiven\"], \n",
    "             axis=1, inplace=True)\n",
    " \n",
    "    #Rename countries (element-wise operation)\n",
    "    df = df.applymap(rename_countries)\n",
    "    \n",
    "    #Convert units (column-wise operation)\n",
    "    df = df.apply(convert_units)\n",
    "    \n",
    "    #Convert dates\n",
    "    df = df.apply(convert_dates)\n",
    "    \n",
    "    #Set player ID as index, we do this at the end otherwise the assign of new series fails \n",
    "    df.set_index(\"playerID\", inplace=True)\n",
    "\n",
    "    return df"
   ]
  },
  {
   "cell_type": "markdown",
   "metadata": {},
   "source": [
    "The master dataframe may now be read and cleaned:"
   ]
  },
  {
   "cell_type": "code",
   "execution_count": 297,
   "metadata": {},
   "outputs": [
    {
     "data": {
      "text/html": [
       "<div>\n",
       "<style>\n",
       "    .dataframe thead tr:only-child th {\n",
       "        text-align: right;\n",
       "    }\n",
       "\n",
       "    .dataframe thead th {\n",
       "        text-align: left;\n",
       "    }\n",
       "\n",
       "    .dataframe tbody tr th {\n",
       "        vertical-align: top;\n",
       "    }\n",
       "</style>\n",
       "<table border=\"1\" class=\"dataframe\">\n",
       "  <thead>\n",
       "    <tr style=\"text-align: right;\">\n",
       "      <th></th>\n",
       "      <th>birthYear</th>\n",
       "      <th>birthCountry</th>\n",
       "      <th>weight</th>\n",
       "      <th>height</th>\n",
       "      <th>debut</th>\n",
       "      <th>finalGame</th>\n",
       "      <th>birthDate</th>\n",
       "      <th>birthPeriod</th>\n",
       "      <th>fullName</th>\n",
       "    </tr>\n",
       "    <tr>\n",
       "      <th>playerID</th>\n",
       "      <th></th>\n",
       "      <th></th>\n",
       "      <th></th>\n",
       "      <th></th>\n",
       "      <th></th>\n",
       "      <th></th>\n",
       "      <th></th>\n",
       "      <th></th>\n",
       "      <th></th>\n",
       "    </tr>\n",
       "  </thead>\n",
       "  <tbody>\n",
       "    <tr>\n",
       "      <th>aardsda01</th>\n",
       "      <td>1981.0</td>\n",
       "      <td>USA</td>\n",
       "      <td>97.522280</td>\n",
       "      <td>190.50</td>\n",
       "      <td>2004-04-06</td>\n",
       "      <td>2015-08-23</td>\n",
       "      <td>1981-12-27</td>\n",
       "      <td>[1960, 1990)</td>\n",
       "      <td>David Aardsma</td>\n",
       "    </tr>\n",
       "    <tr>\n",
       "      <th>aaronha01</th>\n",
       "      <td>1934.0</td>\n",
       "      <td>USA</td>\n",
       "      <td>81.646560</td>\n",
       "      <td>182.88</td>\n",
       "      <td>1954-04-13</td>\n",
       "      <td>1976-10-03</td>\n",
       "      <td>1934-02-05</td>\n",
       "      <td>[1930, 1960)</td>\n",
       "      <td>Hank Aaron</td>\n",
       "    </tr>\n",
       "    <tr>\n",
       "      <th>aaronto01</th>\n",
       "      <td>1939.0</td>\n",
       "      <td>USA</td>\n",
       "      <td>86.182480</td>\n",
       "      <td>190.50</td>\n",
       "      <td>1962-04-10</td>\n",
       "      <td>1971-09-26</td>\n",
       "      <td>1939-08-05</td>\n",
       "      <td>[1930, 1960)</td>\n",
       "      <td>Tommie Aaron</td>\n",
       "    </tr>\n",
       "    <tr>\n",
       "      <th>aasedo01</th>\n",
       "      <td>1954.0</td>\n",
       "      <td>USA</td>\n",
       "      <td>86.182480</td>\n",
       "      <td>190.50</td>\n",
       "      <td>1977-07-26</td>\n",
       "      <td>1990-10-03</td>\n",
       "      <td>1954-09-08</td>\n",
       "      <td>[1930, 1960)</td>\n",
       "      <td>Don Aase</td>\n",
       "    </tr>\n",
       "    <tr>\n",
       "      <th>abadan01</th>\n",
       "      <td>1972.0</td>\n",
       "      <td>USA</td>\n",
       "      <td>83.460928</td>\n",
       "      <td>185.42</td>\n",
       "      <td>2001-09-10</td>\n",
       "      <td>2006-04-13</td>\n",
       "      <td>1972-08-25</td>\n",
       "      <td>[1960, 1990)</td>\n",
       "      <td>Andy Abad</td>\n",
       "    </tr>\n",
       "  </tbody>\n",
       "</table>\n",
       "</div>"
      ],
      "text/plain": [
       "           birthYear birthCountry     weight  height      debut  finalGame  \\\n",
       "playerID                                                                     \n",
       "aardsda01     1981.0          USA  97.522280  190.50 2004-04-06 2015-08-23   \n",
       "aaronha01     1934.0          USA  81.646560  182.88 1954-04-13 1976-10-03   \n",
       "aaronto01     1939.0          USA  86.182480  190.50 1962-04-10 1971-09-26   \n",
       "aasedo01      1954.0          USA  86.182480  190.50 1977-07-26 1990-10-03   \n",
       "abadan01      1972.0          USA  83.460928  185.42 2001-09-10 2006-04-13   \n",
       "\n",
       "           birthDate   birthPeriod       fullName  \n",
       "playerID                                           \n",
       "aardsda01 1981-12-27  [1960, 1990)  David Aardsma  \n",
       "aaronha01 1934-02-05  [1930, 1960)     Hank Aaron  \n",
       "aaronto01 1939-08-05  [1930, 1960)   Tommie Aaron  \n",
       "aasedo01  1954-09-08  [1930, 1960)       Don Aase  \n",
       "abadan01  1972-08-25  [1960, 1990)      Andy Abad  "
      ]
     },
     "execution_count": 297,
     "metadata": {},
     "output_type": "execute_result"
    }
   ],
   "source": [
    "master_df = clean_master(pd.read_csv(os.path.join(DATASET_PATH, \"Master.csv\")))\n",
    "master_df.head()"
   ]
  },
  {
   "cell_type": "markdown",
   "metadata": {},
   "source": [
    "This dataset is mainly explored in the [Who plays baseball?](#Who plays baseball) and [Typical carrier of a baseball player](#Typical carrier) sections."
   ]
  },
  {
   "cell_type": "markdown",
   "metadata": {},
   "source": [
    "<a id='Teams dataset'/>"
   ]
  },
  {
   "cell_type": "markdown",
   "metadata": {},
   "source": [
    "### Teams dataset *[top](#Top)*\n",
    "\n",
    "blabla"
   ]
  },
  {
   "cell_type": "code",
   "execution_count": null,
   "metadata": {
    "collapsed": true
   },
   "outputs": [],
   "source": []
  },
  {
   "cell_type": "markdown",
   "metadata": {},
   "source": [
    "<a id='Wrap up'/>"
   ]
  },
  {
   "cell_type": "markdown",
   "metadata": {},
   "source": [
    "### Wrap up *[top](#Top)*\n",
    "\n",
    "The dataset used in the analysis are the following ones:\n",
    "\n",
    "Name      | Description                                     | Source        | Explored in sections\n",
    ":---------|:------------------------------------------------|:------------- |:---------------------\n",
    "master_df | Player and manager biography, height and weight | Master.csv    | [Who plays baseball?](#Who plays baseball) [Typical carrier of a baseball player](#Typical carrier)\n",
    "teams_df  | Yearly stats and standings in league            | Teams.csv     | "
   ]
  },
  {
   "cell_type": "markdown",
   "metadata": {},
   "source": [
    "<a id='Exploration'/>"
   ]
  },
  {
   "cell_type": "markdown",
   "metadata": {},
   "source": [
    "## Exploration *[top](#Top)*"
   ]
  },
  {
   "cell_type": "markdown",
   "metadata": {},
   "source": [
    "<a id='Who plays baseball'/>"
   ]
  },
  {
   "cell_type": "markdown",
   "metadata": {},
   "source": [
    "### Who plays baseball? *[top](#Top)*"
   ]
  },
  {
   "cell_type": "markdown",
   "metadata": {},
   "source": [
    "#### Country of origin"
   ]
  },
  {
   "cell_type": "code",
   "execution_count": 298,
   "metadata": {},
   "outputs": [
    {
     "data": {
      "text/plain": [
       "[<matplotlib.text.Text at 0x7f0a6917cfd0>,\n",
       " <matplotlib.text.Text at 0x7f0a63e2ef90>]"
      ]
     },
     "execution_count": 298,
     "metadata": {},
     "output_type": "execute_result"
    },
    {
     "data": {
      "image/png": "[encoded data removed]",
      "text/plain": [
       "<matplotlib.figure.Figure at 0x7f0a6a6e9410>"
      ]
     },
     "metadata": {},
     "output_type": "display_data"
    }
   ],
   "source": [
    "#Some rows have no birthCountry defined, we remove them from the dataset the time we explore the data.\n",
    "#We also reset the index to \"count\" the playerID field later on\n",
    "country_of_origin = master_df[master_df[\"birthCountry\"].notnull()].reset_index()\n",
    "\n",
    "#We simply group players and managers by birth country and show results in a form of a bar plot\n",
    "country_of_origin_count = country_of_origin.groupby('birthCountry', as_index=False).count()\n",
    "figure = plt.figure(figsize=(12, 6))\n",
    "ax = figure.add_subplot(111)\n",
    "plt.setp(ax.get_xticklabels(), rotation=90)\n",
    "ax.set_ylabel(\"Number of players\")\n",
    "ax = sns.barplot(x=\"birthCountry\", y=\"playerID\", data=country_of_origin_count, ax=ax)\n",
    "ax.set(xlabel='Country of origin', ylabel='Number of players')"
   ]
  },
  {
   "cell_type": "markdown",
   "metadata": {},
   "source": [
    "Players are massively born in the USA. Other major countries of origin are Dominican Republic, Canada, Puerto Rico, Venezuela and Cuba."
   ]
  },
  {
   "cell_type": "markdown",
   "metadata": {},
   "source": [
    "#### What is the morphology of a baseball player?"
   ]
  },
  {
   "cell_type": "code",
   "execution_count": 299,
   "metadata": {},
   "outputs": [],
   "source": [
    "#We remove from the dataframe players who have no recorded weight, height or birth year\n",
    "weight_and_height = master_df[master_df['weight'].notnull() & master_df['height'].notnull() \n",
    "                              & master_df['birthYear'].notnull()]"
   ]
  },
  {
   "cell_type": "code",
   "execution_count": 300,
   "metadata": {},
   "outputs": [
    {
     "data": {
      "text/plain": [
       "[<matplotlib.text.Text at 0x7f0a68941c50>,\n",
       " <matplotlib.text.Text at 0x7f0a63b34b10>]"
      ]
     },
     "execution_count": 300,
     "metadata": {},
     "output_type": "execute_result"
    },
    {
     "data": {
      "image/png": "[encoded data removed]",
      "text/plain": [
       "<matplotlib.figure.Figure at 0x7f0a68a954d0>"
      ]
     },
     "metadata": {},
     "output_type": "display_data"
    }
   ],
   "source": [
    "#We use this new categorical field to do a box plot for weight\n",
    "figure = plt.figure(figsize=(12, 6))\n",
    "ax = figure.add_subplot(111)\n",
    "order = birth_periods_order(BIRTH_PERIODS)\n",
    "ax = sns.boxplot(x=\"birthPeriod\", y=\"weight\", data=weight_and_height, order=order, ax=ax);\n",
    "ax.set(xlabel='Birth period', ylabel='Weight (kg)')"
   ]
  },
  {
   "cell_type": "markdown",
   "metadata": {},
   "source": [
    "The box plot displays the 3 quartiles (25%, mean and 50%) along with individuals out of 1.5 interquartile range (outliers). Outliers are represented independently. We can see that they are mostly on the high end of weight. One outlier in the period [1900,1930) is particularly low and one in the [1960, 1990) is particularly high.\n",
    "\n",
    "The box plot shows that weight of players tend to increase over the years. After 1960, average weight is higher and distribution is more spread out as well."
   ]
  },
  {
   "cell_type": "code",
   "execution_count": 301,
   "metadata": {},
   "outputs": [
    {
     "data": {
      "text/plain": [
       "birthYear                      1925\n",
       "birthCountry                    USA\n",
       "weight                      29.4835\n",
       "height                       109.22\n",
       "debut           1951-08-19 00:00:00\n",
       "finalGame       1951-08-19 00:00:00\n",
       "birthDate       1925-06-08 00:00:00\n",
       "birthPeriod            [1900, 1930)\n",
       "fullName               Eddie Gaedel\n",
       "Name: gaedeed01, dtype: object"
      ]
     },
     "execution_count": 301,
     "metadata": {},
     "output_type": "execute_result"
    }
   ],
   "source": [
    "#We can easilly identify the outliers with very small weight\n",
    "index = weight_and_height[weight_and_height[\"birthPeriod\"] == \"[1900, 1930)\"][\"weight\"].idxmin(axis=0)\n",
    "weight_and_height.loc[index]"
   ]
  },
  {
   "cell_type": "markdown",
   "metadata": {},
   "source": [
    "According to [Wikipedia](https://en.wikipedia.org/wiki/Eddie_Gaedel), Eddie Gaedel was an American with dwarfism who played a single game in Major League Baseball."
   ]
  },
  {
   "cell_type": "code",
   "execution_count": 302,
   "metadata": {},
   "outputs": [
    {
     "data": {
      "text/plain": [
       "[<matplotlib.text.Text at 0x7f0a68cd9590>,\n",
       " <matplotlib.text.Text at 0x7f0a63f19bd0>]"
      ]
     },
     "execution_count": 302,
     "metadata": {},
     "output_type": "execute_result"
    },
    {
     "data": {
      "image/png": "[encoded data removed]",
      "text/plain": [
       "<matplotlib.figure.Figure at 0x7f0a68d0b9d0>"
      ]
     },
     "metadata": {},
     "output_type": "display_data"
    }
   ],
   "source": [
    "#Alternatively, we can use a violin plot for height distributions over years:\n",
    "figure = plt.figure(figsize=(12, 6))\n",
    "ax = figure.add_subplot(111)\n",
    "order = birth_periods_order(BIRTH_PERIODS)\n",
    "ax = sns.violinplot(x=\"birthPeriod\", y=\"height\", data=weight_and_height, order=order, ax=ax);\n",
    "ax.set(xlabel='Birth period', ylabel='Height (cm)')"
   ]
  },
  {
   "cell_type": "markdown",
   "metadata": {},
   "source": [
    "The violin plot combines a box plot with a [kernel density estimator](https://en.wikipedia.org/wiki/Kernel_density_estimation) which represents an estimate of the probability density function of height.\n",
    "\n",
    "The height of players has slightly increased. We can still observe the same outlier (Eddie Gaedel) in the [1900, 1930) period. The visibility of outliers and 1.5 interquartile range is less visible in violin plot."
   ]
  },
  {
   "cell_type": "code",
   "execution_count": 303,
   "metadata": {},
   "outputs": [
    {
     "data": {
      "text/html": [
       "<div>\n",
       "<style>\n",
       "    .dataframe thead tr:only-child th {\n",
       "        text-align: right;\n",
       "    }\n",
       "\n",
       "    .dataframe thead th {\n",
       "        text-align: left;\n",
       "    }\n",
       "\n",
       "    .dataframe tbody tr th {\n",
       "        vertical-align: top;\n",
       "    }\n",
       "</style>\n",
       "<table border=\"1\" class=\"dataframe\">\n",
       "  <thead>\n",
       "    <tr style=\"text-align: right;\">\n",
       "      <th></th>\n",
       "      <th>birthYear</th>\n",
       "      <th>weight</th>\n",
       "      <th>height</th>\n",
       "    </tr>\n",
       "  </thead>\n",
       "  <tbody>\n",
       "    <tr>\n",
       "      <th>count</th>\n",
       "      <td>18001.000000</td>\n",
       "      <td>18001.000000</td>\n",
       "      <td>18001.000000</td>\n",
       "    </tr>\n",
       "    <tr>\n",
       "      <th>mean</th>\n",
       "      <td>1933.777735</td>\n",
       "      <td>84.248295</td>\n",
       "      <td>183.531050</td>\n",
       "    </tr>\n",
       "    <tr>\n",
       "      <th>std</th>\n",
       "      <td>39.960536</td>\n",
       "      <td>9.165279</td>\n",
       "      <td>6.516016</td>\n",
       "    </tr>\n",
       "    <tr>\n",
       "      <th>min</th>\n",
       "      <td>1835.000000</td>\n",
       "      <td>57.152592</td>\n",
       "      <td>160.020000</td>\n",
       "    </tr>\n",
       "    <tr>\n",
       "      <th>25%</th>\n",
       "      <td>1899.000000</td>\n",
       "      <td>77.110640</td>\n",
       "      <td>180.340000</td>\n",
       "    </tr>\n",
       "    <tr>\n",
       "      <th>50%</th>\n",
       "      <td>1940.000000</td>\n",
       "      <td>83.914520</td>\n",
       "      <td>182.880000</td>\n",
       "    </tr>\n",
       "    <tr>\n",
       "      <th>75%</th>\n",
       "      <td>1970.000000</td>\n",
       "      <td>90.718400</td>\n",
       "      <td>187.960000</td>\n",
       "    </tr>\n",
       "    <tr>\n",
       "      <th>max</th>\n",
       "      <td>1996.000000</td>\n",
       "      <td>111.130040</td>\n",
       "      <td>208.280000</td>\n",
       "    </tr>\n",
       "  </tbody>\n",
       "</table>\n",
       "</div>"
      ],
      "text/plain": [
       "          birthYear        weight        height\n",
       "count  18001.000000  18001.000000  18001.000000\n",
       "mean    1933.777735     84.248295    183.531050\n",
       "std       39.960536      9.165279      6.516016\n",
       "min     1835.000000     57.152592    160.020000\n",
       "25%     1899.000000     77.110640    180.340000\n",
       "50%     1940.000000     83.914520    182.880000\n",
       "75%     1970.000000     90.718400    187.960000\n",
       "max     1996.000000    111.130040    208.280000"
      ]
     },
     "execution_count": 303,
     "metadata": {},
     "output_type": "execute_result"
    }
   ],
   "source": [
    "#We can also plot a combination of height and weight in the same plot using join plots for bivariate distributions\n",
    "#First we remove outliers from the dataset to increase visibility. We remove all player for which either height or \n",
    "#weight is beyond 1.5 interquartile range.\n",
    "def outliers_mask(x):\n",
    "    \"\"\"\n",
    "    Calculate a series mask for outlier values.\n",
    "    \n",
    "    A value is an outilier if either one of the following condition is satisfied:\n",
    "    - value > third quartile + 1.5 * interquartile range\n",
    "    - value < first quartile - 1.5 * interquartile range\n",
    "    \n",
    "    - x: series for which outliers have to been spotted\n",
    "    - return: mask to get outliers from series\n",
    "    \"\"\"\n",
    "    describe = x.describe()\n",
    "    first_quartile = describe[\"25%\"]\n",
    "    third_quartile = describe[\"75%\"]\n",
    "    iqr = third_quartile - first_quartile\n",
    "    mask_high = x > (third_quartile + 1.5 * iqr)\n",
    "    mask_low = x < (first_quartile - 1.5 * iqr)\n",
    "    return mask_high | mask_low\n",
    "    \n",
    "weight_and_height_without_outliers = weight_and_height[~outliers_mask(weight_and_height[\"weight\"])]\n",
    "\n",
    "#We can check with describe method that outliers have been removed:\n",
    "weight_and_height_without_outliers.describe()"
   ]
  },
  {
   "cell_type": "markdown",
   "metadata": {},
   "source": [
    "The new minimum weight from the dataset is now 57.15 kilograms."
   ]
  },
  {
   "cell_type": "code",
   "execution_count": 304,
   "metadata": {},
   "outputs": [
    {
     "data": {
      "text/plain": [
       "<seaborn.axisgrid.JointGrid at 0x7f0a63b05f50>"
      ]
     },
     "execution_count": 304,
     "metadata": {},
     "output_type": "execute_result"
    },
    {
     "data": {
      "image/png": "[encoded data removed]",
      "text/plain": [
       "<matplotlib.figure.Figure at 0x7f0a68a95c50>"
      ]
     },
     "metadata": {},
     "output_type": "display_data"
    }
   ],
   "source": [
    "grid = sns.jointplot(x=\"weight\", y=\"height\", kind=\"kde\", data=weight_and_height_without_outliers, size=9);\n",
    "grid.set_axis_labels(xlabel='Weight (kg)', ylabel='Height (cm)')"
   ]
  },
  {
   "cell_type": "markdown",
   "metadata": {},
   "source": [
    "The joinplot gives valuable information for the bivariate distribution. First, we can see any univariate distribution in the form of kernell density estimators (KDE) on the top (weight) and on the right (height).\n",
    "\n",
    "The bivariate distribution (weigh, height) is also displayed in a form of a KDE. We can see that the most common morphotype is ~82 kg for ~182 cm.\n",
    "\n",
    "Finally, the coefficient of correlation ([Pearson's r coefficient](https://en.wikipedia.org/wiki/Pearson_correlation_coefficient)) is reported on the plot. The value of 0.69 indicates that variables are correlated which is not surprising: a taller player tends to be heavier."
   ]
  },
  {
   "cell_type": "markdown",
   "metadata": {},
   "source": [
    "<a id='Typical carrier'/>"
   ]
  },
  {
   "cell_type": "markdown",
   "metadata": {},
   "source": [
    "### Typical carrier of a baseball player *[top](#Top)*"
   ]
  },
  {
   "cell_type": "markdown",
   "metadata": {},
   "source": [
    "#### Age at debut"
   ]
  },
  {
   "cell_type": "code",
   "execution_count": 305,
   "metadata": {},
   "outputs": [
    {
     "data": {
      "text/html": [
       "<div>\n",
       "<style>\n",
       "    .dataframe thead tr:only-child th {\n",
       "        text-align: right;\n",
       "    }\n",
       "\n",
       "    .dataframe thead th {\n",
       "        text-align: left;\n",
       "    }\n",
       "\n",
       "    .dataframe tbody tr th {\n",
       "        vertical-align: top;\n",
       "    }\n",
       "</style>\n",
       "<table border=\"1\" class=\"dataframe\">\n",
       "  <thead>\n",
       "    <tr style=\"text-align: right;\">\n",
       "      <th></th>\n",
       "      <th>birthYear</th>\n",
       "      <th>birthCountry</th>\n",
       "      <th>weight</th>\n",
       "      <th>height</th>\n",
       "      <th>debut</th>\n",
       "      <th>finalGame</th>\n",
       "      <th>birthDate</th>\n",
       "      <th>birthPeriod</th>\n",
       "      <th>fullName</th>\n",
       "    </tr>\n",
       "    <tr>\n",
       "      <th>playerID</th>\n",
       "      <th></th>\n",
       "      <th></th>\n",
       "      <th></th>\n",
       "      <th></th>\n",
       "      <th></th>\n",
       "      <th></th>\n",
       "      <th></th>\n",
       "      <th></th>\n",
       "      <th></th>\n",
       "    </tr>\n",
       "  </thead>\n",
       "  <tbody>\n",
       "    <tr>\n",
       "      <th>aardsda01</th>\n",
       "      <td>1981.0</td>\n",
       "      <td>USA</td>\n",
       "      <td>97.522280</td>\n",
       "      <td>190.50</td>\n",
       "      <td>2004-04-06</td>\n",
       "      <td>2015-08-23</td>\n",
       "      <td>1981-12-27</td>\n",
       "      <td>[1960, 1990)</td>\n",
       "      <td>David Aardsma</td>\n",
       "    </tr>\n",
       "    <tr>\n",
       "      <th>aaronha01</th>\n",
       "      <td>1934.0</td>\n",
       "      <td>USA</td>\n",
       "      <td>81.646560</td>\n",
       "      <td>182.88</td>\n",
       "      <td>1954-04-13</td>\n",
       "      <td>1976-10-03</td>\n",
       "      <td>1934-02-05</td>\n",
       "      <td>[1930, 1960)</td>\n",
       "      <td>Hank Aaron</td>\n",
       "    </tr>\n",
       "    <tr>\n",
       "      <th>aaronto01</th>\n",
       "      <td>1939.0</td>\n",
       "      <td>USA</td>\n",
       "      <td>86.182480</td>\n",
       "      <td>190.50</td>\n",
       "      <td>1962-04-10</td>\n",
       "      <td>1971-09-26</td>\n",
       "      <td>1939-08-05</td>\n",
       "      <td>[1930, 1960)</td>\n",
       "      <td>Tommie Aaron</td>\n",
       "    </tr>\n",
       "    <tr>\n",
       "      <th>aasedo01</th>\n",
       "      <td>1954.0</td>\n",
       "      <td>USA</td>\n",
       "      <td>86.182480</td>\n",
       "      <td>190.50</td>\n",
       "      <td>1977-07-26</td>\n",
       "      <td>1990-10-03</td>\n",
       "      <td>1954-09-08</td>\n",
       "      <td>[1930, 1960)</td>\n",
       "      <td>Don Aase</td>\n",
       "    </tr>\n",
       "    <tr>\n",
       "      <th>abadan01</th>\n",
       "      <td>1972.0</td>\n",
       "      <td>USA</td>\n",
       "      <td>83.460928</td>\n",
       "      <td>185.42</td>\n",
       "      <td>2001-09-10</td>\n",
       "      <td>2006-04-13</td>\n",
       "      <td>1972-08-25</td>\n",
       "      <td>[1960, 1990)</td>\n",
       "      <td>Andy Abad</td>\n",
       "    </tr>\n",
       "  </tbody>\n",
       "</table>\n",
       "</div>"
      ],
      "text/plain": [
       "           birthYear birthCountry     weight  height      debut  finalGame  \\\n",
       "playerID                                                                     \n",
       "aardsda01     1981.0          USA  97.522280  190.50 2004-04-06 2015-08-23   \n",
       "aaronha01     1934.0          USA  81.646560  182.88 1954-04-13 1976-10-03   \n",
       "aaronto01     1939.0          USA  86.182480  190.50 1962-04-10 1971-09-26   \n",
       "aasedo01      1954.0          USA  86.182480  190.50 1977-07-26 1990-10-03   \n",
       "abadan01      1972.0          USA  83.460928  185.42 2001-09-10 2006-04-13   \n",
       "\n",
       "           birthDate   birthPeriod       fullName  \n",
       "playerID                                           \n",
       "aardsda01 1981-12-27  [1960, 1990)  David Aardsma  \n",
       "aaronha01 1934-02-05  [1930, 1960)     Hank Aaron  \n",
       "aaronto01 1939-08-05  [1930, 1960)   Tommie Aaron  \n",
       "aasedo01  1954-09-08  [1930, 1960)       Don Aase  \n",
       "abadan01  1972-08-25  [1960, 1990)      Andy Abad  "
      ]
     },
     "execution_count": 305,
     "metadata": {},
     "output_type": "execute_result"
    }
   ],
   "source": [
    "#We start by removing from the dataset any player for who either birthDate, debut and final game is not recorded)\n",
    "dates_not_null = master_df[master_df[\"birthDate\"].notnull() & master_df[\"debut\"].notnull()\n",
    "                           & master_df[\"finalGame\"].notnull()]\n",
    "dates_not_null.head()"
   ]
  },
  {
   "cell_type": "code",
   "execution_count": 362,
   "metadata": {},
   "outputs": [
    {
     "data": {
      "text/html": [
       "<div>\n",
       "<style>\n",
       "    .dataframe thead tr:only-child th {\n",
       "        text-align: right;\n",
       "    }\n",
       "\n",
       "    .dataframe thead th {\n",
       "        text-align: left;\n",
       "    }\n",
       "\n",
       "    .dataframe tbody tr th {\n",
       "        vertical-align: top;\n",
       "    }\n",
       "</style>\n",
       "<table border=\"1\" class=\"dataframe\">\n",
       "  <thead>\n",
       "    <tr style=\"text-align: right;\">\n",
       "      <th></th>\n",
       "      <th>ageAtDebut</th>\n",
       "      <th>birthPeriod</th>\n",
       "      <th>birthYear</th>\n",
       "      <th>carrierLength</th>\n",
       "      <th>fullName</th>\n",
       "    </tr>\n",
       "    <tr>\n",
       "      <th>playerID</th>\n",
       "      <th></th>\n",
       "      <th></th>\n",
       "      <th></th>\n",
       "      <th></th>\n",
       "      <th></th>\n",
       "    </tr>\n",
       "  </thead>\n",
       "  <tbody>\n",
       "    <tr>\n",
       "      <th>aardsda01</th>\n",
       "      <td>22.275154</td>\n",
       "      <td>[1960, 1990)</td>\n",
       "      <td>1981.0</td>\n",
       "      <td>11.378508</td>\n",
       "      <td>David Aardsma</td>\n",
       "    </tr>\n",
       "    <tr>\n",
       "      <th>aaronha01</th>\n",
       "      <td>20.183436</td>\n",
       "      <td>[1930, 1960)</td>\n",
       "      <td>1934.0</td>\n",
       "      <td>22.475017</td>\n",
       "      <td>Hank Aaron</td>\n",
       "    </tr>\n",
       "    <tr>\n",
       "      <th>aaronto01</th>\n",
       "      <td>22.680356</td>\n",
       "      <td>[1930, 1960)</td>\n",
       "      <td>1939.0</td>\n",
       "      <td>9.462012</td>\n",
       "      <td>Tommie Aaron</td>\n",
       "    </tr>\n",
       "    <tr>\n",
       "      <th>aasedo01</th>\n",
       "      <td>22.880219</td>\n",
       "      <td>[1930, 1960)</td>\n",
       "      <td>1954.0</td>\n",
       "      <td>13.188227</td>\n",
       "      <td>Don Aase</td>\n",
       "    </tr>\n",
       "    <tr>\n",
       "      <th>abadan01</th>\n",
       "      <td>29.043121</td>\n",
       "      <td>[1960, 1990)</td>\n",
       "      <td>1972.0</td>\n",
       "      <td>4.588638</td>\n",
       "      <td>Andy Abad</td>\n",
       "    </tr>\n",
       "  </tbody>\n",
       "</table>\n",
       "</div>"
      ],
      "text/plain": [
       "           ageAtDebut   birthPeriod  birthYear  carrierLength       fullName\n",
       "playerID                                                                    \n",
       "aardsda01   22.275154  [1960, 1990)     1981.0      11.378508  David Aardsma\n",
       "aaronha01   20.183436  [1930, 1960)     1934.0      22.475017     Hank Aaron\n",
       "aaronto01   22.680356  [1930, 1960)     1939.0       9.462012   Tommie Aaron\n",
       "aasedo01    22.880219  [1930, 1960)     1954.0      13.188227       Don Aase\n",
       "abadan01    29.043121  [1960, 1990)     1972.0       4.588638      Andy Abad"
      ]
     },
     "execution_count": 362,
     "metadata": {},
     "output_type": "execute_result"
    }
   ],
   "source": [
    "#We calculate age at debut (in years) and carrier length (in years):\n",
    "delta_to_days = lambda x: float(x.days / 365.25)\n",
    "age_at_debut = (dates_not_null[\"debut\"] - dates_not_null[\"birthDate\"]).apply(delta_to_days)\n",
    "carrier_length = (dates_not_null[\"finalGame\"] - dates_not_null[\"debut\"]).apply(delta_to_days)\n",
    "\n",
    "#We create a dedicated dataframe for this processing\n",
    "carrier_df = pd.DataFrame({\"birthYear\": dates_not_null[\"birthYear\"],\n",
    "                           \"birthPeriod\": dates_not_null[\"birthPeriod\"],\n",
    "                           \"ageAtDebut\": age_at_debut,\n",
    "                           \"carrierLength\": carrier_length,\n",
    "                           \"fullName\": dates_not_null[\"fullName\"]})\n",
    "carrier_df.head()"
   ]
  },
  {
   "cell_type": "code",
   "execution_count": 363,
   "metadata": {},
   "outputs": [
    {
     "data": {
      "text/plain": [
       "[<matplotlib.text.Text at 0x7f0a5ab2f950>,\n",
       " <matplotlib.text.Text at 0x7f0a5af2bd50>]"
      ]
     },
     "execution_count": 363,
     "metadata": {},
     "output_type": "execute_result"
    },
    {
     "data": {
      "image/png": "[encoded data removed]",
      "text/plain": [
       "<matplotlib.figure.Figure at 0x7f0a5ab58910>"
      ]
     },
     "metadata": {},
     "output_type": "display_data"
    }
   ],
   "source": [
    "order = birth_periods_order(BIRTH_PERIODS)\n",
    "figure = plt.figure(figsize=(12, 6))\n",
    "ax = figure.add_subplot(111)\n",
    "ax = sns.pointplot(x=\"birthPeriod\", y=\"ageAtDebut\", data=carrier_df, order=order, ax=ax)\n",
    "ax.set(xlabel=\"Birth period\", ylabel=\"Age at debut (mean)\")"
   ]
  },
  {
   "cell_type": "markdown",
   "metadata": {},
   "source": [
    "The point plot shows that generally players make their debut in the league at 24 years old. This has only slightly changed in history. The point plot function of seaborn automatically calculate the mean of age at debut and also reports an error estimate for each birth period. The error estimate is larger for the periods >1900 and before 1930. this indicates that we have more variability in age at debut."
   ]
  },
  {
   "cell_type": "code",
   "execution_count": 364,
   "metadata": {},
   "outputs": [
    {
     "data": {
      "text/html": [
       "<div>\n",
       "<style>\n",
       "    .dataframe thead tr:only-child th {\n",
       "        text-align: right;\n",
       "    }\n",
       "\n",
       "    .dataframe thead th {\n",
       "        text-align: left;\n",
       "    }\n",
       "\n",
       "    .dataframe tbody tr th {\n",
       "        vertical-align: top;\n",
       "    }\n",
       "</style>\n",
       "<table border=\"1\" class=\"dataframe\">\n",
       "  <thead>\n",
       "    <tr>\n",
       "      <th></th>\n",
       "      <th colspan=\"8\" halign=\"left\">birthYear</th>\n",
       "    </tr>\n",
       "    <tr>\n",
       "      <th></th>\n",
       "      <th>count</th>\n",
       "      <th>mean</th>\n",
       "      <th>std</th>\n",
       "      <th>min</th>\n",
       "      <th>25%</th>\n",
       "      <th>50%</th>\n",
       "      <th>75%</th>\n",
       "      <th>max</th>\n",
       "    </tr>\n",
       "  </thead>\n",
       "  <tbody>\n",
       "    <tr>\n",
       "      <th>0</th>\n",
       "      <td>1.0</td>\n",
       "      <td>1832.0</td>\n",
       "      <td>NaN</td>\n",
       "      <td>1832.0</td>\n",
       "      <td>1832.0</td>\n",
       "      <td>1832.0</td>\n",
       "      <td>1832.0</td>\n",
       "      <td>1832.0</td>\n",
       "    </tr>\n",
       "    <tr>\n",
       "      <th>1</th>\n",
       "      <td>1.0</td>\n",
       "      <td>1835.0</td>\n",
       "      <td>NaN</td>\n",
       "      <td>1835.0</td>\n",
       "      <td>1835.0</td>\n",
       "      <td>1835.0</td>\n",
       "      <td>1835.0</td>\n",
       "      <td>1835.0</td>\n",
       "    </tr>\n",
       "    <tr>\n",
       "      <th>2</th>\n",
       "      <td>1.0</td>\n",
       "      <td>1836.0</td>\n",
       "      <td>NaN</td>\n",
       "      <td>1836.0</td>\n",
       "      <td>1836.0</td>\n",
       "      <td>1836.0</td>\n",
       "      <td>1836.0</td>\n",
       "      <td>1836.0</td>\n",
       "    </tr>\n",
       "    <tr>\n",
       "      <th>3</th>\n",
       "      <td>2.0</td>\n",
       "      <td>1838.0</td>\n",
       "      <td>0.0</td>\n",
       "      <td>1838.0</td>\n",
       "      <td>1838.0</td>\n",
       "      <td>1838.0</td>\n",
       "      <td>1838.0</td>\n",
       "      <td>1838.0</td>\n",
       "    </tr>\n",
       "    <tr>\n",
       "      <th>4</th>\n",
       "      <td>1.0</td>\n",
       "      <td>1839.0</td>\n",
       "      <td>NaN</td>\n",
       "      <td>1839.0</td>\n",
       "      <td>1839.0</td>\n",
       "      <td>1839.0</td>\n",
       "      <td>1839.0</td>\n",
       "      <td>1839.0</td>\n",
       "    </tr>\n",
       "  </tbody>\n",
       "</table>\n",
       "</div>"
      ],
      "text/plain": [
       "  birthYear                                                     \n",
       "      count    mean  std     min     25%     50%     75%     max\n",
       "0       1.0  1832.0  NaN  1832.0  1832.0  1832.0  1832.0  1832.0\n",
       "1       1.0  1835.0  NaN  1835.0  1835.0  1835.0  1835.0  1835.0\n",
       "2       1.0  1836.0  NaN  1836.0  1836.0  1836.0  1836.0  1836.0\n",
       "3       2.0  1838.0  0.0  1838.0  1838.0  1838.0  1838.0  1838.0\n",
       "4       1.0  1839.0  NaN  1839.0  1839.0  1839.0  1839.0  1839.0"
      ]
     },
     "execution_count": 364,
     "metadata": {},
     "output_type": "execute_result"
    }
   ],
   "source": [
    "#Let's see how many players are born year after years\n",
    "birth_year_count = carrier_df[[\"birthYear\"]].groupby(\"birthYear\", as_index=False).describe()\n",
    "birth_year_count.head()"
   ]
  },
  {
   "cell_type": "code",
   "execution_count": 365,
   "metadata": {},
   "outputs": [
    {
     "data": {
      "text/plain": [
       "<matplotlib.text.Annotation at 0x7f0a5aa0b350>"
      ]
     },
     "execution_count": 365,
     "metadata": {},
     "output_type": "execute_result"
    },
    {
     "data": {
      "image/png": "[encoded data removed]",
      "text/plain": [
       "<matplotlib.figure.Figure at 0x7f0a5aa7da90>"
      ]
     },
     "metadata": {},
     "output_type": "display_data"
    }
   ],
   "source": [
    "#We can use a point plot again:\n",
    "figure = plt.figure(figsize=(12, 6))\n",
    "ax = figure.add_subplot(111)\n",
    "ax.plot(birth_year_count[\"birthYear\"][\"mean\"], birth_year_count[\"birthYear\"][\"count\"])\n",
    "ax.set(xlabel=\"Birth year\", ylabel=\"Number of players\")\n",
    "ax.annotate(\"1st World War ?\", xy=(1895., 155.), xytext=(1910., 225.), arrowprops=dict(facecolor='blue', shrink=0.05))\n",
    "ax.annotate(\"2nd World War ?\", xy=(1920., 140.), xytext=(1930., 175.), arrowprops=dict(facecolor='blue', shrink=0.05))"
   ]
  },
  {
   "cell_type": "markdown",
   "metadata": {},
   "source": [
    "The higher error estimate is larger for players born after 1990 because we can see that the number of players decreases significantly. This causes a noisier signal.\n",
    "\n",
    "In the period [1900, 1930), we also see two significant decreases of number of players. This might be explained by american young men involded in First and Second World War."
   ]
  },
  {
   "cell_type": "markdown",
   "metadata": {},
   "source": [
    "#### Carrier length\n",
    "\n",
    "It is irrelevant to display carrier length of players born after 1980. As we have filtered out any player whom carrier is not over, we have introduced a bias towards recent players having a short carrier."
   ]
  },
  {
   "cell_type": "code",
   "execution_count": 370,
   "metadata": {},
   "outputs": [
    {
     "data": {
      "text/plain": [
       "[<matplotlib.text.Text at 0x7f0a5aed8250>,\n",
       " <matplotlib.text.Text at 0x7f0a5aab2fd0>]"
      ]
     },
     "execution_count": 370,
     "metadata": {},
     "output_type": "execute_result"
    },
    {
     "data": {
      "image/png": "[encoded data removed]",
      "text/plain": [
       "<matplotlib.figure.Figure at 0x7f0a5acbf4d0>"
      ]
     },
     "metadata": {},
     "output_type": "display_data"
    }
   ],
   "source": [
    "#It is irrelevant to display carrier length of players born after 1980.\n",
    "carrier_length = carrier_df[carrier_df[\"birthYear\"] <= 1980]\n",
    "\n",
    "#We use a box plot this time\n",
    "order = birth_periods_order(BIRTH_PERIODS)\n",
    "figure = plt.figure(figsize=(12, 6))\n",
    "ax = figure.add_subplot(111)\n",
    "ax = sns.boxplot(x=\"birthPeriod\", y=\"carrierLength\", data=carrier_length, order=order, ax=ax)\n",
    "ax.set(xlabel=\"Birth period\", ylabel=\"Mean carrier length (years)\")"
   ]
  },
  {
   "cell_type": "markdown",
   "metadata": {},
   "source": [
    "The average carrier lenght of a player has slightly increased and is around 5 years. But we can see that the carrier length are really spread out with some players having a carrier longer than 25 years.\n",
    "\n",
    "We can have a closer look to those players:"
   ]
  },
  {
   "cell_type": "code",
   "execution_count": 371,
   "metadata": {},
   "outputs": [
    {
     "data": {
      "text/html": [
       "<div>\n",
       "<style>\n",
       "    .dataframe thead tr:only-child th {\n",
       "        text-align: right;\n",
       "    }\n",
       "\n",
       "    .dataframe thead th {\n",
       "        text-align: left;\n",
       "    }\n",
       "\n",
       "    .dataframe tbody tr th {\n",
       "        vertical-align: top;\n",
       "    }\n",
       "</style>\n",
       "<table border=\"1\" class=\"dataframe\">\n",
       "  <thead>\n",
       "    <tr style=\"text-align: right;\">\n",
       "      <th></th>\n",
       "      <th>ageAtDebut</th>\n",
       "      <th>birthPeriod</th>\n",
       "      <th>birthYear</th>\n",
       "      <th>carrierLength</th>\n",
       "      <th>fullName</th>\n",
       "    </tr>\n",
       "    <tr>\n",
       "      <th>playerID</th>\n",
       "      <th></th>\n",
       "      <th></th>\n",
       "      <th></th>\n",
       "      <th></th>\n",
       "      <th></th>\n",
       "    </tr>\n",
       "  </thead>\n",
       "  <tbody>\n",
       "    <tr>\n",
       "      <th>altroni01</th>\n",
       "      <td>21.826146</td>\n",
       "      <td>&lt;1900</td>\n",
       "      <td>1876.0</td>\n",
       "      <td>35.214237</td>\n",
       "      <td>Nick Altrock</td>\n",
       "    </tr>\n",
       "    <tr>\n",
       "      <th>minosmi01</th>\n",
       "      <td>23.386721</td>\n",
       "      <td>[1900, 1930)</td>\n",
       "      <td>1925.0</td>\n",
       "      <td>31.463381</td>\n",
       "      <td>Minnie Minoso</td>\n",
       "    </tr>\n",
       "    <tr>\n",
       "      <th>olearch01</th>\n",
       "      <td>28.495551</td>\n",
       "      <td>&lt;1900</td>\n",
       "      <td>1875.0</td>\n",
       "      <td>30.461328</td>\n",
       "      <td>Charley O'Leary</td>\n",
       "    </tr>\n",
       "    <tr>\n",
       "      <th>orourji01</th>\n",
       "      <td>21.650924</td>\n",
       "      <td>&lt;1900</td>\n",
       "      <td>1850.0</td>\n",
       "      <td>32.405202</td>\n",
       "      <td>Jim O'Rourke</td>\n",
       "    </tr>\n",
       "  </tbody>\n",
       "</table>\n",
       "</div>"
      ],
      "text/plain": [
       "           ageAtDebut   birthPeriod  birthYear  carrierLength         fullName\n",
       "playerID                                                                      \n",
       "altroni01   21.826146         <1900     1876.0      35.214237     Nick Altrock\n",
       "minosmi01   23.386721  [1900, 1930)     1925.0      31.463381    Minnie Minoso\n",
       "olearch01   28.495551         <1900     1875.0      30.461328  Charley O'Leary\n",
       "orourji01   21.650924         <1900     1850.0      32.405202     Jim O'Rourke"
      ]
     },
     "execution_count": 371,
     "metadata": {},
     "output_type": "execute_result"
    }
   ],
   "source": [
    "carrier_length_outliers = carrier_length[carrier_length[\"carrierLength\"] > 30]\n",
    "carrier_length_outliers.head(50)"
   ]
  },
  {
   "cell_type": "markdown",
   "metadata": {},
   "source": [
    "According to [Wikipedia](https://en.wikipedia.org/wiki/Nick_Altrock) Nick Altrock ends prematurely his carrier as a full-time player due to an injury but made appearances in the league until the age of 57."
   ]
  },
  {
   "cell_type": "markdown",
   "metadata": {},
   "source": [
    "<a id='Conclusions'/>"
   ]
  },
  {
   "cell_type": "markdown",
   "metadata": {},
   "source": [
    "## Conclusions *[top](#Top)*"
   ]
  },
  {
   "cell_type": "markdown",
   "metadata": {},
   "source": [
    "<a id='Appendix'>"
   ]
  },
  {
   "cell_type": "markdown",
   "metadata": {},
   "source": [
    "## Appendix *[top](#Top)*"
   ]
  },
  {
   "cell_type": "markdown",
   "metadata": {},
   "source": [
    "Checkout out Sebastian Rachka blog post related to table of contents in notebooks [here](http://sebastianraschka.com/Articles/2014_ipython_internal_links.html). His [GitHub](https://github.com/rasbt) page is also worth the detour for Python [tricks](https://github.com/rasbt/python_reference), data science stuff, machine learning...<hr>\n",
    "\n",
    "Seaborn documentation comes with a [tutorial](https://seaborn.pydata.org/tutorial.html).<hr>"
   ]
  }
 ],
 "metadata": {
  "kernelspec": {
   "display_name": "Python [conda env:DataAnalysis]",
   "language": "python",
   "name": "conda-env-DataAnalysis-py"
  },
  "language_info": {
   "codemirror_mode": {
    "name": "ipython",
    "version": 2
   },
   "file_extension": ".py",
   "mimetype": "text/x-python",
   "name": "python",
   "nbconvert_exporter": "python",
   "pygments_lexer": "ipython2",
   "version": "2.7.13"
  }
 },
 "nbformat": 4,
 "nbformat_minor": 2
}
