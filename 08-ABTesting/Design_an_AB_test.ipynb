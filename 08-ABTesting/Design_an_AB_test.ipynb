{
 "cells": [
  {
   "cell_type": "markdown",
   "metadata": {},
   "source": [
    "# Design an A/B Test\n",
    "\n",
    "[Cédric Campguilhem](https://github.com/ccampguilhem/Udacity-DataAnalyst), March 2018"
   ]
  },
  {
   "cell_type": "markdown",
   "metadata": {},
   "source": [
    "<a id=\"Top\">"
   ]
  },
  {
   "cell_type": "markdown",
   "metadata": {},
   "source": [
    "## Table of contents\n",
    "\n",
    "- [Introduction](#Introduction)\n",
    "- [Project organisation](#Organisation)\n",
    "- [Experiment design](#Design)\n",
    "    - [Metric choice](#Metric)\n",
    "    - [Measuring standard deviation](#Standard deviation)\n",
    "    - [Sizing](#Sizing)\n",
    "- [Experiment analysis](#Analysis)\n",
    "    - [Sanity checks](#Sanity)\n",
    "    - [Result analysis](#Result)\n",
    "    - [Recommendations](#Recommendations)\n",
    "- [Follow-up experiment](#Followup)\n",
    "- [Appendix](#Appendix)"
   ]
  },
  {
   "cell_type": "markdown",
   "metadata": {},
   "source": [
    "<a id=\"Introduction\">"
   ]
  },
  {
   "cell_type": "markdown",
   "metadata": {},
   "source": [
    "## Introduction [*top*](#Top)"
   ]
  },
  {
   "cell_type": "markdown",
   "metadata": {},
   "source": [
    "This project is related to A/B testing course for Udacity Data Analyst Nanodegree program. The purpose of this project is to analyse an experiment made at Udacity.\n",
    "\n",
    "The experiment is related to a change when student clicks \"start free trial\" button. A message asks them how much time they would dedicate to the course. If the student indicated 5 or more hours per week, they would be taken through the checkout process as usual. If they indicated fewer than 5 hours per week, a message would appear indicating that Udacity courses usually require a greater time commitment for successful completion, and suggesting that the student might like to access the course materials for free. At this point, the student would have the option to continue enrolling in the free trial, or access the course materials for free instead.\n",
    "\n",
    "The hypothesis was that this might set clearer expectations for students upfront, thus reducing the number of frustrated students who left the free trial because they didn't have enough time—without significantly reducing the number of students to continue past the free trial and eventually complete the course. If this hypothesis held true, Udacity could improve the overall student experience and improve coaches' capacity to support students who are likely to complete the course."
   ]
  },
  {
   "cell_type": "markdown",
   "metadata": {},
   "source": [
    "<a id=\"Organisation\">"
   ]
  },
  {
   "cell_type": "markdown",
   "metadata": {},
   "source": [
    "## Project organization [*top*](#Top)"
   ]
  },
  {
   "cell_type": "markdown",
   "metadata": {},
   "source": []
  },
  {
   "cell_type": "markdown",
   "metadata": {},
   "source": [
    "<a id=\"Design\">"
   ]
  },
  {
   "cell_type": "markdown",
   "metadata": {},
   "source": [
    "## Experiment design [*top*](#Top)"
   ]
  },
  {
   "cell_type": "markdown",
   "metadata": {},
   "source": [
    "<a id=\"Metric\">"
   ]
  },
  {
   "cell_type": "markdown",
   "metadata": {},
   "source": [
    "### Metric choice [*Experiment design*](#Design)"
   ]
  },
  {
   "cell_type": "markdown",
   "metadata": {},
   "source": [
    "The following parameters have been selected as invariants of the analysis (i.e. parameters which should not be affected by the change being analyzed). All those metrics are captured upstream to the change being analyzed.\n",
    "\n",
    "Invariant                    | Description                      \n",
    ":----------------------------|:---------------------------------\n",
    "Number of cookies            | Number of unique cookies to view the course overview page. \n",
    "Number of clicks             | Number of unique cookies to click on \"Start free trial\" button \n",
    "Click-through-probability    | Number of unique cookies to click on \"Start free trial\" button divided by the number of unique cookies to view the course page overview.\n",
    "\n",
    "All other metrics (Number of user-ids, Gross conversion, Retention, Net conversion) are collected downstream to change and may potentially being affected by change.\n",
    "\n",
    "The following parameters have been selected as evaluation metrics because it collects information downstream to change and are related to the objectives of this A/B test which are: \n",
    "\n",
    "- minimizing the proportion of enrolled students quiting during the trial\n",
    "- keeping the same proportion of students clicking the start free trial and continuing the course afterwards\n",
    "\n",
    "Evaluation metrics  | Description | Practical significance boundary | Reasons of choice\n",
    ":-------------------|:------------|:--------------------------------|:------------------\n",
    "Gross conversion    | Number of user-ids to enroll in the free trial divided by the number of unique cookies to click on the \"Start free trial\" button. | ${d}_{min} = 0.01$ | This captures the proportion of students changing their mind after the time commitment warning. In the control group this metric should be 1.\n",
    "Retention           | Number of user-ids to remain enrolled after the trial divided by the number of user-ids enrolled during the trial. | ${d}_{min} = 0.01$ | This metric enables to evaluate first objective: minimize number of students quitting during the trial.\n",
    "Net conversion      | Number of user-ids to remain enrolled after the trial divided by the number of unique cookies to click the \"Start free trial\" button. | ${d}_{min} = 0.0075$ | This metrics enables to evaluate the second objective: keep the same proportion of students enrolled in the long term.\n",
    "\n",
    "Number of user-ids who enroll in the free trial may be affected by change but does not provide any relevant information serving the objective of the analysis. "
   ]
  },
  {
   "cell_type": "markdown",
   "metadata": {},
   "source": [
    "<a id=\"Standard deviation\">"
   ]
  },
  {
   "cell_type": "markdown",
   "metadata": {},
   "source": [
    "### Measuring standard error [*Experiment design*](#Design)"
   ]
  },
  {
   "cell_type": "markdown",
   "metadata": {},
   "source": [
    "The standard error for each evaluation metrics will be calculated with the following data:\n",
    "\n",
    "Parameter | Value\n",
    ":---------|:------\n",
    "Unique cookies to view course overview page per day |\t40000\n",
    "Unique cookies to click \"Start free trial\" per day | 3200\n",
    "Enrollments per day |\t660\n",
    "Click-through-probability on \"Start free trial\" |\t0.08\n",
    "Probability of enrolling, given click |\t0.20625\n",
    "Probability of payment, given enroll |\t0.53\n",
    "Probability of payment, given click\t| 0.1093125\n",
    "\n",
    "The *probability of enrolling, given click* is linked to the *gross conversion* metric. *Probability of payment, given enroll* is in relation with the *retention* metric. Finally, *probability of payment, given click* is related to *net conversion* metric. As we are dealing with probabilities, we will assume to have a binomial distribution. We can then estimate the standard error for each metric using the binomial standard deviation:\n",
    "\n",
    "\\begin{align}\n",
    "SE = \\sqrt{\\frac{p(1-p)}{n}}\n",
    "\\end{align}\n",
    "\n",
    "Where:\n",
    "- p is the probability of event\n",
    "- n is the number of repetitions of the event"
   ]
  },
  {
   "cell_type": "code",
   "execution_count": 38,
   "metadata": {
    "tags": [
     "hide_export"
    ]
   },
   "outputs": [
    {
     "name": "stdout",
     "output_type": "stream",
     "text": [
      "400.0 82.5\n"
     ]
    }
   ],
   "source": [
    "nb_cookies = 5000.\n",
    "nb_clicks = nb_cookies * 3200. / 40000.\n",
    "nb_enrollments = nb_clicks * 660. / 3200.\n",
    "print nb_clicks, nb_enrollments"
   ]
  },
  {
   "cell_type": "code",
   "execution_count": 39,
   "metadata": {
    "tags": [
     "hide_export"
    ]
   },
   "outputs": [
    {
     "name": "stdout",
     "output_type": "stream",
     "text": [
      "0.020230604137 0.0549490121785 0.0156015445825\n"
     ]
    }
   ],
   "source": [
    "import math\n",
    "stddev_gross = math.sqrt(0.20625 * (1 - 0.20625) / nb_clicks)\n",
    "stddev_retention = math.sqrt(0.53 * (1 - 0.53) / nb_enrollments)\n",
    "stddev_conversion = math.sqrt(0.1093125 * (1 - 0.1093125) / nb_clicks)\n",
    "print stddev_gross, stddev_retention, stddev_conversion"
   ]
  },
  {
   "cell_type": "markdown",
   "metadata": {},
   "source": [
    "The sample size is 5000 cookies. We can then assume that we will have 400 clicks on the \"Start free trial button\" and 82.5 enrollments. The standard deviations are reported in the table below:\n",
    "\n",
    "Evaluation metrics | Units of analysis (n) | Estimated standard deviation\n",
    ":------------------|:----------------------|:----------------------------\n",
    "Gross conversion   | cookie (400)          | 0.0202\n",
    "Retention          | user-id (82)          | 0.0549\n",
    "Net conversion     | cookie (400)          | 0.0156\n",
    "\n",
    "Gross conversion and net conversion use cookie as unit of analysis and unit of diversion, so the analytical standard error calculated here shall be quite close from empirical values. This is not the case for retention metrics as it uses user-id and we could have differences between empirical variability and the one estimated above."
   ]
  },
  {
   "cell_type": "markdown",
   "metadata": {},
   "source": [
    "<a id=\"Sizing\">"
   ]
  },
  {
   "cell_type": "markdown",
   "metadata": {},
   "source": [
    "### Sizing [*Experiment design*](#Design)"
   ]
  },
  {
   "cell_type": "markdown",
   "metadata": {},
   "source": [
    "#### Number of samples vs power\n",
    "\n",
    "Assuming that all metrics are independent, the probability of having at least one false positive would be $1 - (0.95 * 0.95 * 0.95) = 0.14$. Using the Bonferroni correction is a way to reduce the overall chance to get false positive by increasing significance level (reducing alpha value) for each test that is made and I am going to use it in this experiment. This leads to use a alpha value of 1.67% instead. I have rounded up alpha to 2% to perform the following calculations.\n",
    "\n",
    "I have used the online calculator provide by [Evan Miller](http://www.evanmiller.org/ab-testing/sample-size.html) to estimate sample size for A/B test. The results are provided in the table below:\n",
    "\n",
    "Parameter            | Base conversion rate | Practical significance | $\\alpha$ | $1 - \\beta$ | Sample size per variation\n",
    ":--------------------|:---------------------|:-----------------------|:---------|:------------|:-------------------------\n",
    "Gross conversion     | 20.625 %             | 1.0 %                  | 2.0 %    | 80.0 %      | 33014\n",
    "Retention            | 53.0 %               | 1.0 %                  | 2.0 %    | 80.0 %      | 50013\n",
    "Net conversion       | 10.93125 %           | 0.75 %                 | 2.0 %    | 80.0 %      | 35016\n",
    "\n",
    "The retention metrics is the one requiring the most samples per variation. But as this metrics is also using user-id as units of analysis, it also need to be converted to clicks, increasing again the number of page views (only 8% of view lead to clicks):\n",
    "\n",
    "\\begin{equation}\n",
    "{pageviews} = \\frac{50013 * 2}{0.08 * 0.20625}\n",
    "\\end{equation}\n",
    "\n",
    "The equation above assumes that both control and test groups are seeing the same number of pages and leads to 6062182 page views."
   ]
  },
  {
   "cell_type": "code",
   "execution_count": 50,
   "metadata": {
    "tags": [
     "hide_export"
    ]
   },
   "outputs": [
    {
     "name": "stdout",
     "output_type": "stream",
     "text": [
      "6062181.81818\n"
     ]
    }
   ],
   "source": [
    "print 50013. / (0.08 * 0.20625) * 2."
   ]
  },
  {
   "cell_type": "markdown",
   "metadata": {},
   "source": [
    "#### Duration vs exposure\n",
    "\n",
    "We have 40000 unique cookies to view course overview per day. If we redirect half of the traffic, the duration would be:\n",
    "\n",
    "\\begin{equation}\n",
    "duration = \\frac{6062182}{40000 * 0.5}\n",
    "\\end{equation}\n",
    "\n",
    "The equation above leads to 304 days ! That's a long experiment and Udacity does not want to spend that long. We need to rework some of the previous decisions we have made.\n",
    "\n",
    "The retention metric is really demanding in terms of page views. If we drop this metric and updating the Bonferroni correction (alpha is now 2.5% -rounded up to 3% in online calculator), the dimensionning metric is net conversion which now requires 791500 page views. If we increase the redirection factor to two-third of the traffic, this lead to a duration of 30 days which is much more manageable."
   ]
  },
  {
   "cell_type": "code",
   "execution_count": 53,
   "metadata": {
    "tags": [
     "hide_export"
    ]
   },
   "outputs": [
    {
     "name": "stdout",
     "output_type": "stream",
     "text": [
      "303.1091\n"
     ]
    }
   ],
   "source": [
    "print 6062182 / (40000 * 0.5)"
   ]
  },
  {
   "cell_type": "code",
   "execution_count": 63,
   "metadata": {
    "tags": [
     "hide_export"
    ]
   },
   "outputs": [
    {
     "name": "stdout",
     "output_type": "stream",
     "text": [
      "791500.0\n",
      "29.9810606061\n"
     ]
    }
   ],
   "source": [
    "print 31660 / 0.08 * 2.\n",
    "print 791500.0 / (40000 * 0.66)"
   ]
  },
  {
   "cell_type": "markdown",
   "metadata": {},
   "source": [
    "This desing exposes one third of students to a new feature during one month. The nature of feature is to minimize students starting the free trial without willing to dedicate more than 5 hours a week to follow the course. This feature shall not change the mind of students wanting to take the course and agreeing to dedicate a long time to it. So running this test is probably is a reasonable risk."
   ]
  },
  {
   "cell_type": "markdown",
   "metadata": {},
   "source": [
    "<a id=\"Analysis\">"
   ]
  },
  {
   "cell_type": "markdown",
   "metadata": {},
   "source": [
    "## Experiment analysis [*top*](#Top)"
   ]
  },
  {
   "cell_type": "markdown",
   "metadata": {},
   "source": [
    "<a id=\"Sanity\">"
   ]
  },
  {
   "cell_type": "markdown",
   "metadata": {},
   "source": [
    "### Sanity checks [*Experiment analysis*](#Analysis)"
   ]
  },
  {
   "cell_type": "markdown",
   "metadata": {},
   "source": [
    "type text here"
   ]
  },
  {
   "cell_type": "markdown",
   "metadata": {},
   "source": [
    "<a id=\"Result\">"
   ]
  },
  {
   "cell_type": "markdown",
   "metadata": {},
   "source": [
    "### Result analysis [*Experiment analysis*](#Analysis)"
   ]
  },
  {
   "cell_type": "markdown",
   "metadata": {},
   "source": [
    "type text here"
   ]
  },
  {
   "cell_type": "markdown",
   "metadata": {},
   "source": [
    "<a id=\"Recommendations\">"
   ]
  },
  {
   "cell_type": "markdown",
   "metadata": {},
   "source": [
    "### Recommendations [*Experiment analysis*](#Analysis)"
   ]
  },
  {
   "cell_type": "markdown",
   "metadata": {},
   "source": [
    "type text here"
   ]
  },
  {
   "cell_type": "markdown",
   "metadata": {},
   "source": [
    "<a id=\"Followup\">"
   ]
  },
  {
   "cell_type": "markdown",
   "metadata": {},
   "source": [
    "## Follow-up experiment [*top*](#Top)"
   ]
  },
  {
   "cell_type": "markdown",
   "metadata": {},
   "source": [
    "type text here"
   ]
  },
  {
   "cell_type": "markdown",
   "metadata": {},
   "source": [
    "<a id=\"Appendix\">"
   ]
  },
  {
   "cell_type": "markdown",
   "metadata": {},
   "source": [
    "## Appendix [*top*](#Top)"
   ]
  },
  {
   "cell_type": "markdown",
   "metadata": {},
   "source": [
    "type text here"
   ]
  },
  {
   "cell_type": "code",
   "execution_count": 2,
   "metadata": {
    "tags": [
     "hide_export"
    ]
   },
   "outputs": [
    {
     "name": "stdout",
     "output_type": "stream",
     "text": [
      "[NbConvertApp] Converting notebook Design_an_AB_test.ipynb to html\n",
      "[NbConvertApp] Writing 260626 bytes to Design_an_AB_test.html\n"
     ]
    }
   ],
   "source": [
    "#Convert notebook to html\n",
    "!jupyter nbconvert --to html --template html_minimal.tpl Design_an_AB_test.ipynb"
   ]
  },
  {
   "cell_type": "code",
   "execution_count": null,
   "metadata": {
    "collapsed": true
   },
   "outputs": [],
   "source": []
  }
 ],
 "metadata": {
  "celltoolbar": "Tags",
  "kernelspec": {
   "display_name": "Python 2",
   "language": "python",
   "name": "python2"
  },
  "language_info": {
   "codemirror_mode": {
    "name": "ipython",
    "version": 2
   },
   "file_extension": ".py",
   "mimetype": "text/x-python",
   "name": "python",
   "nbconvert_exporter": "python",
   "pygments_lexer": "ipython2",
   "version": "2.7.13"
  }
 },
 "nbformat": 4,
 "nbformat_minor": 2
}
