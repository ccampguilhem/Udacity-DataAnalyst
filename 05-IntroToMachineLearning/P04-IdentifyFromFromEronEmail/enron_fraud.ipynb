{
 "cells": [
  {
   "cell_type": "markdown",
   "metadata": {},
   "source": [
    "# Identify Fraud from Enron Email\n",
    "\n",
    "[Cédric Campguilhem](https://github.com/ccampguilhem/Udacity-DataAnalyst), November 2017"
   ]
  },
  {
   "cell_type": "markdown",
   "metadata": {},
   "source": [
    "<a id=\"Top\">"
   ]
  },
  {
   "cell_type": "markdown",
   "metadata": {},
   "source": [
    "## Table of contents\n",
    "\n",
    "- [Introduction](#Introduction)\n",
    "- [Project organisation](#Organisation)\n",
    "- [Dataset](#Dataset)\n",
    "    - [Downloading dataset](#Download)\n",
    "    - [Data exploration](#Exploration)\n",
    "    - [Dataset questions](#Dataset questions)\n",
    "- [Feature selection](#Feature)\n",
    "    - [Combine email and financial features](#Combine)\n",
    "    - [Univariate feature selection](#Univariate)\n",
    "    - [Recursive feature selection](#Recursive)\n",
    "    - [Conclusion](#Feature selection conclusion)\n",
    "- [Machine learning](#Machine learning)\n",
    "    - [Cross-validation strategy](#Cross-validation strategy)\n",
    "    - [Algorithm choice](#Algorithm choice)\n",
    "    - [Bias variance trade-off](#Bias variance trade-off)\n",
    "    - [Time to learn !](#Learn)\n",
    "    - [Compare algorithms](#Compare algorithms)\n",
    "    - [Conclusion](#Learning conclusion)\n",
    "- [Conclusion](#Conclusion)\n",
    "- [Pro tips](#Pro Tips)\n",
    "- [Appendix](#Appendix)"
   ]
  },
  {
   "cell_type": "markdown",
   "metadata": {},
   "source": [
    "<a id='Introduction'/>"
   ]
  },
  {
   "cell_type": "markdown",
   "metadata": {},
   "source": [
    "## Introduction [*top*](#Top)\n",
    "\n",
    "This project is related to Introduction to Machine Learning course for Udacity Data Analyst Nanodegree program. The purpose of this project is to analyse Enron email dataset and setup a machine learning algorithm to identify persons of interest involved in massive fraud causing Enron bankruptcy in 2002.\n",
    "\n",
    "The list of persons of interest being known at the beginning of the project, the approach consists in setting up an algorithm offering decent accuracy on predicting persons of interest (POI's) among all employees.\n",
    "\n",
    "The project covers different stages of machine learning setting up:\n",
    "\n",
    "- Questions about **dataset**, exploration and outliers removal,\n",
    "- Selection, scaling, transformation of **features**,\n",
    "- **Algorithm** selection and tuning,\n",
    "- **Evaluation** with cross-validation and metrics\n",
    "\n",
    "The project makes a massive use of [Scikit-Learn](http://scikit-learn.org/stable/index.html) Python package dedicated to machine learning."
   ]
  },
  {
   "cell_type": "markdown",
   "metadata": {},
   "source": [
    "<a id='Organisation'/>"
   ]
  },
  {
   "cell_type": "markdown",
   "metadata": {},
   "source": [
    "## Project organisation [*top*](#Top)\n",
    "\n",
    "The project is decomposed in the following manner:\n",
    "\n",
    "- This notebook (enron_fraud.ipynb) contains top-level code as well as results and report.\n",
    "- The enron_fraud.html file is a html export of this notebook.\n",
    "- The [poi_id.py](./poi_id.py) script is used to generate expected results for project review by Udacity.\n",
    "- The [tester.py](./tester.py) script is used to test generated results for project review by Udacity.\n",
    "- The [feature_format.py](./feature_format.py) script is provided by Udacity to format features (from dictionary to list).\n",
    "- The [poi_email_addresses.py](./poi_email_addresses.py) script is provided by Udacity and gives a list of all persons of interest in the Enron fraud.\n",
    "- The [download_datasets.py](./download_datasets.py) module contains functions to download all datasets required for the analysis and store them in *dataset* folder.\n",
    "- The [explore_datasets.py](./explore_datasets.py) module contains functions to explore datasets.\n",
    "- The [html_minimal.tpl](./html_minimal.tpl) is a Jinja2 template used when converting notebook into html."
   ]
  },
  {
   "cell_type": "markdown",
   "metadata": {},
   "source": [
    "<a id='Dataset'/>"
   ]
  },
  {
   "cell_type": "markdown",
   "metadata": {},
   "source": [
    "## Dataset [*top*](#Top)"
   ]
  },
  {
   "cell_type": "markdown",
   "metadata": {},
   "source": [
    "<a id='Download'/>"
   ]
  },
  {
   "cell_type": "markdown",
   "metadata": {},
   "source": [
    "### Downloading datasets [*dataset*](#Dataset)\n",
    "\n",
    "We provide code so that you can download datasets required for analysis. The datasets are stored in a sub-directory named *dataset*. Once everything has been downloaded, you should have the following files and directories in the *dataset* directory:\n",
    "\n",
    "| Name                               | Type        | Description                                                  |\n",
    "|:---------------------------------- |:----------- |:------------------------------------------------------------ |\n",
    "| maildir                            | directory   | Enron emails downloaded from https://www.cs.cmu.edu/~./enron |\n",
    "| emails_by_address                  | directory   | Emails stored by address as provided in https://github.com/udacity/ud120-projects/tree/master/final_project/emails_by_address |\n",
    "| enron61702insiderpay.pdf           | file        | Financial data from https://github.com/udacity/ud120-projects/tree/master/final_project/emails_by_address |\n",
    "| final_project_dataset.pkl          | file        | Project dataset provided by Udacity from https://github.com/udacity/ud120-projects/tree/master/final_project/emails_by_address |\n",
    "\n",
    "> **Warning**: Downloading may take a while ! Functions are defined such as they download only if folders and files are not    found, if you have the data available and don't want to download it again, just paste datasets in the *dataset* folder.\n",
    "\n"
   ]
  },
  {
   "cell_type": "code",
   "execution_count": 1,
   "metadata": {
    "collapsed": true,
    "tags": [
     "hide_export"
    ]
   },
   "outputs": [],
   "source": [
    "#Allow automatic reload of modules\n",
    "%load_ext autoreload\n",
    "%autoreload 2"
   ]
  },
  {
   "cell_type": "code",
   "execution_count": 2,
   "metadata": {
    "collapsed": true
   },
   "outputs": [],
   "source": [
    "from download_datasets import download_datasets\n",
    "download_datasets()"
   ]
  },
  {
   "cell_type": "markdown",
   "metadata": {},
   "source": [
    "<a id='Exploration'/>"
   ]
  },
  {
   "cell_type": "markdown",
   "metadata": {},
   "source": [
    "### Data exploration [*dataset*](#Dataset)\n",
    "\n",
    "In this section we will explore how the data we have is structured. We will start by having a look to .pkl files provided as input:"
   ]
  },
  {
   "cell_type": "code",
   "execution_count": 3,
   "metadata": {
    "collapsed": true
   },
   "outputs": [],
   "source": [
    "from download_datasets import load_project_data\n",
    "data_dict = load_project_data()"
   ]
  },
  {
   "cell_type": "markdown",
   "metadata": {},
   "source": [
    "Each key in the dictionnary is a person:"
   ]
  },
  {
   "cell_type": "code",
   "execution_count": 4,
   "metadata": {},
   "outputs": [
    {
     "name": "stdout",
     "output_type": "stream",
     "text": [
      "['METTS MARK',\n",
      " 'BAXTER JOHN C',\n",
      " 'ELLIOTT STEVEN',\n",
      " 'CORDES WILLIAM R',\n",
      " 'HANNON KEVIN P',\n",
      " 'MORDAUNT KRISTINA M',\n",
      " 'MEYER ROCKFORD G',\n",
      " 'MCMAHON JEFFREY',\n",
      " 'HORTON STANLEY C',\n",
      " 'PIPER GREGORY F']\n"
     ]
    }
   ],
   "source": [
    "from pprint import pprint\n",
    "pprint(data_dict.keys()[:10])"
   ]
  },
  {
   "cell_type": "markdown",
   "metadata": {},
   "source": [
    "For each person, we have access to various information. Some of the fields may be missing and are reported as 'NaN'. The **poi** field indicates if this is a person of interest:"
   ]
  },
  {
   "cell_type": "code",
   "execution_count": 5,
   "metadata": {},
   "outputs": [
    {
     "name": "stdout",
     "output_type": "stream",
     "text": [
      "{'bonus': 600000,\n",
      " 'deferral_payments': 'NaN',\n",
      " 'deferred_income': 'NaN',\n",
      " 'director_fees': 'NaN',\n",
      " 'email_address': 'mark.metts@enron.com',\n",
      " 'exercised_stock_options': 'NaN',\n",
      " 'expenses': 94299,\n",
      " 'from_messages': 29,\n",
      " 'from_poi_to_this_person': 38,\n",
      " 'from_this_person_to_poi': 1,\n",
      " 'loan_advances': 'NaN',\n",
      " 'long_term_incentive': 'NaN',\n",
      " 'other': 1740,\n",
      " 'poi': False,\n",
      " 'restricted_stock': 585062,\n",
      " 'restricted_stock_deferred': 'NaN',\n",
      " 'salary': 365788,\n",
      " 'shared_receipt_with_poi': 702,\n",
      " 'to_messages': 807,\n",
      " 'total_payments': 1061827,\n",
      " 'total_stock_value': 585062}\n"
     ]
    }
   ],
   "source": [
    "pprint(data_dict[\"METTS MARK\"])"
   ]
  },
  {
   "cell_type": "markdown",
   "metadata": {},
   "source": [
    "We are going to store all this data in a pandas data frame:"
   ]
  },
  {
   "cell_type": "code",
   "execution_count": 6,
   "metadata": {},
   "outputs": [],
   "source": [
    "from explore_datasets import convert_project_dict_to_data_frame\n",
    "df = convert_project_dict_to_data_frame(data_dict)"
   ]
  },
  {
   "cell_type": "markdown",
   "metadata": {},
   "source": [
    "How many data points (number of people do we have)?"
   ]
  },
  {
   "cell_type": "code",
   "execution_count": 7,
   "metadata": {},
   "outputs": [
    {
     "data": {
      "text/plain": [
       "(146, 21)"
      ]
     },
     "execution_count": 7,
     "metadata": {},
     "output_type": "execute_result"
    }
   ],
   "source": [
    "df.shape"
   ]
  },
  {
   "cell_type": "markdown",
   "metadata": {},
   "source": [
    "There are 146 data points in the dataframe with 21 features.\n",
    "\n",
    "Let's have a look at all persons of interest in the dataset:"
   ]
  },
  {
   "cell_type": "code",
   "execution_count": 8,
   "metadata": {},
   "outputs": [
    {
     "data": {
      "text/plain": [
       "(18, 21)"
      ]
     },
     "execution_count": 8,
     "metadata": {},
     "output_type": "execute_result"
    }
   ],
   "source": [
    "df[df['poi']].shape"
   ]
  },
  {
   "cell_type": "markdown",
   "metadata": {},
   "source": [
    "Only 18 of them are persons of interest.\n",
    "\n",
    "We may be interested by how each financial feature in the dataset is distributed. To do this we need to transform the data frame a little bit."
   ]
  },
  {
   "cell_type": "code",
   "execution_count": 9,
   "metadata": {},
   "outputs": [],
   "source": [
    "#We only keep financial data and POI\n",
    "financial_data = df.loc[:, ['salary', 'bonus', 'long_term_incentive', 'deferral_payments', 'other', 'expenses', \n",
    "                     'exercised_stock_options', 'restricted_stock', 'poi']]\n",
    "financial_data.reset_index(inplace=True)\n",
    "financial_data.rename(columns={'names': 'name'}, inplace=True)"
   ]
  },
  {
   "cell_type": "code",
   "execution_count": 10,
   "metadata": {},
   "outputs": [],
   "source": [
    "#We need to convert datatype to numeric values if we can\n",
    "from explore_datasets import convert_to_numeric\n",
    "financial_data = financial_data.applymap(convert_to_numeric)"
   ]
  },
  {
   "cell_type": "code",
   "execution_count": 11,
   "metadata": {},
   "outputs": [],
   "source": [
    "#We scale each variable in the range [0-1]. This will ease the visualization of data (and machine learning algorithms)\n",
    "from explore_datasets import scale\n",
    "financial_data = financial_data.apply(scale)"
   ]
  },
  {
   "cell_type": "code",
   "execution_count": 12,
   "metadata": {},
   "outputs": [
    {
     "name": "stdout",
     "output_type": "stream",
     "text": [
      "            name    poi                 variable     value\n",
      "0     METTS MARK  False                   salary  0.013680\n",
      "146   METTS MARK  False                    bonus  0.005449\n",
      "292   METTS MARK  False      long_term_incentive       NaN\n",
      "438   METTS MARK  False        deferral_payments       NaN\n",
      "584   METTS MARK  False                    other  0.000041\n",
      "730   METTS MARK  False                 expenses  0.017985\n",
      "876   METTS MARK  False  exercised_stock_options       NaN\n",
      "1022  METTS MARK  False         restricted_stock  0.023995\n"
     ]
    }
   ],
   "source": [
    "#We melt the table\n",
    "import pandas as pd\n",
    "financial_records = pd.melt(financial_data, id_vars=['name', 'poi'])\n",
    "print financial_records[financial_records['name'] == 'METTS MARK']"
   ]
  },
  {
   "cell_type": "code",
   "execution_count": 13,
   "metadata": {},
   "outputs": [
    {
     "data": {
      "image/png": "[encoded data removed]",
      "text/plain": [
       "<matplotlib.figure.Figure at 0x7feca1f45a90>"
      ]
     },
     "metadata": {},
     "output_type": "display_data"
    }
   ],
   "source": [
    "%matplotlib inline\n",
    "from explore_datasets import plot_distribution\n",
    "plot_distribution(financial_records)"
   ]
  },
  {
   "cell_type": "markdown",
   "metadata": {},
   "source": [
    "From the plot above, we see that each feature has an outlier. We can have a closer look to this outlier:"
   ]
  },
  {
   "cell_type": "code",
   "execution_count": 14,
   "metadata": {},
   "outputs": [
    {
     "data": {
      "text/html": [
       "<div>\n",
       "<style>\n",
       "    .dataframe thead tr:only-child th {\n",
       "        text-align: right;\n",
       "    }\n",
       "\n",
       "    .dataframe thead th {\n",
       "        text-align: left;\n",
       "    }\n",
       "\n",
       "    .dataframe tbody tr th {\n",
       "        vertical-align: top;\n",
       "    }\n",
       "</style>\n",
       "<table border=\"1\" class=\"dataframe\">\n",
       "  <thead>\n",
       "    <tr style=\"text-align: right;\">\n",
       "      <th></th>\n",
       "      <th>name</th>\n",
       "      <th>poi</th>\n",
       "      <th>variable</th>\n",
       "      <th>value</th>\n",
       "    </tr>\n",
       "  </thead>\n",
       "  <tbody>\n",
       "    <tr>\n",
       "      <th>104</th>\n",
       "      <td>TOTAL</td>\n",
       "      <td>False</td>\n",
       "      <td>salary</td>\n",
       "      <td>1.0</td>\n",
       "    </tr>\n",
       "    <tr>\n",
       "      <th>250</th>\n",
       "      <td>TOTAL</td>\n",
       "      <td>False</td>\n",
       "      <td>bonus</td>\n",
       "      <td>1.0</td>\n",
       "    </tr>\n",
       "    <tr>\n",
       "      <th>396</th>\n",
       "      <td>TOTAL</td>\n",
       "      <td>False</td>\n",
       "      <td>long_term_incentive</td>\n",
       "      <td>1.0</td>\n",
       "    </tr>\n",
       "    <tr>\n",
       "      <th>542</th>\n",
       "      <td>TOTAL</td>\n",
       "      <td>False</td>\n",
       "      <td>deferral_payments</td>\n",
       "      <td>1.0</td>\n",
       "    </tr>\n",
       "    <tr>\n",
       "      <th>688</th>\n",
       "      <td>TOTAL</td>\n",
       "      <td>False</td>\n",
       "      <td>other</td>\n",
       "      <td>1.0</td>\n",
       "    </tr>\n",
       "    <tr>\n",
       "      <th>834</th>\n",
       "      <td>TOTAL</td>\n",
       "      <td>False</td>\n",
       "      <td>expenses</td>\n",
       "      <td>1.0</td>\n",
       "    </tr>\n",
       "    <tr>\n",
       "      <th>980</th>\n",
       "      <td>TOTAL</td>\n",
       "      <td>False</td>\n",
       "      <td>exercised_stock_options</td>\n",
       "      <td>1.0</td>\n",
       "    </tr>\n",
       "    <tr>\n",
       "      <th>1126</th>\n",
       "      <td>TOTAL</td>\n",
       "      <td>False</td>\n",
       "      <td>restricted_stock</td>\n",
       "      <td>1.0</td>\n",
       "    </tr>\n",
       "  </tbody>\n",
       "</table>\n",
       "</div>"
      ],
      "text/plain": [
       "       name    poi                 variable  value\n",
       "104   TOTAL  False                   salary    1.0\n",
       "250   TOTAL  False                    bonus    1.0\n",
       "396   TOTAL  False      long_term_incentive    1.0\n",
       "542   TOTAL  False        deferral_payments    1.0\n",
       "688   TOTAL  False                    other    1.0\n",
       "834   TOTAL  False                 expenses    1.0\n",
       "980   TOTAL  False  exercised_stock_options    1.0\n",
       "1126  TOTAL  False         restricted_stock    1.0"
      ]
     },
     "execution_count": 14,
     "metadata": {},
     "output_type": "execute_result"
    }
   ],
   "source": [
    "financial_records[financial_records[\"value\"] >= 0.9]"
   ]
  },
  {
   "cell_type": "markdown",
   "metadata": {},
   "source": [
    "There is a TOTAL row in the dataset, we should get rid of it and re-plot the distribution:"
   ]
  },
  {
   "cell_type": "code",
   "execution_count": 15,
   "metadata": {},
   "outputs": [
    {
     "data": {
      "image/png": "[encoded data removed]",
      "text/plain": [
       "<matplotlib.figure.Figure at 0x7fec9eac5950>"
      ]
     },
     "metadata": {},
     "output_type": "display_data"
    }
   ],
   "source": [
    "financial_records = financial_records[financial_records['name'] != \"TOTAL\"]\n",
    "financial_data = financial_data[financial_data['name'] != \"TOTAL\"]\n",
    "plot_distribution(financial_records)"
   ]
  },
  {
   "cell_type": "markdown",
   "metadata": {},
   "source": [
    "From the above plot, there is no evident criteria to identify person of interest looking each feature independently. Apart from *exercised_stock_options* feature for which 4 highest values are for persons of interest, the other features show comparable distributions."
   ]
  },
  {
   "cell_type": "markdown",
   "metadata": {},
   "source": [
    "We can now have a look to non-financial data in this dataset. And we are particularly interested by emails data. The loaded dataset contains features related to emails:"
   ]
  },
  {
   "cell_type": "code",
   "execution_count": 16,
   "metadata": {},
   "outputs": [],
   "source": [
    "#We only keep email data and POI\n",
    "email_data = df.loc[:, [\"email_address\", \"from_messages\", \"from_poi_to_this_person\", \"from_this_person_to_poi\", \"to_messages\", \n",
    "                 \"poi\"]]\n",
    "email_data.reset_index(inplace=True)\n",
    "email_data.rename(columns={'names': 'name'}, inplace=True)\n",
    "email_data = email_data[email_data['name'] != \"TOTAL\"]\n",
    "email_data = email_data.applymap(convert_to_numeric)"
   ]
  },
  {
   "cell_type": "markdown",
   "metadata": {},
   "source": [
    "This information is provided here as a \"shortcut\", but may be regenerated from e-mails dataset. As we have done with financial data, we are going to scale *from_poi_to_this_person* and *from_this_person_to_poi*. This time we are going to use the provided *from_messages* and *to_messages* to do so:"
   ]
  },
  {
   "cell_type": "code",
   "execution_count": 17,
   "metadata": {},
   "outputs": [],
   "source": [
    "email_data = email_data.assign(**{'from_poi': email_data['from_poi_to_this_person']/email_data['to_messages'],\n",
    "                                  'to_poi': email_data['from_this_person_to_poi']/email_data['from_messages']})"
   ]
  },
  {
   "cell_type": "code",
   "execution_count": 18,
   "metadata": {},
   "outputs": [
    {
     "data": {
      "image/png": "[encoded data removed]",
      "text/plain": [
       "<matplotlib.figure.Figure at 0x7fec9eb79210>"
      ]
     },
     "metadata": {},
     "output_type": "display_data"
    }
   ],
   "source": [
    "from explore_datasets import plot_email_data\n",
    "plot_email_data(email_data)"
   ]
  },
  {
   "cell_type": "markdown",
   "metadata": {},
   "source": [
    "We can see from the plot above that is quite easy to identify a quadrant (delimited with dashed lines) of space out of which people are not persons of interest. This is certainly a trait that machine learning algorithms will be able to identify. These two features are then valuable to use in input dataset for our machine learning algorithm."
   ]
  },
  {
   "cell_type": "markdown",
   "metadata": {},
   "source": [
    "<a id='Dataset questions'/>"
   ]
  },
  {
   "cell_type": "markdown",
   "metadata": {},
   "source": [
    "### Dataset questions [*dataset*](#Dataset)"
   ]
  },
  {
   "cell_type": "code",
   "execution_count": 19,
   "metadata": {},
   "outputs": [
    {
     "data": {
      "text/plain": [
       "145"
      ]
     },
     "execution_count": 19,
     "metadata": {},
     "output_type": "execute_result"
    }
   ],
   "source": [
    "financial_data.shape[0]"
   ]
  },
  {
   "cell_type": "markdown",
   "metadata": {},
   "source": [
    "Total number of data points: 145\n",
    "\n",
    "This is after the removal of one outlier in the dataset which is an item holding the total values for each feature."
   ]
  },
  {
   "cell_type": "code",
   "execution_count": 20,
   "metadata": {},
   "outputs": [
    {
     "data": {
      "image/png": "[encoded data removed]",
      "text/plain": [
       "<matplotlib.figure.Figure at 0x7fecd0176950>"
      ]
     },
     "metadata": {},
     "output_type": "display_data"
    }
   ],
   "source": [
    "from explore_datasets import plot_classes\n",
    "grouped = plot_classes(financial_data)"
   ]
  },
  {
   "cell_type": "code",
   "execution_count": 21,
   "metadata": {},
   "outputs": [
    {
     "data": {
      "text/html": [
       "<div>\n",
       "<style>\n",
       "    .dataframe thead tr:only-child th {\n",
       "        text-align: right;\n",
       "    }\n",
       "\n",
       "    .dataframe thead th {\n",
       "        text-align: left;\n",
       "    }\n",
       "\n",
       "    .dataframe tbody tr th {\n",
       "        vertical-align: top;\n",
       "    }\n",
       "</style>\n",
       "<table border=\"1\" class=\"dataframe\">\n",
       "  <thead>\n",
       "    <tr style=\"text-align: right;\">\n",
       "      <th></th>\n",
       "      <th>name</th>\n",
       "      <th>salary</th>\n",
       "      <th>bonus</th>\n",
       "      <th>long_term_incentive</th>\n",
       "      <th>deferral_payments</th>\n",
       "      <th>other</th>\n",
       "      <th>expenses</th>\n",
       "      <th>exercised_stock_options</th>\n",
       "      <th>restricted_stock</th>\n",
       "    </tr>\n",
       "    <tr>\n",
       "      <th>poi</th>\n",
       "      <th></th>\n",
       "      <th></th>\n",
       "      <th></th>\n",
       "      <th></th>\n",
       "      <th></th>\n",
       "      <th></th>\n",
       "      <th></th>\n",
       "      <th></th>\n",
       "      <th></th>\n",
       "    </tr>\n",
       "  </thead>\n",
       "  <tbody>\n",
       "    <tr>\n",
       "      <th>False</th>\n",
       "      <td>127</td>\n",
       "      <td>77</td>\n",
       "      <td>65</td>\n",
       "      <td>53</td>\n",
       "      <td>33</td>\n",
       "      <td>74</td>\n",
       "      <td>76</td>\n",
       "      <td>89</td>\n",
       "      <td>92</td>\n",
       "    </tr>\n",
       "    <tr>\n",
       "      <th>True</th>\n",
       "      <td>18</td>\n",
       "      <td>17</td>\n",
       "      <td>16</td>\n",
       "      <td>12</td>\n",
       "      <td>5</td>\n",
       "      <td>18</td>\n",
       "      <td>18</td>\n",
       "      <td>12</td>\n",
       "      <td>17</td>\n",
       "    </tr>\n",
       "  </tbody>\n",
       "</table>\n",
       "</div>"
      ],
      "text/plain": [
       "       name  salary  bonus  long_term_incentive  deferral_payments  other  \\\n",
       "poi                                                                         \n",
       "False   127      77     65                   53                 33     74   \n",
       "True     18      17     16                   12                  5     18   \n",
       "\n",
       "       expenses  exercised_stock_options  restricted_stock  \n",
       "poi                                                         \n",
       "False        76                       89                92  \n",
       "True         18                       12                17  "
      ]
     },
     "execution_count": 21,
     "metadata": {},
     "output_type": "execute_result"
    }
   ],
   "source": [
    "grouped.head()"
   ]
  },
  {
   "cell_type": "markdown",
   "metadata": {},
   "source": [
    "There are 145 people in dataset. 18 are persons of interest, 127 are not. In this financial data, we can see that we have missing values for each of the selected features (the count of feature differs from the one of *name*). *restricted_stock* is the most complete feature while *deferral_payments* is the one with less information."
   ]
  },
  {
   "cell_type": "code",
   "execution_count": 22,
   "metadata": {},
   "outputs": [
    {
     "data": {
      "text/html": [
       "<div>\n",
       "<style>\n",
       "    .dataframe thead tr:only-child th {\n",
       "        text-align: right;\n",
       "    }\n",
       "\n",
       "    .dataframe thead th {\n",
       "        text-align: left;\n",
       "    }\n",
       "\n",
       "    .dataframe tbody tr th {\n",
       "        vertical-align: top;\n",
       "    }\n",
       "</style>\n",
       "<table border=\"1\" class=\"dataframe\">\n",
       "  <thead>\n",
       "    <tr style=\"text-align: right;\">\n",
       "      <th></th>\n",
       "      <th>name</th>\n",
       "      <th>email_address</th>\n",
       "      <th>from_messages</th>\n",
       "      <th>from_poi_to_this_person</th>\n",
       "      <th>from_this_person_to_poi</th>\n",
       "      <th>to_messages</th>\n",
       "      <th>from_poi</th>\n",
       "      <th>to_poi</th>\n",
       "    </tr>\n",
       "    <tr>\n",
       "      <th>poi</th>\n",
       "      <th></th>\n",
       "      <th></th>\n",
       "      <th></th>\n",
       "      <th></th>\n",
       "      <th></th>\n",
       "      <th></th>\n",
       "      <th></th>\n",
       "      <th></th>\n",
       "    </tr>\n",
       "  </thead>\n",
       "  <tbody>\n",
       "    <tr>\n",
       "      <th>False</th>\n",
       "      <td>127</td>\n",
       "      <td>93</td>\n",
       "      <td>72</td>\n",
       "      <td>72</td>\n",
       "      <td>72</td>\n",
       "      <td>72</td>\n",
       "      <td>72</td>\n",
       "      <td>72</td>\n",
       "    </tr>\n",
       "    <tr>\n",
       "      <th>True</th>\n",
       "      <td>18</td>\n",
       "      <td>18</td>\n",
       "      <td>14</td>\n",
       "      <td>14</td>\n",
       "      <td>14</td>\n",
       "      <td>14</td>\n",
       "      <td>14</td>\n",
       "      <td>14</td>\n",
       "    </tr>\n",
       "  </tbody>\n",
       "</table>\n",
       "</div>"
      ],
      "text/plain": [
       "       name  email_address  from_messages  from_poi_to_this_person  \\\n",
       "poi                                                                  \n",
       "False   127             93             72                       72   \n",
       "True     18             18             14                       14   \n",
       "\n",
       "       from_this_person_to_poi  to_messages  from_poi  to_poi  \n",
       "poi                                                            \n",
       "False                       72           72        72      72  \n",
       "True                        14           14        14      14  "
      ]
     },
     "execution_count": 22,
     "metadata": {},
     "output_type": "execute_result"
    }
   ],
   "source": [
    "grouped = email_data.groupby(\"poi\", as_index=True).count()\n",
    "grouped.head()"
   ]
  },
  {
   "cell_type": "markdown",
   "metadata": {},
   "source": [
    "There are only 14 out of 18 POI's for whom we have an actual value for *from_poi* and *to_poi*. And only 72 non-POI's for which we have actual values for the same features out of 127."
   ]
  },
  {
   "cell_type": "markdown",
   "metadata": {},
   "source": [
    "We then have a list of ten features we will user later on in the analysis:\n",
    "- salary\n",
    "- bonus\n",
    "- long_term_incentive\n",
    "- deferral_payments\n",
    "- other\n",
    "- expanses\n",
    "- exercised_stock_options\n",
    "- restricted_stock\n",
    "- from_poi\n",
    "- to_poi"
   ]
  },
  {
   "cell_type": "markdown",
   "metadata": {},
   "source": [
    "<a id=\"Feature\"/>"
   ]
  },
  {
   "cell_type": "markdown",
   "metadata": {},
   "source": [
    "## Feature selection [*top*](#Top)"
   ]
  },
  {
   "cell_type": "markdown",
   "metadata": {},
   "source": [
    "In the [previous](#Dataset), we have explored the financial and email data that we have. We already have introduced new features for email based on recombination of features so that we have fractions of emails from and to POI's instead.\n",
    "\n",
    "Additionaly, for financial data, we have scaled the features. This may not be required by some machine learning algorithms but will significantly improve the performance of some others. As email features are represented with email fractions, they are also already scaled.\n",
    "\n",
    "In this section, we will then focus on feature selection algorithms. We wil identify various sets of features and then compare the performance of machine learning algorithms on those various sets."
   ]
  },
  {
   "cell_type": "markdown",
   "metadata": {},
   "source": [
    "<a id=\"Combine\"/>"
   ]
  },
  {
   "cell_type": "markdown",
   "metadata": {},
   "source": [
    "### Combine email and financial features [*feature selection*](#Feature)"
   ]
  },
  {
   "cell_type": "markdown",
   "metadata": {},
   "source": [
    "So far, email and financial data are in different data frames. We are now going to combine both."
   ]
  },
  {
   "cell_type": "code",
   "execution_count": 23,
   "metadata": {},
   "outputs": [],
   "source": [
    "email_data_condensed = email_data[[\"name\", \"from_poi\", \"to_poi\", \"from_poi_to_this_person\", \"from_this_person_to_poi\"]]\n",
    "dataset = financial_data.merge(email_data_condensed, left_on=\"name\", right_on=\"name\")"
   ]
  },
  {
   "cell_type": "markdown",
   "metadata": {},
   "source": [
    "The uncombined email data *from_poi_to_this_person* and *from_this_person_to_poi* are kept to assess they relative relevance with the new introduced features *from_poi* and *to_poi*."
   ]
  },
  {
   "cell_type": "code",
   "execution_count": 24,
   "metadata": {},
   "outputs": [
    {
     "name": "stdout",
     "output_type": "stream",
     "text": [
      "['salary', 'bonus', 'long_term_incentive', 'deferral_payments', 'other', 'expenses', 'exercised_stock_options', 'restricted_stock', 'from_poi', 'to_poi', 'from_poi_to_this_person', 'from_this_person_to_poi']\n"
     ]
    }
   ],
   "source": [
    "features = [column for column in dataset.columns if column not in [\"name\", \"poi\"]]\n",
    "print features"
   ]
  },
  {
   "cell_type": "markdown",
   "metadata": {},
   "source": [
    "A last problem we have with this dataset is that some information is missing (NaN values). This will break scikit-learn algorithms. We have two options:\n",
    "\n",
    "- remove any person in the dataset for which at least one feature is missing\n",
    "- replace NaN values with actual values"
   ]
  },
  {
   "cell_type": "code",
   "execution_count": 25,
   "metadata": {},
   "outputs": [
    {
     "data": {
      "text/plain": [
       "(6, 14)"
      ]
     },
     "execution_count": 25,
     "metadata": {},
     "output_type": "execute_result"
    }
   ],
   "source": [
    "dataset.dropna(axis=0, how='any').shape"
   ]
  },
  {
   "cell_type": "markdown",
   "metadata": {},
   "source": [
    "The first option leads to a dataset for which we only have 6 persons remaining. We have lost a lot of information. We might consider using the second option.\n",
    "\n",
    "In order to minimize the impact of adding data in the dataset, NaN values are going to be replaced by the median value for each feature in the relevant class (POI/non-POI). For example, the missing bonus feature will be replaced by the median value of bonuses for non-POI's person if person is not a POI and by the median value of bonuses for POI persons if person is a POI."
   ]
  },
  {
   "cell_type": "code",
   "execution_count": 26,
   "metadata": {},
   "outputs": [],
   "source": [
    "from explore_datasets import FillNaNWithMedianValues  \n",
    "dataset_cleaned = dataset.apply(FillNaNWithMedianValues(dataset.loc[:, \"poi\"], features))"
   ]
  },
  {
   "cell_type": "markdown",
   "metadata": {},
   "source": [
    "We still have two unscalled features: *from_poi_to_this_person* and *from_this_person_to_poi*. Other financial features had been scaled while outlier was present, so this stage of scalling also modifies the financial features:"
   ]
  },
  {
   "cell_type": "code",
   "execution_count": 27,
   "metadata": {},
   "outputs": [],
   "source": [
    "dataset_cleaned = dataset_cleaned.apply(scale)"
   ]
  },
  {
   "cell_type": "markdown",
   "metadata": {},
   "source": [
    "<a id=\"Univariate\"/>"
   ]
  },
  {
   "cell_type": "markdown",
   "metadata": {},
   "source": [
    "### Univariate feature selection [*feature_selection*](#Feature)"
   ]
  },
  {
   "cell_type": "markdown",
   "metadata": {},
   "source": [
    "In a univariate feature selection algorithm, each feature is evaluated independently. The following algorithms identifies the best 5 features. It also makes available the score of each feature:"
   ]
  },
  {
   "cell_type": "code",
   "execution_count": 28,
   "metadata": {},
   "outputs": [
    {
     "name": "stdout",
     "output_type": "stream",
     "text": [
      "salary                        11.83\n",
      "bonus                         18.90\n",
      "long_term_incentive           23.24\n",
      "deferral_payments             0.56\n",
      "other                         4.16\n",
      "expenses                      1.21\n",
      "exercised_stock_options       40.15\n",
      "restricted_stock              9.06\n",
      "from_poi                      2.81\n",
      "to_poi                        29.93\n",
      "from_poi_to_this_person       6.97\n",
      "from_this_person_to_poi       2.66\n"
     ]
    }
   ],
   "source": [
    "from sklearn.feature_selection import SelectKBest\n",
    "\n",
    "selection = SelectKBest(k=5)\n",
    "selection.fit(dataset_cleaned[features], dataset_cleaned[\"poi\"])\n",
    "for feature, score in zip(features, selection.scores_):\n",
    "    print \"{:30s}{:.2f}\".format(feature, score)"
   ]
  },
  {
   "cell_type": "markdown",
   "metadata": {},
   "source": [
    "<a id=\"Recursive\"/>"
   ]
  },
  {
   "cell_type": "markdown",
   "metadata": {},
   "source": [
    "### Recursive feature selection [*feature selection*](#Feature)"
   ]
  },
  {
   "cell_type": "markdown",
   "metadata": {},
   "source": [
    "In a recursive feature selection, a supervised classifier is trained with various combinations of features. The following algorithm identifies the best features, this way, we can have access to a full ranking of features. We use a support vector machine classifier with a linear kernel as it is the only one kernel exposing the feature importance, which is required by recursive feature selection algorithm:"
   ]
  },
  {
   "cell_type": "code",
   "execution_count": 29,
   "metadata": {},
   "outputs": [
    {
     "name": "stdout",
     "output_type": "stream",
     "text": [
      "salary                         5\n",
      "bonus                          7\n",
      "long_term_incentive            2\n",
      "deferral_payments              3\n",
      "other                          6\n",
      "expenses                      10\n",
      "exercised_stock_options        1\n",
      "restricted_stock              11\n",
      "from_poi                      12\n",
      "to_poi                         4\n",
      "from_poi_to_this_person        9\n",
      "from_this_person_to_poi        8\n"
     ]
    }
   ],
   "source": [
    "from sklearn.svm import SVC\n",
    "from sklearn.feature_selection import RFE\n",
    "\n",
    "selection = RFE(estimator=SVC(kernel=\"linear\"), n_features_to_select=1)\n",
    "selection.fit(dataset_cleaned[features], dataset_cleaned[\"poi\"])\n",
    "for feature, ranking in zip(features, selection.ranking_):\n",
    "    print \"{:30s}{:2d}\".format(feature, ranking)"
   ]
  },
  {
   "cell_type": "markdown",
   "metadata": {},
   "source": [
    "The two different algorithms ranked *exercised_stock_options* as the best feature. In [Data Exploration](#Exploration) section, we have seen that this feature would probably be useful as the four highest values are all POI's.\n",
    "\n",
    "In both cases, *long_term_incentives*, *to_poi* and *salary* are considered as good features even if ranking differs.\n",
    "\n",
    "The case of *deferral_payments* feature is different. It is poorly scored with univariate selection technique and highly ranked with recursive method.\n",
    "\n",
    "During dataset exploration we have created two features: *from_poi* and *to_poi* which are respectively derived from *from_poi_to_this_person* and *from_this_person_to_poi*. It's interesting to see that *to_poi* is in both case considered as a better feature. However, this is the opposite for *from_poi* which is ranked lower than its *from_poi_to_this_person* counterpart.\n",
    "\n",
    "Let's try again with a different estimate:"
   ]
  },
  {
   "cell_type": "code",
   "execution_count": 30,
   "metadata": {},
   "outputs": [
    {
     "name": "stdout",
     "output_type": "stream",
     "text": [
      "salary                        12\n",
      "bonus                          3\n",
      "long_term_incentive           11\n",
      "deferral_payments              2\n",
      "other                         10\n",
      "expenses                       9\n",
      "exercised_stock_options        8\n",
      "restricted_stock               7\n",
      "from_poi                       4\n",
      "to_poi                         6\n",
      "from_poi_to_this_person        1\n",
      "from_this_person_to_poi        5\n"
     ]
    }
   ],
   "source": [
    "from sklearn.tree import DecisionTreeClassifier\n",
    "\n",
    "selection = RFE(estimator=DecisionTreeClassifier(), n_features_to_select=1)\n",
    "selection.fit(dataset_cleaned[features], dataset_cleaned[\"poi\"])\n",
    "for feature, ranking in zip(features, selection.ranking_):\n",
    "    print \"{:30s}{:2d}\".format(feature, ranking)"
   ]
  },
  {
   "cell_type": "markdown",
   "metadata": {},
   "source": [
    "This leads to very different results:\n",
    "\n",
    "- *bonus* still seems to be considered as an important feature\n",
    "- *exercised_stock_options* is far lower in the list\n",
    "- *deferral_payments* is ranked high, just like with other estimate (linear support vector classifier)\n",
    "- email features are all ranked quite high\n",
    "- newly introduced email features are both ranked below their counterparts."
   ]
  },
  {
   "cell_type": "markdown",
   "metadata": {},
   "source": [
    "<a id=\"Feature selection conclusion\"/>"
   ]
  },
  {
   "cell_type": "markdown",
   "metadata": {},
   "source": [
    "### Conclusion [*feature selection*](#Feature)"
   ]
  },
  {
   "cell_type": "markdown",
   "metadata": {},
   "source": [
    "We have seen different ways to select features but also very different results. It seems now impossible to state which one is better. We have to wait for a full cross-validation process.\n",
    "\n",
    "The machine learning step will then include different features selection algorithms with different number of selected features. This will slow down the machine learning step but will give better assessment of performance of those selection algorithms.\n",
    "\n",
    "The choice of using features like *to_poi* and *from_poi* is debatable because part of the target (POI / non-POI) is actually contained in the feature. This might create a data leakage and cause the predicition model to have less accuracte predictions on unseen data."
   ]
  },
  {
   "cell_type": "markdown",
   "metadata": {},
   "source": [
    "<a id='Machine learning'/>"
   ]
  },
  {
   "cell_type": "markdown",
   "metadata": {},
   "source": [
    "## Machine learning [*top*](#Top)"
   ]
  },
  {
   "cell_type": "markdown",
   "metadata": {},
   "source": [
    "Now we have explored the dataset, cleaned it by removing outliers and replacing missing values, created new features and selected the most valuable features we are almost ready to start training a classifier algorithm.\n",
    "\n",
    "Actually, we still need a final step before we can go. To be able to validate the performance of the classifier we need to split the dataset between a training set and a testing set. Without doing this, analyzing the performance of the classifier would be biassed as we would assess the performance on the dataset used to train the algorithm. The problem with that is that we cannot predict the behavior of the algorithms on unseen data. Said differently we cannot assess the bias-variance trade-off that we made. See [Appendix](#Appendix) for documents related to bias-variance trade-off."
   ]
  },
  {
   "cell_type": "markdown",
   "metadata": {},
   "source": [
    "<a id='Cross-validation strategy'>"
   ]
  },
  {
   "cell_type": "markdown",
   "metadata": {},
   "source": [
    "### Cross-validation strategy [*machine learning*](#Machine learning)"
   ]
  },
  {
   "cell_type": "markdown",
   "metadata": {},
   "source": [
    "We have two issues with the dataset:\n",
    "\n",
    "- it is quite small (only 146 samples)\n",
    "- the classes (POI and non-POI) are not evenly distributed: we have a very low percentage of POI's (12%)\n",
    "\n",
    "We could have split once and for all dataset into a training and testing dataset, but we cannot rely on pure randomness to do that, as we cannot be sure to have enough POI's in the testing sample.\n",
    "\n",
    "Moreover, moving POI's samples to the test dataset reduces even more the number of POI's we have in the training dataset.\n",
    "\n",
    "I have then chosen to use technique that is going to split dataset multiple times with different samples each time. These methods implies that machine learning will run slower as the learning process is done multiple times. But as the dataset is quite small, this should not be a showstopper.\n",
    "\n",
    "Moreover, Scikit-learn provides stratified versions of algorithms which enables to preserve the percentage of classes in train and test splits. This will increase the chance that F1, recall and precision scores may be calculated at each iteration of cross-validation.\n",
    "\n",
    "In the next sections, the following strategies will be used:\n",
    "\n",
    "- 3-fold: default number of splits when used in conjuction with grid search, 66% of dataset is used for training\n",
    "- 8-fold: to maximize the size of training dataset, 87.5% will be used at each iteration of cross-valudation"
   ]
  },
  {
   "cell_type": "markdown",
   "metadata": {},
   "source": [
    "<a id='Algorithm choice'/>"
   ]
  },
  {
   "cell_type": "markdown",
   "metadata": {},
   "source": [
    "### Algorithm choice [*machine learning*](#Machine learning)"
   ]
  },
  {
   "cell_type": "markdown",
   "metadata": {},
   "source": [
    "Scikit-learn offers a myriad of algorithms. The problem we have calls for supervised classification algorithms because we already know the classes that we want to predict (POI / non-POI).\n",
    "\n",
    "The following algorithms will be used and their performance will be compared.\n",
    "\n",
    "- a multilayer perceptron (artifical neural network)\n",
    "- a support vector machine with radial-basis function kernel\n",
    "- ensemble method (AdaBoost) using a decision tree classifier\n",
    "\n",
    "As already discussed, we will also use three different feature selection algorithms:\n",
    "\n",
    "- a univariate method with SelectKBest\n",
    "- a recursive method with RFE (recursive feature elimination) using a simple linear-kernel support vector classifier\n",
    "- and a recursive method with a decision tree classifier as estimator\n",
    "\n",
    "Finally, we will also have two different cross-validation techniques:\n",
    "\n",
    "- stratified 3-fold \n",
    "- stratified 8-fold\n",
    "\n",
    "Overall, this are 18 different combinations that are going to be compared in terms of performance (fit time, f1, recall and precision).\n",
    "\n",
    "To streamline the overall execution, we will use a [pipeline](http://scikit-learn.org/stable/tutorial/statistical_inference/putting_together.html). And we will also use a [GridSearchCV](http://scikit-learn.org/stable/modules/generated/sklearn.model_selection.GridSearchCV.html) to help us fine tuning the classification algorithms."
   ]
  },
  {
   "cell_type": "markdown",
   "metadata": {},
   "source": [
    "<a id='Bias variance trade-off'/>"
   ]
  },
  {
   "cell_type": "markdown",
   "metadata": {},
   "source": [
    "### Bias variance trade-off [*machine learning*](#Machine learning)"
   ]
  },
  {
   "cell_type": "markdown",
   "metadata": {},
   "source": [
    "Now we have selected our family of classification algorithms, we need to find the right combination of parameters for each of them.\n",
    "\n",
    "Scikit-Learn provides default values for each parameter in classification algorithm. This is for the sake of uniformisation in the way algorithms may be used and parameteres with model selection techniques (like the grid search technique we use in this project). But more often than not, default parameters are not suitable for the problem we try to solve.\n",
    "\n",
    "Tuning the classification algorithms parameters enables to find a right balance between the bias and variance of the prediction model. The ideal situation is to have a low bias and low variance model. The more assumptions are made about the training dataset, the more bias we have. For example, if we try to predict a non-linear separable behavior with a linear classifier, we have a high bias because we made the assumption that data is linearly separable while it is not. This kind of model will have a very low score on the training dataset: it will not be able to even predict the data used for training the model. On the other side, we have a high variance model when the model tries to predict perfectly the training data and cannot generalize to unseen data. This situation is called overfitting. One typical example would be to have a noisy linear training dataset and a predicition model bieng able to predict the noise with the training data.\n",
    "\n",
    "One way to control the bias for example for support vector machine is to set the kernel. A linear problem calls for a linear kernel, quasi-linear might use a polynomial kernel, but highly non-linear problem would require a radial basis function kernel. The equivalent for a multilayer perceptron would be to select the right activation function.\n",
    "\n",
    "The variance may be controled, for example, by tuning the parameter controlling the penalty term of algorithm. This penalty parameter is used by the classifier to evaluate the cost of misprediction in the training dataset. A high value forces the algorithms to further improve the separations (hyperplanes in the case of support vector machines, deeper tests for decision trees...) it creates internaly to best fit the training data.\n",
    "\n",
    "Bias and variance of classification are unfornutatly not independent. For example, decreasing the penalty term of a support vector classifier decreases the variance while increasing the bias (we make more and more assumptions).\n",
    "\n",
    "Parameters tuning enable to find a trade-off between low bias and low variance."
   ]
  },
  {
   "cell_type": "markdown",
   "metadata": {},
   "source": [
    "<a id='Learn'/>"
   ]
  },
  {
   "cell_type": "markdown",
   "metadata": {},
   "source": [
    "### Time to learn ! [*machine learning*](#Machine learning)"
   ]
  },
  {
   "cell_type": "markdown",
   "metadata": {},
   "source": [
    "It's now time to setup the pipelines.\n",
    "\n",
    "Let's start by configuring the feature selection algorithms. *k* and *n_features_to_select* will be configured with the grid search technique. When using 12 features, all features are used for training, there is no selection anymore."
   ]
  },
  {
   "cell_type": "code",
   "execution_count": 31,
   "metadata": {},
   "outputs": [],
   "source": [
    "select_kbest = SelectKBest()\n",
    "select_rfe_svc = RFE(estimator=SVC(kernel=\"linear\"))\n",
    "select_rfe_tree = RFE(estimator=DecisionTreeClassifier())\n",
    "\n",
    "select_algorithms = [\n",
    "    ('K-best', select_kbest, {'select__k': [2, 5, 8, 12]}),\n",
    "    ('RFE-SVC', select_rfe_svc, {'select__n_features_to_select': [2, 5, 8, 12]}),\n",
    "    ('RFE-tree', select_rfe_tree, {'select__n_features_to_select': [2, 5, 8, 12]}),\n",
    "]"
   ]
  },
  {
   "cell_type": "markdown",
   "metadata": {},
   "source": [
    "The classification algorithms:\n",
    "\n",
    "- SVC (support vector machine classifier) will use a radial-basis function kernel and the *C* and *gamma* parameters will be tuned.\n",
    "- MLP (multi-layer perceptron) will use different combinations of hidden layer, different solvers for the back-propagation, different learning rates, different *alpha* values and different activation functions for the neurons.\n",
    "- AdaBoost will use a decision tree classifier as base estimator. The maximum depth of base estimator and the number of estimators in the ensemble method will be investigated."
   ]
  },
  {
   "cell_type": "code",
   "execution_count": 32,
   "metadata": {},
   "outputs": [],
   "source": [
    "from sklearn.svm import SVC\n",
    "from sklearn.neural_network import MLPClassifier\n",
    "from sklearn.ensemble import AdaBoostClassifier\n",
    "\n",
    "classify_svc = SVC()\n",
    "classify_mlp = MLPClassifier()\n",
    "classify_adt = AdaBoostClassifier(DecisionTreeClassifier())\n",
    "\n",
    "classify_algorithms = [\n",
    "    ('SVC', classify_svc, {'classify__C': [1., 10., 100., 1000., 10000., 10000.], \n",
    "                           'classify__gamma': [0.1, 0.01, 0.001, 0.0001, 0.00001]}),\n",
    "    ('MLP', classify_mlp, {'classify__learning_rate_init': [0.01, 0.001, 0.0001],\n",
    "                           'classify__solver': ['lbfgs', 'adam'],\n",
    "                           'classify__hidden_layer_sizes': [(10,), (20,), (10, 10)],\n",
    "                           'classify__alpha': [0.001, 0.0001, 0.00001],\n",
    "                           'classify__activation': ['logistic', 'relu']}),\n",
    "    ('AdaBoost-tree', classify_adt, {'classify__base_estimator__max_depth': [1, 2, 4, 8, 16], \n",
    "                                     'classify__n_estimators': [25, 50, 100]}),\n",
    "]"
   ]
  },
  {
   "cell_type": "markdown",
   "metadata": {},
   "source": [
    "The cross-validation algorithms:"
   ]
  },
  {
   "cell_type": "code",
   "execution_count": 33,
   "metadata": {},
   "outputs": [],
   "source": [
    "from sklearn.model_selection import StratifiedKFold\n",
    "validate_3fold = StratifiedKFold(n_splits=3, shuffle=True, random_state=1234)\n",
    "validate_8fold = StratifiedKFold(n_splits=8, shuffle=True, random_state=1234)\n",
    "\n",
    "validation_algorithms = [\n",
    "    ('3-Fold', validate_3fold),\n",
    "    ('8-Fold', validate_8fold),\n",
    "]"
   ]
  },
  {
   "cell_type": "markdown",
   "metadata": {},
   "source": [
    "We can now build the pipelines and apply the grid search method with cross-validation. We collect different scoring but will keep F1 as the more relevant (this choice is justified [later](#Compare algorithms)). *n_jobs* enables to take advantage of multicore machines and speed-up the learning process.\n",
    "\n",
    "If you want to force the learning time, switch the below variable from False to True. By default, the learning results are recovered from a saved file.\n",
    "\n",
    "> **Warning**: \n",
    "> The learning time may be long. You can increase or reduce the *N_JOBS* variable to use less or more cores on your  \n",
    "> computer."
   ]
  },
  {
   "cell_type": "code",
   "execution_count": 34,
   "metadata": {
    "collapsed": true
   },
   "outputs": [],
   "source": [
    "FORCE_LEARNING = True\n",
    "GRID_RESULTS = 'dataset/grid_results.pkl'\n",
    "N_JOBS = 6"
   ]
  },
  {
   "cell_type": "code",
   "execution_count": 35,
   "metadata": {},
   "outputs": [
    {
     "name": "stdout",
     "output_type": "stream",
     "text": [
      "('K-best', 'SVC', '3-Fold') done\n",
      "('K-best', 'SVC', '8-Fold') done\n",
      "('K-best', 'MLP', '3-Fold') done\n",
      "('K-best', 'MLP', '8-Fold') done\n",
      "('K-best', 'AdaBoost-tree', '3-Fold') done\n",
      "('K-best', 'AdaBoost-tree', '8-Fold') done\n",
      "('RFE-SVC', 'SVC', '3-Fold') done\n",
      "('RFE-SVC', 'SVC', '8-Fold') done\n",
      "('RFE-SVC', 'MLP', '3-Fold') done\n",
      "('RFE-SVC', 'MLP', '8-Fold') done\n",
      "('RFE-SVC', 'AdaBoost-tree', '3-Fold') done\n",
      "('RFE-SVC', 'AdaBoost-tree', '8-Fold') done\n",
      "('RFE-tree', 'SVC', '3-Fold') done\n",
      "('RFE-tree', 'SVC', '8-Fold') done\n",
      "('RFE-tree', 'MLP', '3-Fold') done\n",
      "('RFE-tree', 'MLP', '8-Fold') done\n",
      "('RFE-tree', 'AdaBoost-tree', '3-Fold') done\n",
      "('RFE-tree', 'AdaBoost-tree', '8-Fold') done\n"
     ]
    }
   ],
   "source": [
    "from sklearn.pipeline import Pipeline\n",
    "from sklearn.model_selection import GridSearchCV\n",
    "import warnings\n",
    "import pickle\n",
    "import os\n",
    "\n",
    "if not os.path.exists(GRID_RESULTS) or FORCE_LEARNING:\n",
    "    with warnings.catch_warnings():\n",
    "        warnings.simplefilter(\"ignore\")\n",
    "        grids = { }\n",
    "        for select_algo in select_algorithms:\n",
    "            for classify_algo in classify_algorithms:\n",
    "                pipeline = Pipeline([('select', select_algo[1]), ('classify', classify_algo[1])])\n",
    "                for validation_algo in validation_algorithms:\n",
    "                    params = {}\n",
    "                    params.update(select_algo[2])\n",
    "                    params.update(classify_algo[2])\n",
    "                    grid = GridSearchCV(pipeline, \n",
    "                                         params, \n",
    "                                         cv=validation_algo[1], \n",
    "                                         scoring=['accuracy', 'f1', 'precision', 'recall'],\n",
    "                                         refit='f1',\n",
    "                                         n_jobs=6)\n",
    "                    grids[(select_algo[0], classify_algo[0], validation_algo[0])] = grid\n",
    "                    print (select_algo[0], classify_algo[0], validation_algo[0]), \n",
    "                    grid.fit(dataset_cleaned[features], dataset_cleaned[\"poi\"])\n",
    "                    print \"done\"\n",
    "        with open(GRID_RESULTS, 'w') as fobj:\n",
    "            pickle.dump(grids, fobj)\n",
    "else:\n",
    "        with open(GRID_RESULTS, 'r') as fobj:\n",
    "            grids = pickle.load(fobj)"
   ]
  },
  {
   "cell_type": "markdown",
   "metadata": {},
   "source": [
    "We convert all results into a data frame:"
   ]
  },
  {
   "cell_type": "code",
   "execution_count": 36,
   "metadata": {},
   "outputs": [
    {
     "name": "stdout",
     "output_type": "stream",
     "text": [
      "Index([u'classify', u'mean_fit_time', u'mean_score_time',\n",
      "       u'mean_test_accuracy', u'mean_test_f1', u'mean_test_precision',\n",
      "       u'mean_test_recall', u'param_classify__C',\n",
      "       u'param_classify__activation', u'param_classify__alpha',\n",
      "       u'param_classify__base_estimator__max_depth', u'param_classify__gamma',\n",
      "       u'param_classify__hidden_layer_sizes',\n",
      "       u'param_classify__learning_rate_init', u'param_classify__n_estimators',\n",
      "       u'param_classify__solver', u'param_select__n_features', u'params',\n",
      "       u'rank_test_accuracy', u'rank_test_f1', u'rank_test_precision',\n",
      "       u'rank_test_recall', u'select', u'std_fit_time', u'std_score_time',\n",
      "       u'std_test_accuracy', u'std_test_f1', u'std_test_precision',\n",
      "       u'std_test_recall', u'validate'],\n",
      "      dtype='object')\n"
     ]
    }
   ],
   "source": [
    "results_dataset = pd.DataFrame()\n",
    "for (key, value) in grids.iteritems():\n",
    "    select_algo, classify_algo, validate_algo = key\n",
    "    df = pd.DataFrame(grids[key].cv_results_)\n",
    "    keep_columns = filter(lambda x: 'time' in x or 'test' in x or 'param' in x, df.columns)\n",
    "    keep_columns = filter(lambda x: not (x.startswith('split')), keep_columns)\n",
    "    df = df[keep_columns]\n",
    "    df = df.assign(select=select_algo, classify=classify_algo, validate=validate_algo)\n",
    "    if \"param_select__n_features_to_select\" in df.columns:\n",
    "        df.rename(columns={\"param_select__n_features_to_select\": \"param_select__n_features\"}, inplace=True)\n",
    "    elif \"param_select__k\" in df.columns:\n",
    "        df.rename(columns={\"param_select__k\": \"param_select__n_features\"}, inplace=True)\n",
    "    results_dataset = results_dataset.append(df)\n",
    "results_dataset.reset_index(drop=True, inplace=True)\n",
    "print results_dataset.columns"
   ]
  },
  {
   "cell_type": "markdown",
   "metadata": {},
   "source": [
    "<a id='Compare algorithms'/>"
   ]
  },
  {
   "cell_type": "markdown",
   "metadata": {},
   "source": [
    "### Compare algorithms [*machine learning*](#Machine learning)"
   ]
  },
  {
   "cell_type": "markdown",
   "metadata": {},
   "source": [
    "Now we have trained multiple algorithms with different parameters, we might be interested in comparing the performance of the various algorithms. \n",
    "\n",
    "The following scores will be used in this section:\n",
    "\n",
    "- accuracy\n",
    "- recall\n",
    "- precision\n",
    "- F1 score\n",
    "\n",
    "All comparisions are made using the scores obtained on the **test samples**, not the training ones.\n",
    "\n",
    "This [blog post](http://blog.exsilio.com/all/accuracy-precision-recall-f1-score-interpretation-of-performance-measures/) provides a clear description. The **accuracy** is the ratio of correctly predicted observations (positive or negative) over the total number of observations. In our case, as we have an unbalanced distribution of POI and non-POI's, having an algorithm returning always \"non-POI\" as prediction would have a high accuracy. That's why it's not relevant in our case. The **recall** is the capability to correctly predict positive observations from all actual positive obervations. In our case, it's the capability we have to identify persons of interest in a list of actual persons of interest. The **precision** is somehow the confidence we can have if person has been predicted as a person of interest.\n",
    "\n",
    "Said differently, if you want to send people in jail with your algorithm because they are guilty of fraud in the Enron case, you want to make sure that precision is 1.0 ! Otherwise you will have to blame yourself for sentencing innocents. With a low recall score, you take the risk of having guilty people totally free.\n",
    "\n",
    "The **F1 score** is an average of recall and precision. That's why it has been chosen as the main metric.\n",
    "\n",
    "Let's start with a comparison of feature selection algorithms. The F1 scores are aggregated for all classifier methods and for all split made during cross-validation:"
   ]
  },
  {
   "cell_type": "code",
   "execution_count": 37,
   "metadata": {},
   "outputs": [
    {
     "data": {
      "image/png": "[encoded data removed]",
      "text/plain": [
       "<matplotlib.figure.Figure at 0x7fec95dc11d0>"
      ]
     },
     "metadata": {},
     "output_type": "display_data"
    }
   ],
   "source": [
    "from explore_datasets import plot_select\n",
    "compare_select = results_dataset.groupby([\"select\", \"param_select__n_features\"], \n",
    "                                         as_index=True)[[\"mean_test_f1\", \"mean_fit_time\"]].describe()\n",
    "compare_select.reset_index(drop=False, inplace=True)\n",
    "plot_select(compare_select)"
   ]
  },
  {
   "cell_type": "markdown",
   "metadata": {},
   "source": [
    "Even with a low number of features, RFE algorithm obtains good results. There is a significant improvement between 2 and 5 features. The F1 score even tends to decrease when number of features increases above 8. With a 12 features, each algorithm provides the same performance: the differences observed here are solely due to randomization process. SelectKBest is one of the simplest but is less powerfull than the RFE.\n",
    "\n",
    "We can now compare classification algorithms. The box plots make appear: median, first and last quartiles in addition to 1.5 * interquartile range. Beyond that limit, outliers are represented with diamond shapes."
   ]
  },
  {
   "cell_type": "code",
   "execution_count": 38,
   "metadata": {},
   "outputs": [
    {
     "data": {
      "image/png": "[encoded data removed]",
      "text/plain": [
       "<matplotlib.figure.Figure at 0x7fec9d0c5e10>"
      ]
     },
     "metadata": {},
     "output_type": "display_data"
    }
   ],
   "source": [
    "from explore_datasets import plot_classify\n",
    "compare_classify = results_dataset[[\"classify\", \"mean_test_recall\", \"mean_test_precision\", \"mean_test_f1\", \n",
    "                                    \"mean_test_accuracy\", \"mean_fit_time\"]]\n",
    "plot_classify(compare_classify)"
   ]
  },
  {
   "cell_type": "markdown",
   "metadata": {},
   "source": [
    "First, we can see that AdaBoost with a decision tree classifier outperforms the other algorithms. This does not mean it's a better algorithm. It just means that the parameters we have tuned with grid search technique have been able to adjust the model to obtain that level of precision and recall.\n",
    "\n",
    "Then, it appears that we have a dissymmetry between precision and recall. AdaBoost-tree seems to have comparable scores but SVC has better precision than recall. In the contrary, MLP shows better results in terms of recall with some configuration reaching a score of 1.0. As already discussed, in our case we are more interested in precision than in recall.\n",
    "\n",
    "SVC is ranked third on all scores. With an accuracy above 0.85, it only has very precision and recall below 0.8. This illustrates that accuracy score, at least in our example, cannot be trusted.\n",
    "\n",
    "We can see that F1 score reflects both precision and recall, as expected.\n",
    "\n",
    "Finally, in addition of having the best scores, AdaBoost-tree also has decent fit time. MLP classifier is an order of magnitude slower in average and SVC is the faster of the three."
   ]
  },
  {
   "cell_type": "markdown",
   "metadata": {},
   "source": [
    "It may also be interesting to compare the cross-validation algorithms."
   ]
  },
  {
   "cell_type": "code",
   "execution_count": 39,
   "metadata": {},
   "outputs": [
    {
     "data": {
      "image/png": "[encoded data removed]",
      "text/plain": [
       "<matplotlib.figure.Figure at 0x7fec971f8210>"
      ]
     },
     "metadata": {},
     "output_type": "display_data"
    }
   ],
   "source": [
    "from explore_datasets import plot_validate\n",
    "plot_validate(results_dataset)"
   ]
  },
  {
   "cell_type": "markdown",
   "metadata": {},
   "source": [
    "Results are similar, there is no obvious bias in the results due to the cross-validation strategy choice. 8-Fold strategy seems to have better performances for AdaBoost-tree. This might be due to two factors:\n",
    "\n",
    "- 8-Fold has smaller test samples. It is \"easier\" to perform well on a small series of questions than on a longer one.\n",
    "- 8-Fold also has larger training samples, which means that algorithm may have access to additional valuable information to increase its fitness."
   ]
  },
  {
   "cell_type": "markdown",
   "metadata": {},
   "source": [
    "<a id='Learning conclusion'>"
   ]
  },
  {
   "cell_type": "markdown",
   "metadata": {},
   "source": [
    "### Conclusion [*machine learning*](#Machine learning)\n",
    "\n",
    "The best configuration for each familly is reported below:"
   ]
  },
  {
   "cell_type": "code",
   "execution_count": 40,
   "metadata": {},
   "outputs": [
    {
     "data": {
      "text/html": [
       "<div>\n",
       "<style>\n",
       "    .dataframe thead tr:only-child th {\n",
       "        text-align: right;\n",
       "    }\n",
       "\n",
       "    .dataframe thead th {\n",
       "        text-align: left;\n",
       "    }\n",
       "\n",
       "    .dataframe tbody tr th {\n",
       "        vertical-align: top;\n",
       "    }\n",
       "</style>\n",
       "<table border=\"1\" class=\"dataframe\">\n",
       "  <thead>\n",
       "    <tr style=\"text-align: right;\">\n",
       "      <th></th>\n",
       "      <th>mean_test_f1</th>\n",
       "      <th>mean_test_precision</th>\n",
       "      <th>mean_test_recall</th>\n",
       "      <th>param_classify__base_estimator__max_depth</th>\n",
       "      <th>param_classify__n_estimators</th>\n",
       "      <th>select</th>\n",
       "      <th>param_select__n_features</th>\n",
       "    </tr>\n",
       "  </thead>\n",
       "  <tbody>\n",
       "    <tr>\n",
       "      <th>2351</th>\n",
       "      <td>0.875862</td>\n",
       "      <td>0.875862</td>\n",
       "      <td>0.875862</td>\n",
       "      <td>2</td>\n",
       "      <td>100</td>\n",
       "      <td>K-best</td>\n",
       "      <td>12</td>\n",
       "    </tr>\n",
       "    <tr>\n",
       "      <th>438</th>\n",
       "      <td>0.875862</td>\n",
       "      <td>0.875862</td>\n",
       "      <td>0.875862</td>\n",
       "      <td>2</td>\n",
       "      <td>50</td>\n",
       "      <td>RFE-SVC</td>\n",
       "      <td>8</td>\n",
       "    </tr>\n",
       "    <tr>\n",
       "      <th>2807</th>\n",
       "      <td>0.857401</td>\n",
       "      <td>0.905419</td>\n",
       "      <td>0.834483</td>\n",
       "      <td>16</td>\n",
       "      <td>100</td>\n",
       "      <td>K-best</td>\n",
       "      <td>12</td>\n",
       "    </tr>\n",
       "  </tbody>\n",
       "</table>\n",
       "</div>"
      ],
      "text/plain": [
       "      mean_test_f1  mean_test_precision  mean_test_recall  \\\n",
       "2351      0.875862             0.875862          0.875862   \n",
       "438       0.875862             0.875862          0.875862   \n",
       "2807      0.857401             0.905419          0.834483   \n",
       "\n",
       "     param_classify__base_estimator__max_depth param_classify__n_estimators  \\\n",
       "2351                                         2                          100   \n",
       "438                                          2                           50   \n",
       "2807                                        16                          100   \n",
       "\n",
       "       select param_select__n_features  \n",
       "2351   K-best                       12  \n",
       "438   RFE-SVC                        8  \n",
       "2807   K-best                       12  "
      ]
     },
     "execution_count": 40,
     "metadata": {},
     "output_type": "execute_result"
    }
   ],
   "source": [
    "#Best AdaBoost classifiers\n",
    "best_classify = results_dataset[results_dataset[\"classify\"] == 'AdaBoost-tree'].sort_values(\"mean_test_f1\", ascending=False)\n",
    "best_classify.nlargest(3, 'mean_test_f1')[[\"mean_test_f1\", \"mean_test_precision\", \"mean_test_recall\", \"param_classify__base_estimator__max_depth\", \"param_classify__n_estimators\", \"select\", \"param_select__n_features\"]]"
   ]
  },
  {
   "cell_type": "markdown",
   "metadata": {},
   "source": [
    "The 3 best scores have been obtained with a *max_depth* of 2 for base estimator. 50 estimators seems to be enough with 8 features selected by RFE-SVC"
   ]
  },
  {
   "cell_type": "code",
   "execution_count": 41,
   "metadata": {},
   "outputs": [
    {
     "data": {
      "text/html": [
       "<div>\n",
       "<style>\n",
       "    .dataframe thead tr:only-child th {\n",
       "        text-align: right;\n",
       "    }\n",
       "\n",
       "    .dataframe thead th {\n",
       "        text-align: left;\n",
       "    }\n",
       "\n",
       "    .dataframe tbody tr th {\n",
       "        vertical-align: top;\n",
       "    }\n",
       "</style>\n",
       "<table border=\"1\" class=\"dataframe\">\n",
       "  <thead>\n",
       "    <tr style=\"text-align: right;\">\n",
       "      <th></th>\n",
       "      <th>mean_test_f1</th>\n",
       "      <th>mean_test_precision</th>\n",
       "      <th>mean_test_recall</th>\n",
       "      <th>param_classify__C</th>\n",
       "      <th>param_classify__gamma</th>\n",
       "      <th>select</th>\n",
       "      <th>param_select__n_features</th>\n",
       "    </tr>\n",
       "  </thead>\n",
       "  <tbody>\n",
       "    <tr>\n",
       "      <th>262</th>\n",
       "      <td>0.627056</td>\n",
       "      <td>0.682430</td>\n",
       "      <td>0.611494</td>\n",
       "      <td>10000</td>\n",
       "      <td>0.1</td>\n",
       "      <td>RFE-tree</td>\n",
       "      <td>8</td>\n",
       "    </tr>\n",
       "    <tr>\n",
       "      <th>282</th>\n",
       "      <td>0.627056</td>\n",
       "      <td>0.682430</td>\n",
       "      <td>0.611494</td>\n",
       "      <td>10000</td>\n",
       "      <td>0.1</td>\n",
       "      <td>RFE-tree</td>\n",
       "      <td>8</td>\n",
       "    </tr>\n",
       "    <tr>\n",
       "      <th>2711</th>\n",
       "      <td>0.610246</td>\n",
       "      <td>0.583621</td>\n",
       "      <td>0.667816</td>\n",
       "      <td>10000</td>\n",
       "      <td>0.1</td>\n",
       "      <td>K-best</td>\n",
       "      <td>12</td>\n",
       "    </tr>\n",
       "  </tbody>\n",
       "</table>\n",
       "</div>"
      ],
      "text/plain": [
       "      mean_test_f1  mean_test_precision  mean_test_recall param_classify__C  \\\n",
       "262       0.627056             0.682430          0.611494             10000   \n",
       "282       0.627056             0.682430          0.611494             10000   \n",
       "2711      0.610246             0.583621          0.667816             10000   \n",
       "\n",
       "     param_classify__gamma    select param_select__n_features  \n",
       "262                    0.1  RFE-tree                        8  \n",
       "282                    0.1  RFE-tree                        8  \n",
       "2711                   0.1    K-best                       12  "
      ]
     },
     "execution_count": 41,
     "metadata": {},
     "output_type": "execute_result"
    }
   ],
   "source": [
    "#Best SVC classifiers\n",
    "best_classify = results_dataset[results_dataset[\"classify\"] == 'SVC'].sort_values(\"mean_test_f1\", ascending=False)\n",
    "best_classify.nlargest(3, 'mean_test_f1')[[\"mean_test_f1\", \"mean_test_precision\", \"mean_test_recall\", \"param_classify__C\", \"param_classify__gamma\", \"select\", \"param_select__n_features\"]]"
   ]
  },
  {
   "cell_type": "markdown",
   "metadata": {},
   "source": [
    "The best score is obtained with *C* = 10000.0 and *gamma* = 0.1. Both with the 8 features detected with RFE-tree."
   ]
  },
  {
   "cell_type": "code",
   "execution_count": 42,
   "metadata": {},
   "outputs": [
    {
     "data": {
      "text/html": [
       "<div>\n",
       "<style>\n",
       "    .dataframe thead tr:only-child th {\n",
       "        text-align: right;\n",
       "    }\n",
       "\n",
       "    .dataframe thead th {\n",
       "        text-align: left;\n",
       "    }\n",
       "\n",
       "    .dataframe tbody tr th {\n",
       "        vertical-align: top;\n",
       "    }\n",
       "</style>\n",
       "<table border=\"1\" class=\"dataframe\">\n",
       "  <thead>\n",
       "    <tr style=\"text-align: right;\">\n",
       "      <th></th>\n",
       "      <th>mean_test_f1</th>\n",
       "      <th>mean_test_precision</th>\n",
       "      <th>mean_test_recall</th>\n",
       "      <th>param_classify__hidden_layer_sizes</th>\n",
       "      <th>param_classify__activation</th>\n",
       "      <th>param_classify__learning_rate_init</th>\n",
       "      <th>param_classify__solver</th>\n",
       "      <th>param_classify__alpha</th>\n",
       "      <th>select</th>\n",
       "      <th>param_select__n_features</th>\n",
       "    </tr>\n",
       "  </thead>\n",
       "  <tbody>\n",
       "    <tr>\n",
       "      <th>1032</th>\n",
       "      <td>0.755862</td>\n",
       "      <td>0.889655</td>\n",
       "      <td>0.666667</td>\n",
       "      <td>(10,)</td>\n",
       "      <td>logistic</td>\n",
       "      <td>0.01</td>\n",
       "      <td>lbfgs</td>\n",
       "      <td>0.001</td>\n",
       "      <td>RFE-tree</td>\n",
       "      <td>2</td>\n",
       "    </tr>\n",
       "    <tr>\n",
       "      <th>1545</th>\n",
       "      <td>0.733103</td>\n",
       "      <td>0.733333</td>\n",
       "      <td>0.770115</td>\n",
       "      <td>(10,)</td>\n",
       "      <td>logistic</td>\n",
       "      <td>0.001</td>\n",
       "      <td>lbfgs</td>\n",
       "      <td>0.0001</td>\n",
       "      <td>RFE-tree</td>\n",
       "      <td>5</td>\n",
       "    </tr>\n",
       "    <tr>\n",
       "      <th>1072</th>\n",
       "      <td>0.731285</td>\n",
       "      <td>0.822069</td>\n",
       "      <td>0.666667</td>\n",
       "      <td>(20,)</td>\n",
       "      <td>logistic</td>\n",
       "      <td>0.0001</td>\n",
       "      <td>lbfgs</td>\n",
       "      <td>0.001</td>\n",
       "      <td>RFE-tree</td>\n",
       "      <td>2</td>\n",
       "    </tr>\n",
       "  </tbody>\n",
       "</table>\n",
       "</div>"
      ],
      "text/plain": [
       "      mean_test_f1  mean_test_precision  mean_test_recall  \\\n",
       "1032      0.755862             0.889655          0.666667   \n",
       "1545      0.733103             0.733333          0.770115   \n",
       "1072      0.731285             0.822069          0.666667   \n",
       "\n",
       "     param_classify__hidden_layer_sizes param_classify__activation  \\\n",
       "1032                              (10,)                   logistic   \n",
       "1545                              (10,)                   logistic   \n",
       "1072                              (20,)                   logistic   \n",
       "\n",
       "     param_classify__learning_rate_init param_classify__solver  \\\n",
       "1032                               0.01                  lbfgs   \n",
       "1545                              0.001                  lbfgs   \n",
       "1072                             0.0001                  lbfgs   \n",
       "\n",
       "     param_classify__alpha    select param_select__n_features  \n",
       "1032                 0.001  RFE-tree                        2  \n",
       "1545                0.0001  RFE-tree                        5  \n",
       "1072                 0.001  RFE-tree                        2  "
      ]
     },
     "execution_count": 42,
     "metadata": {},
     "output_type": "execute_result"
    }
   ],
   "source": [
    "#Best MLP classifiers\n",
    "best_classify = results_dataset[results_dataset[\"classify\"] == 'MLP'].sort_values(\"mean_test_f1\", ascending=False)\n",
    "best_classify.nlargest(3, 'mean_test_f1')[[\"mean_test_f1\", \"mean_test_precision\", \"mean_test_recall\", \"param_classify__hidden_layer_sizes\", \"param_classify__activation\", \"param_classify__learning_rate_init\", \"param_classify__solver\", \"param_classify__alpha\", \"select\", \"param_select__n_features\"]]"
   ]
  },
  {
   "cell_type": "markdown",
   "metadata": {},
   "source": [
    "Best scores are for *logistic* function activation combined with the *lbfgs* solver and default values for *learning rate* (0.001) and *alpha* (0.0001). In the contrary, the number of neurons in the hidden layer has been reduced to 10 (instead of 100). The major difference with AdaBoost-tree and SVC is that best score here is obtained when using the 2 or 5 features selected by RFE-tree algorithm."
   ]
  },
  {
   "cell_type": "markdown",
   "metadata": {},
   "source": [
    "<a id='Conclusion'/>"
   ]
  },
  {
   "cell_type": "markdown",
   "metadata": {},
   "source": [
    "## Conclusion [*top*](#Top)"
   ]
  },
  {
   "cell_type": "markdown",
   "metadata": {},
   "source": [
    "In this project, we have explored some capabilities offered by Scikit-Learn to create predictive models by testing and combining various algorithms for feature selection, classification and cross-validation.\n",
    "\n",
    "We have configured three different classifiers matching the required criteria (score above 0.3 for both recall and precision):\n",
    "\n",
    "| Classifier     | F1       | Precision | Recall   |\n",
    "|----------------|----------|-----------|----------|\n",
    "| AdaBoost-tree  | 0.876    | 0.876     | 0.876    |\n",
    "| MLP            | 0.756    | 0.890     | 0.667    |\n",
    "| SVC            | 0.627    | 0.682     | 0.611    |\n",
    "\n",
    "This is not an absolute comparison of the algorithms as some of them appears to be more difficult to tune (MLP especially). Overall the simplicity (conceptually and in terms of configuration) of AdaBoost with decision tree classifier combined with decent fitting time makes it a top notch choice for this problem !\n",
    "\n",
    "It actually takes some time to identify relevant parameters for grid search technique with support vector classifier and neural network while it was pretty simple with AdaBoost and decision tree. A first bad configuration of MLP (using default number of hidden layers) led to very low maximum F1 score (below 0.2 !).\n",
    "\n",
    "Even if the score of AdaBoost-tree meets project expectation, I wouldn't rely solely on it to send people to jail for fraud as we still have a huge chance (13%) of being wrong :)\n",
    "\n",
    "It also appears that feature selection may be a difficult task. In our case we were limited to 12 features which is not much and we have seen that many different combination of features may be selected with the various tested algorithms. Introducing new features may also be a complicated task, relying on prior knowledge on the problem.\n",
    "\n",
    "I still have the feeling that both SVC and MLP might be improved. There are also numerous of other techniques which could be tried with Scikit-Learn package (different grid search techniques, different base estimators with AdaBoost, better feature selection or dimension reduction (principal component analysis)."
   ]
  },
  {
   "cell_type": "markdown",
   "metadata": {},
   "source": [
    "<a id='Pro Tips'/>"
   ]
  },
  {
   "cell_type": "markdown",
   "metadata": {},
   "source": [
    "## Pro tips [*top*](#Top)\n",
    "\n",
    "**Note**: This section has been added after project submission and contains advices from reviewer.\n",
    "\n",
    "There are several other options to deal with missing values like:\n",
    "- Replacing the values with means or medians.\n",
    "- Remove the features that have an exceeding number of missing values.\n",
    "- More complex approaches rely on analysing the distribution of missing values: https://en.wikipedia.org/wiki/Missing_data, http://scikit-learn.org/stable/modules/preprocessing.html\n",
    "\n",
    "\n",
    "We can leverage the power of recursive feature selection to automate the selection process and find a good indication of the number of relevant features, here is an example of how the code might look like:\n",
    "\n",
    "```python\n",
    "import matplotlib.pyplot as plt\n",
    "from sklearn.linear_model import LogisticRegression\n",
    "from sklearn.cross_validation import StratifiedKFold\n",
    "from sklearn.feature_selection import RFECV\n",
    "lr = LogisticRegression()\n",
    "\n",
    "rfecv = RFECV(estimator=lr, step=1, cv=StratifiedKFold(labels, 50),\n",
    "          scoring='precision')\n",
    "rfecv.fit(features, labels)\n",
    "print(\"Optimal number of features : %d\" % rfecv.n_features_)\n",
    "print rfecv.support_\n",
    "features=features[:,rfecv.support_]\n",
    "# Plot number of features VS. cross-validation scores\n",
    "plt.figure()\n",
    "plt.xlabel(\"Number of features selected\")\n",
    "plt.ylabel(\"Cross validation score (nb of correct classifications)\")\n",
    "plt.plot(range(1, len(rfecv.grid_scores_) + 1), rfecv.grid_scores_)\n",
    "plt.show()\n",
    "```\n",
    "\n",
    "Xgboost is one of Kaggle’s top algorithms and should be given a try. In the recent years one algorithm emerged as favourite in the machine learning community, it is actually one of the most used in Kaggle: Xgboost.\n",
    "Here is an informative discussion on why that is the case: https://www.quora.com/Why-is-xgboost-given-so-much-less-attention-than-deep-learning-despite-its-ubiquity-in-winning-Kaggle-solutions. The algorithm is not available Scikit Learn, here is how we can start working with it:http://machinelearningmastery.com/develop-first-xgboost-model-python-scikit-learn/\n",
    "\n",
    "\n",
    "We could actually fully exploit pipelines and parameterize the whole process through cross validation. It means we can try out several algorithms automatically! Watch out though this is pretty advanced stuff, here is a great, informative, top notch tutorial from Zac Sewart: http://zacstewart.com/2014/08/05/pipelines-of-featureunions-of-pipelines.html"
   ]
  },
  {
   "cell_type": "markdown",
   "metadata": {},
   "source": [
    "<a id='Appendix'/>"
   ]
  },
  {
   "cell_type": "markdown",
   "metadata": {},
   "source": [
    "## Appendix [*top*](#Top)"
   ]
  },
  {
   "cell_type": "code",
   "execution_count": 46,
   "metadata": {
    "tags": [
     "hide_export"
    ]
   },
   "outputs": [
    {
     "name": "stdout",
     "output_type": "stream",
     "text": [
      "[NbConvertApp] Converting notebook enron_fraud.ipynb to html\n",
      "[NbConvertApp] Writing 704845 bytes to enron_fraud.html\n"
     ]
    }
   ],
   "source": [
    "#Convert notebook to html\n",
    "!jupyter nbconvert --to html --template html_minimal.tpl enron_fraud.ipynb"
   ]
  },
  {
   "cell_type": "markdown",
   "metadata": {},
   "source": [
    "Illustrated documentation on pivoting, stacking and unstacking with pandas: http://nikgrozev.com/2015/07/01/reshaping-in-pandas-pivot-pivot-table-stack-and-unstack-explained-with-pictures/.<hr>\n",
    "\n",
    "Melt is the reverse of pivot operation, document is found  [here](https://pandas.pydata.org/pandas-docs/stable/generated/pandas.melt.html).<hr>\n",
    "\n",
    "Documentation on bias-variance trade-off on [Wikipedia](https://en.wikipedia.org/wiki/Bias%E2%80%93variance_tradeoff) and \n",
    "[Machine Learning Mastery](https://machinelearningmastery.com/gentle-introduction-to-the-bias-variance-trade-off-in-machine-learning/).<hr>\n",
    "\n",
    "Creating [pipelines](http://scikit-learn.org/stable/tutorial/statistical_inference/putting_together.html) with Scikit-Learn.<hr>\n",
    "\n",
    "Finding the right parameters with a [GridSearchCV](http://scikit-learn.org/stable/modules/generated/sklearn.model_selection.GridSearchCV.html). This [page](http://scikit-learn.org/stable/auto_examples/model_selection/plot_multi_metric_evaluation.html#sphx-glr-auto-examples-model-selection-plot-multi-metric-evaluation-py\n",
    ") also provides valuable information.<hr>\n",
    "\n",
    "An explanation about the various [scores](http://blog.exsilio.com/all/accuracy-precision-recall-f1-score-interpretation-of-performance-measures/) of machine learning algorithms. And the Scikit-Learn documentation on [scoring](http://scikit-learn.org/stable/modules/model_evaluation.html#scoring).<hr>\n",
    "\n",
    "Gaussian process classifier has also be analyzed rapidly. This [video](https://www.youtube.com/watch?v=Jv25sg-IYHU) helped me understanding the base concepts.<hr>\n",
    "\n",
    "This post in [stats.stackexchange.com](https://stats.stackexchange.com/questions/181/how-to-choose-the-number-of-hidden-layers-and-nodes-in-a-feedforward-neural-netw) helped me identifying my initial issues with multilayer perceptron.<hr>"
   ]
  }
 ],
 "metadata": {
  "kernelspec": {
   "display_name": "Python 2",
   "language": "python",
   "name": "python2"
  },
  "language_info": {
   "codemirror_mode": {
    "name": "ipython",
    "version": 2
   },
   "file_extension": ".py",
   "mimetype": "text/x-python",
   "name": "python",
   "nbconvert_exporter": "python",
   "pygments_lexer": "ipython2",
   "version": "2.7.13"
  }
 },
 "nbformat": 4,
 "nbformat_minor": 2
}
