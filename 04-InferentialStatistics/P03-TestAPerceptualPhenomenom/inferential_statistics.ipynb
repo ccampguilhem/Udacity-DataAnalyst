{
 "cells": [
  {
   "cell_type": "markdown",
   "metadata": {},
   "source": [
    "# Stroop effect investigation\n",
    "[Cédric Campguilhem](https://github.com/ccampguilhem/Udacity-DataAnalyst), September 2017"
   ]
  },
  {
   "cell_type": "markdown",
   "metadata": {},
   "source": [
    "<a id='Top'/>"
   ]
  },
  {
   "cell_type": "markdown",
   "metadata": {},
   "source": [
    "## Table of contents\n",
    "\n",
    "- [Introduction](#Introduction)\n",
    "- [Stroop effect experiment](#Stroop effect experiment)\n",
    "- [Descriptive statistics](#Descriptive statistics)\n",
    "- [Inferential statistics](#Inferential statistics)\n",
    "    - [Hypothesis](#Hypothesis)\n",
    "    - [Checking assumptions](#Checking assumptions)\n",
    "    - [Critical t-value](#Critical t-value)\n",
    "    - [t-statistic and decision](#t-statistic)\n",
    "    - [Additional information](#Additional information)\n",
    "- [Conclusion](#Conclusion)\n",
    "- [Appendix](#Appendix)"
   ]
  },
  {
   "cell_type": "markdown",
   "metadata": {},
   "source": [
    "<a id='Introduction'/>"
   ]
  },
  {
   "cell_type": "markdown",
   "metadata": {},
   "source": [
    "## Introduction\n",
    "\n",
    "This project is related to Inferential Statistics course for Udacity Data Analyst Nanodegree program. The purpose of this project is to investigate a phenomenon from the experimental psychology called [Stroop effect](https://en.wikipedia.org/wiki/Stroop_effect).\n",
    "\n",
    "The project aims at investigating experimental results on a sample. We will use both descriptive and inferential statistics (hypothesis formulation and decision).\n",
    "\n",
    "The project makes use of of Python language with [pandas](http://pandas.pydata.org/) for calculation parts and [seaborn](https://seaborn.pydata.org/) library for plotting."
   ]
  },
  {
   "cell_type": "markdown",
   "metadata": {},
   "source": [
    "<a id='Stroop effect experiment'/>"
   ]
  },
  {
   "cell_type": "markdown",
   "metadata": {},
   "source": [
    "## Stroop effect experiment *[top](#Top)*\n",
    "\n",
    "The experiment consists in saying out loud the ink color in which a words in a list are printed. The participants are given two different lists of words naming colors. A **congruent** one in which words match the ink color and a **incongruent** list where words are different from ink color:\n",
    "\n",
    "<div style=\"width: 100%; display: flex; flex-wrap: wrap\">\n",
    "    <div style=\"width: 50%; padding: 5px\">\n",
    "        <img alt=\"Congruent list\" src=\"./stroopa.gif\"/>\n",
    "    </div>\n",
    "    <div style=\"width: 50%; padding: 5px\">\n",
    "        <img alt=\"Congruent list\" src=\"./stroopb.gif\"/>\n",
    "    </div>\n",
    "</div>\n",
    "<div style=\"width: 100%; display: flex; flex-wrap: wrap\">\n",
    "    <div style=\"width: 50%; padding: 5px; text-align: center\">\n",
    "        Congruent list\n",
    "    </div>\n",
    "    <div style=\"width: 50%; padding: 5px; text-align: center\">\n",
    "        Incongruent list\n",
    "    </div>\n",
    "</div>\n",
    "<div style=\"width: 100%; display: flex; flex-wrap: wrap\">\n",
    "    <div style=\"width: 100%; padding: 5px; text-align: center\">\n",
    "        <a href=\"https://faculty.washington.edu/chudler/java/ready.html\">Source: faculty.washington.edu</a>\n",
    "    </div>\n",
    "</div>\n",
    "\n",
    "The time (in seconds) it takes to each participant to enumerate ink colors is recorded for each list. The type of list (congruent or incongruent) is the **independent** variable in the experiment. The time it takes to go through the list is the **dependent** variable.\n",
    "\n",
    "This experiment is a **dependent** sample experiment: the same participants are given both lists."
   ]
  },
  {
   "cell_type": "code",
   "execution_count": 1,
   "metadata": {
    "collapsed": true,
    "tags": [
     "hide_export"
    ]
   },
   "outputs": [],
   "source": [
    "#Import required libraries for project\n",
    "import pandas as pd\n",
    "import seaborn as sns\n",
    "import matplotlib.pyplot as plt\n",
    "%matplotlib inline"
   ]
  },
  {
   "cell_type": "code",
   "execution_count": 2,
   "metadata": {
    "collapsed": true,
    "tags": [
     "hide_export"
    ]
   },
   "outputs": [],
   "source": [
    "#Read dataset\n",
    "df = pd.read_csv('./dataset/stroopdata.csv')"
   ]
  },
  {
   "cell_type": "markdown",
   "metadata": {},
   "source": [
    "As an example, here are the first ten participants recorded times for each list:"
   ]
  },
  {
   "cell_type": "code",
   "execution_count": 3,
   "metadata": {
    "tags": [
     "hide_input"
    ]
   },
   "outputs": [
    {
     "data": {
      "text/html": [
       "<div>\n",
       "<style>\n",
       "    .dataframe thead tr:only-child th {\n",
       "        text-align: right;\n",
       "    }\n",
       "\n",
       "    .dataframe thead th {\n",
       "        text-align: left;\n",
       "    }\n",
       "\n",
       "    .dataframe tbody tr th {\n",
       "        vertical-align: top;\n",
       "    }\n",
       "</style>\n",
       "<table border=\"1\" class=\"dataframe\">\n",
       "  <thead>\n",
       "    <tr style=\"text-align: right;\">\n",
       "      <th></th>\n",
       "      <th>0</th>\n",
       "      <th>1</th>\n",
       "      <th>2</th>\n",
       "      <th>3</th>\n",
       "      <th>4</th>\n",
       "      <th>5</th>\n",
       "      <th>6</th>\n",
       "      <th>7</th>\n",
       "      <th>8</th>\n",
       "      <th>9</th>\n",
       "    </tr>\n",
       "  </thead>\n",
       "  <tbody>\n",
       "    <tr>\n",
       "      <th>Congruent</th>\n",
       "      <td>12.079</td>\n",
       "      <td>16.791</td>\n",
       "      <td>9.564</td>\n",
       "      <td>8.630</td>\n",
       "      <td>14.669</td>\n",
       "      <td>12.238</td>\n",
       "      <td>14.692</td>\n",
       "      <td>8.987</td>\n",
       "      <td>9.401</td>\n",
       "      <td>14.480</td>\n",
       "    </tr>\n",
       "    <tr>\n",
       "      <th>Incongruent</th>\n",
       "      <td>19.278</td>\n",
       "      <td>18.741</td>\n",
       "      <td>21.214</td>\n",
       "      <td>15.687</td>\n",
       "      <td>22.803</td>\n",
       "      <td>20.878</td>\n",
       "      <td>24.572</td>\n",
       "      <td>17.394</td>\n",
       "      <td>20.762</td>\n",
       "      <td>26.282</td>\n",
       "    </tr>\n",
       "  </tbody>\n",
       "</table>\n",
       "</div>"
      ],
      "text/plain": [
       "                  0       1       2       3       4       5       6       7  \\\n",
       "Congruent    12.079  16.791   9.564   8.630  14.669  12.238  14.692   8.987   \n",
       "Incongruent  19.278  18.741  21.214  15.687  22.803  20.878  24.572  17.394   \n",
       "\n",
       "                  8       9  \n",
       "Congruent     9.401  14.480  \n",
       "Incongruent  20.762  26.282  "
      ]
     },
     "execution_count": 3,
     "metadata": {},
     "output_type": "execute_result"
    }
   ],
   "source": [
    "df[:10].transpose().head()"
   ]
  },
  {
   "cell_type": "markdown",
   "metadata": {},
   "source": [
    "<a id='Descriptive statistics'/>"
   ]
  },
  {
   "cell_type": "markdown",
   "metadata": {},
   "source": [
    "## Descriptive statistics *[top](#Top)*\n",
    "\n",
    "We first make a descriptive analysis of our groups. The following box plot shows distribution of recorded time for each list:"
   ]
  },
  {
   "cell_type": "code",
   "execution_count": 4,
   "metadata": {
    "collapsed": true,
    "tags": [
     "hide_export"
    ]
   },
   "outputs": [],
   "source": [
    "#We re-organize table \n",
    "df2 = df.stack().reset_index(level=1, name='time').rename(columns={\"level_1\": \"list\"})\n",
    "df2 = df2.reset_index().rename(columns={\"index\": \"participant\"})"
   ]
  },
  {
   "cell_type": "code",
   "execution_count": 5,
   "metadata": {
    "tags": [
     "hide_input"
    ]
   },
   "outputs": [
    {
     "data": {
      "image/png": "[encoded data removed]",
      "text/plain": [
       "<matplotlib.figure.Figure at 0x7f93b268ee10>"
      ]
     },
     "metadata": {},
     "output_type": "display_data"
    }
   ],
   "source": [
    "figure = plt.figure(figsize=(12, 6))\n",
    "ax = figure.add_subplot(111)\n",
    "ax = sns.boxplot(x=\"list\", y=\"time\", data=df2, ax=ax);\n",
    "texts = ax.set(xlabel='Type of list', ylabel='Time (seconds)', title='Distribution of recorded times for each list')\n",
    "texts[0].set_fontsize(14)\n",
    "texts[1].set_fontsize(14)\n",
    "texts[2].set_fontsize(20)\n",
    "\n"
   ]
  },
  {
   "cell_type": "markdown",
   "metadata": {},
   "source": [
    "Each box represents three quartiles (25%, mean and 75%) in addition to 1.5 interquartile range past the low and high quartiles. Participant time out of the interquartile range are reported as outliers (diamond markers).\n",
    "\n",
    "In average, time it takes to go through seems higher in average for incongruent list (below 15 seconds in average for congruent list and above 20 seconds for non-congruent list). At this time, there is no evidence that this observation is statistically significant. To do that, we need to formulate an hypothesis. This will be the object of [next](#Inferential statistics) section.\n",
    "\n",
    "For incongruent list, two recorded times are above the 1.5 interquartile range and are reported as outliers.\n",
    "\n",
    "We can have a closer look at distributions:"
   ]
  },
  {
   "cell_type": "code",
   "execution_count": 6,
   "metadata": {
    "tags": [
     "hide_input"
    ]
   },
   "outputs": [
    {
     "data": {
      "image/png": "[encoded data removed]",
      "text/plain": [
       "<matplotlib.figure.Figure at 0x7f93af202d50>"
      ]
     },
     "metadata": {},
     "output_type": "display_data"
    }
   ],
   "source": [
    "figure = plt.figure(figsize=(12, 6))\n",
    "ax = figure.add_subplot(111)\n",
    "ax = sns.distplot(df2[df2[\"list\"] == \"Congruent\"][\"time\"], label=\"Congruent list\", ax=ax);\n",
    "ax = sns.distplot(df2[df2[\"list\"] == \"Incongruent\"][\"time\"], label=\"Incongruent list\", ax=ax);\n",
    "ax.legend()\n",
    "texts = ax.set(xlabel='Time (seconds)', ylabel='Proportion', title='Distribution of recorded times for each list')\n",
    "texts[0].set_fontsize(14)\n",
    "texts[1].set_fontsize(14)\n",
    "texts[2].set_fontsize(20)"
   ]
  },
  {
   "cell_type": "markdown",
   "metadata": {},
   "source": [
    "If we refer to kernel density estimators, we can see that distribution of recorded times for congruent list looks like a normal distribution. On the contrary, results for incongruent list differs from a normal distribution due to the outliers who have response time for experiment between 32 and 35.\n",
    "\n",
    "The actual values for mean, standard deviation and quartiles are reported in the table below:"
   ]
  },
  {
   "cell_type": "code",
   "execution_count": 7,
   "metadata": {
    "tags": [
     "hide_input"
    ]
   },
   "outputs": [
    {
     "data": {
      "text/html": [
       "<div>\n",
       "<style>\n",
       "    .dataframe thead tr:only-child th {\n",
       "        text-align: right;\n",
       "    }\n",
       "\n",
       "    .dataframe thead th {\n",
       "        text-align: left;\n",
       "    }\n",
       "\n",
       "    .dataframe tbody tr th {\n",
       "        vertical-align: top;\n",
       "    }\n",
       "</style>\n",
       "<table border=\"1\" class=\"dataframe\">\n",
       "  <thead>\n",
       "    <tr style=\"text-align: right;\">\n",
       "      <th></th>\n",
       "      <th>count</th>\n",
       "      <th>mean</th>\n",
       "      <th>std</th>\n",
       "      <th>min</th>\n",
       "      <th>25%</th>\n",
       "      <th>50%</th>\n",
       "      <th>75%</th>\n",
       "      <th>max</th>\n",
       "    </tr>\n",
       "    <tr>\n",
       "      <th>list</th>\n",
       "      <th></th>\n",
       "      <th></th>\n",
       "      <th></th>\n",
       "      <th></th>\n",
       "      <th></th>\n",
       "      <th></th>\n",
       "      <th></th>\n",
       "      <th></th>\n",
       "    </tr>\n",
       "  </thead>\n",
       "  <tbody>\n",
       "    <tr>\n",
       "      <th>Congruent</th>\n",
       "      <td>24.0</td>\n",
       "      <td>14.051125</td>\n",
       "      <td>3.559358</td>\n",
       "      <td>8.630</td>\n",
       "      <td>11.89525</td>\n",
       "      <td>14.3565</td>\n",
       "      <td>16.20075</td>\n",
       "      <td>22.328</td>\n",
       "    </tr>\n",
       "    <tr>\n",
       "      <th>Incongruent</th>\n",
       "      <td>24.0</td>\n",
       "      <td>22.015917</td>\n",
       "      <td>4.797057</td>\n",
       "      <td>15.687</td>\n",
       "      <td>18.71675</td>\n",
       "      <td>21.0175</td>\n",
       "      <td>24.05150</td>\n",
       "      <td>35.255</td>\n",
       "    </tr>\n",
       "  </tbody>\n",
       "</table>\n",
       "</div>"
      ],
      "text/plain": [
       "             count       mean       std     min       25%      50%       75%  \\\n",
       "list                                                                           \n",
       "Congruent     24.0  14.051125  3.559358   8.630  11.89525  14.3565  16.20075   \n",
       "Incongruent   24.0  22.015917  4.797057  15.687  18.71675  21.0175  24.05150   \n",
       "\n",
       "                max  \n",
       "list                 \n",
       "Congruent    22.328  \n",
       "Incongruent  35.255  "
      ]
     },
     "execution_count": 7,
     "metadata": {},
     "output_type": "execute_result"
    }
   ],
   "source": [
    "df2.groupby(\"list\").describe()[\"time\"]"
   ]
  },
  {
   "cell_type": "markdown",
   "metadata": {},
   "source": [
    "In the above table, the standard deviation reported is a sample standard deviation taking into account [Bessel's correction](https://en.wikipedia.org/wiki/Bessel%27s_correction):\n",
    "\n",
    "\\begin{align}\n",
    "\\sigma = \\sqrt{\\frac{\\sum_{i=1}^n (x_i - \\bar{x})^2}{n - 1}}\n",
    "\\end{align}"
   ]
  },
  {
   "cell_type": "markdown",
   "metadata": {},
   "source": [
    "<a id='Inferential statistics'/>"
   ]
  },
  {
   "cell_type": "markdown",
   "metadata": {},
   "source": [
    "## Inferential statistics *[top](#Top)*"
   ]
  },
  {
   "cell_type": "markdown",
   "metadata": {},
   "source": [
    "<a id='Hypothesis'/>"
   ]
  },
  {
   "cell_type": "markdown",
   "metadata": {},
   "source": [
    "### Hypothesis *[inferential](#Inferential statistics)*\n",
    "\n",
    "In [previous](#Descriptive statistics) section, we have observed that average response time for incongruent list seems higher than the one recoded for congruent list. In this section, we want to know if this observation is statistically significant.\n",
    "\n",
    "Before doint a t-test, we need to take several assumptions ([source](https://statistics.laerd.com/stata-tutorials/paired-t-test-using-stata.php)):\n",
    "- The dependent variable should be continuous, which is the case in our case because we use time as dependent variable.\n",
    "- The independent variable should consist of two categorical, related groups or matched pairs. In our case we have related groups: each participant is given the two different lists.\n",
    "- There should be no significant outliers in the difference between the two related groups.\n",
    "- The distribution of the differences in the dependent variable between the two related groups should be approximately normally distributed.\n",
    "\n",
    "The last two assumptions need to be checked.\n",
    "\n",
    "Let's formulate the problem this way. Our **null hypothesis** is that population mean response times for congruent ($\\mu_{congruent}$) and incongruent ($\\mu_{incongruent}$) lists are the same. Our **alternative** is that population mean reponse time for incongruent list is higher.\n",
    "\n",
    "For this one-tailed, dependant sample [t-test](https://en.wikipedia.org/wiki/Student%27s_t-test), we choose to use an alpha level of 0.05:\n",
    "\n",
    "\\begin{equation}\n",
    "\\mathtt{H}_{0}: \\mathtt{\\mu}_{congruent} = \\mathtt{\\mu}_{incongruent} \\\\\n",
    "\\mathtt{H}_{A}: \\mathtt{\\mu}_{congruent} < \\mathtt{\\mu}_{incongruent} \\\\\n",
    "\\alpha = 0.05\n",
    "\\end{equation}\n",
    "\n",
    "Let's set $\\mathtt{\\mu}_D = \\mathtt{\\mu}_{incongruent} - \\mathtt{\\mu}_{congruent}$ . The hypotheses may be re-written as follow:\n",
    "\n",
    "\\begin{equation}\n",
    "\\mathtt{H}_{0}: \\mathtt{\\mu}_{D} = 0 \\\\\n",
    "\\mathtt{H}_{A}: \\mathtt{\\mu}_{D} > 0 \\\\\n",
    "\\alpha = 0.05\n",
    "\\end{equation}\n",
    "\n",
    "The problem is then a one-tailed t-test in positive direction.\n",
    "\n",
    "In this problem, the degree of freedom is $n - 1$:\n",
    "\n",
    "\\begin{equation}\n",
    "dof = n - 1 = 23\n",
    "\\end{equation}\n",
    "\n",
    "where $n$ is the sample size (24)."
   ]
  },
  {
   "cell_type": "markdown",
   "metadata": {},
   "source": [
    "<a id='Checking assumptions'/>"
   ]
  },
  {
   "cell_type": "markdown",
   "metadata": {},
   "source": [
    "### Checking assumptions *[inferential](#Inferential statistics)*\n",
    "\n",
    "Before performing t-test, we need to check the following two remaining assumptions:\n",
    "\n",
    "- There should be no significant outliers in the differences between the two related groups.\n",
    "- The distribution of the differences in the dependent variable between the two groups should be approximately normally distributed."
   ]
  },
  {
   "cell_type": "code",
   "execution_count": 8,
   "metadata": {
    "tags": [
     "hide_export"
    ]
   },
   "outputs": [
    {
     "data": {
      "text/html": [
       "<div>\n",
       "<style>\n",
       "    .dataframe thead tr:only-child th {\n",
       "        text-align: right;\n",
       "    }\n",
       "\n",
       "    .dataframe thead th {\n",
       "        text-align: left;\n",
       "    }\n",
       "\n",
       "    .dataframe tbody tr th {\n",
       "        vertical-align: top;\n",
       "    }\n",
       "</style>\n",
       "<table border=\"1\" class=\"dataframe\">\n",
       "  <thead>\n",
       "    <tr style=\"text-align: right;\">\n",
       "      <th></th>\n",
       "      <th>Congruent</th>\n",
       "      <th>Incongruent</th>\n",
       "      <th>difference</th>\n",
       "    </tr>\n",
       "  </thead>\n",
       "  <tbody>\n",
       "    <tr>\n",
       "      <th>0</th>\n",
       "      <td>12.079</td>\n",
       "      <td>19.278</td>\n",
       "      <td>7.199</td>\n",
       "    </tr>\n",
       "    <tr>\n",
       "      <th>1</th>\n",
       "      <td>16.791</td>\n",
       "      <td>18.741</td>\n",
       "      <td>1.950</td>\n",
       "    </tr>\n",
       "    <tr>\n",
       "      <th>2</th>\n",
       "      <td>9.564</td>\n",
       "      <td>21.214</td>\n",
       "      <td>11.650</td>\n",
       "    </tr>\n",
       "    <tr>\n",
       "      <th>3</th>\n",
       "      <td>8.630</td>\n",
       "      <td>15.687</td>\n",
       "      <td>7.057</td>\n",
       "    </tr>\n",
       "    <tr>\n",
       "      <th>4</th>\n",
       "      <td>14.669</td>\n",
       "      <td>22.803</td>\n",
       "      <td>8.134</td>\n",
       "    </tr>\n",
       "  </tbody>\n",
       "</table>\n",
       "</div>"
      ],
      "text/plain": [
       "   Congruent  Incongruent  difference\n",
       "0     12.079       19.278       7.199\n",
       "1     16.791       18.741       1.950\n",
       "2      9.564       21.214      11.650\n",
       "3      8.630       15.687       7.057\n",
       "4     14.669       22.803       8.134"
      ]
     },
     "execution_count": 8,
     "metadata": {},
     "output_type": "execute_result"
    }
   ],
   "source": [
    "#We first calculate the difference:\n",
    "df['difference'] = df[\"Incongruent\"] - df[\"Congruent\"]\n",
    "df.head()"
   ]
  },
  {
   "cell_type": "code",
   "execution_count": 9,
   "metadata": {
    "tags": [
     "hide_input"
    ]
   },
   "outputs": [
    {
     "data": {
      "image/png": "[encoded data removed]",
      "text/plain": [
       "<matplotlib.figure.Figure at 0x7f93af0b47d0>"
      ]
     },
     "metadata": {},
     "output_type": "display_data"
    }
   ],
   "source": [
    "#Now we can make a boxplot to find outliers and a distplot\n",
    "figure = plt.figure(figsize=(12, 6))\n",
    "figure.suptitle(\"Assumption check with differences of response time (incongruent - congruent)\", fontsize=20)\n",
    "ax = figure.add_subplot(121)\n",
    "ax = sns.boxplot(x=\"difference\", data=df, ax=ax);\n",
    "texts = ax.set(xlabel='Difference of response time (seconds)', title='Outliers in difference')\n",
    "ax = figure.add_subplot(122)\n",
    "ax = sns.distplot(df[\"difference\"], label=\"Response time (seconds)\", ax=ax);\n",
    "texts = ax.set(xlabel='Difference of response time (seconds)', ylabel='Proportion', \n",
    "               title='Distribution of response time differences')"
   ]
  },
  {
   "cell_type": "markdown",
   "metadata": {},
   "source": [
    "There is one difference of response time identified as an outlier (above the 1.5 interquartile limit past the high quartile). In the right-hand picture, we can also see that the distribution differs from a uniform distribution because of a bump around 20 seconds. We cannot formally validate all assumptions with this dataset."
   ]
  },
  {
   "cell_type": "markdown",
   "metadata": {},
   "source": [
    "<a id='Critical t-value'>"
   ]
  },
  {
   "cell_type": "markdown",
   "metadata": {},
   "source": [
    "### Critical t-value *[inferential](#Inferential statistics)*\n",
    "\n",
    "From [t-table](https://s3.amazonaws.com/udacity-hosted-downloads/t-table.jpg) we can get the critical value for $dof = 23$ and $\\alpha = 0.05$ for a one-tailed t-test:\n",
    "\n",
    "\\begin{equation}\n",
    "t_{critical} = 1.714\n",
    "\\end{equation}\n",
    "\n",
    "If the t-statistic of our sample is greater than this value, then we may reject the null hypothesis."
   ]
  },
  {
   "cell_type": "markdown",
   "metadata": {},
   "source": [
    "<a id='t-statistic'/>"
   ]
  },
  {
   "cell_type": "markdown",
   "metadata": {},
   "source": [
    "## t-statistic and decision *[inferential](#Inferential statistics)*\n",
    "\n",
    "t-statistic may be calculated this way:\n",
    "\n",
    "\\begin{equation}\n",
    "t = \\frac{\\bar{x} - \\bar{\\mu}_{E}}{\\frac{s}{\\sqrt{n}}}\n",
    "\\end{equation}\n",
    "\n",
    "Where $\\bar{x}$ is the difference of the sample means, $s$ is the standard deviation of the samples mean, $n$ is the sample size and $\\bar{\\mu}_E$ is the expected difference of mean from null hypothesis. In our case we have $\\bar{\\mu}_E = 0$.\n",
    "\n",
    "The standard deviation of the sample means is calculated with:\n",
    "\n",
    "\\begin{equation}\n",
    "s = \\sqrt{\\frac{\\sum_{i=1}^n (x_i - \\bar{x})^2}{n-1}}\n",
    "\\end{equation}"
   ]
  },
  {
   "cell_type": "code",
   "execution_count": 10,
   "metadata": {
    "tags": [
     "hide_export"
    ]
   },
   "outputs": [
    {
     "data": {
      "text/plain": [
       "count    24.000000\n",
       "mean      7.964792\n",
       "std       4.864827\n",
       "min       1.950000\n",
       "25%       3.645500\n",
       "50%       7.666500\n",
       "75%      10.258500\n",
       "max      21.919000\n",
       "Name: difference, dtype: float64"
      ]
     },
     "execution_count": 10,
     "metadata": {},
     "output_type": "execute_result"
    }
   ],
   "source": [
    "df[\"difference\"].describe()"
   ]
  },
  {
   "cell_type": "code",
   "execution_count": 11,
   "metadata": {
    "tags": [
     "hide_export"
    ]
   },
   "outputs": [
    {
     "name": "stdout",
     "output_type": "stream",
     "text": [
      "8.02070694411\n"
     ]
    }
   ],
   "source": [
    "import math\n",
    "t = df[\"difference\"].mean() / (df[\"difference\"].std() / math.sqrt(24))\n",
    "print t"
   ]
  },
  {
   "cell_type": "markdown",
   "metadata": {},
   "source": [
    "Our sample has the following statitics $M = 7.96$, $SD = 4.86$ (rounded two decimal places).\n",
    "\n",
    "The t-statistic is $t(23) = 8.02, p < .0001$ one-tailed positive direction.\n",
    "\n",
    "As p-value is below the selected alpha level of 0.05, we **reject the null hypothesis**. This means that mean of response times with incongruent list is **\textremely significantly** higher than the mean of response times with congruent list.\n",
    "\n",
    "As this is an experiment, we can also state that incongruent list **causes** higher response times."
   ]
  },
  {
   "cell_type": "markdown",
   "metadata": {},
   "source": [
    "<a id='Additional information'/>"
   ]
  },
  {
   "cell_type": "markdown",
   "metadata": {},
   "source": [
    "### Additional information *[inferential](#Inferential statistics)*\n",
    "\n",
    "In this section, we provide a 95% confidence interval for mean of differences of response time, and effect size parameters: Cohen's $d$ and $r^2$.\n",
    "\n",
    "Cohen's d is the ratio of mean differences of response time and standard deviation of sample means:\n",
    "\n",
    "\\begin{equation}\n",
    "d = \\frac{\\bar{x}}{s}\n",
    "\\end{equation}\n",
    "\n",
    "$r^2$ parameter is:\n",
    "\n",
    "\\begin{equation}\n",
    "r^2 = \\frac{t^2}{t^2 + dof}\n",
    "\\end{equation}\n",
    "\n",
    "Where $dof$ is the degree of freedom. In our case we have $d = 1.64, r^2 = .74$. This means that incongruent list explains 74% of differences of response time.\n",
    "\n",
    "The margin of error is calculated with:\n",
    "\n",
    "\\begin{equation}\n",
    "margin = t_{critical}.s\n",
    "\\end{equation}\n",
    "\n",
    "Where $s$ is the standard deviation of differences of response time and $t_{critical}$ is the t value for $\\alpha = 0.05$ two-tailed (95% confidence interval): 2.069.\n",
    "\n",
    "Margin of error is 10.07 seconds. The 95% confidence interval:\n",
    "\n",
    "\\begin{equation}\n",
    "95\\% CI = \\bar{x} \\pm margin \n",
    "\\end{equation}\n",
    "\n",
    "where $\\bar{x}$ is the mean of differences of response time, is then:\n",
    "\n",
    "95% CI = (-2.10, 18.03)\n",
    "\n",
    "This means that if poupaltion takes the Stroop test then we expect to have an average of differences of response time between incongruent and congruent list between -2.10 and 18.03 seconds."
   ]
  },
  {
   "cell_type": "code",
   "execution_count": 16,
   "metadata": {
    "tags": [
     "hide_export"
    ]
   },
   "outputs": [
    {
     "name": "stdout",
     "output_type": "stream",
     "text": [
      "d =  1.63721994912\n",
      "r2 =  0.736636416145\n",
      "margin =  10.0653268775\n",
      "95% CI = (-2.10, 18.03)\n"
     ]
    }
   ],
   "source": [
    "#Cohen's d\n",
    "d = df[\"difference\"].mean() / (df[\"difference\"].std())\n",
    "print \"d = \", d\n",
    "\n",
    "#r2\n",
    "r2 = t**2 / (t**2 + 23)\n",
    "print \"r2 = \", r2\n",
    "\n",
    "#Margin of error\n",
    "margin = 2.069 * df[\"difference\"].std()\n",
    "print \"margin = \", margin\n",
    "\n",
    "#95% confidence interval\n",
    "CI = (df[\"difference\"].mean() - margin, df[\"difference\"].mean() + margin)\n",
    "print \"95% CI = ({:.2f}, {:.2f})\".format(CI[0], CI[1])"
   ]
  },
  {
   "cell_type": "markdown",
   "metadata": {},
   "source": [
    "<a id='Conclusion'/>"
   ]
  },
  {
   "cell_type": "markdown",
   "metadata": {},
   "source": [
    "## Conclusion *[top](#Top)*\n",
    "\n",
    "In this project, we have conducted a t-test with a paired (dependent) sample. As this was an Stroop effect experiment, we have concluded that using an incrogruent list causes slower response time compared to a congruent list.\n",
    "\n",
    "However, two assumptions regarding our sample (distribution should be like a normal distribution and presence of outliers) have been violated. Outlier presence affects both sample mean and sample standard deviation and t-statistic as a consequence. In this case a nonparametric test may be [prefered](http://www.basic.northwestern.edu/statguidefiles/ttest_unpaired_ass_viol.html).\n",
    "\n",
    "The Stroop test highlights how humain brain processes differently words and colors. In his experiment, John Ridley Stroop also had a third neutral list where words naming different things than colors (animals for example). This third list showed faster response time than the incongruent list, proving the reduced level of interference.\n",
    "\n",
    "The Stroop test has multiple applications, one of which is to gauge children brain development (it has been shown that interferences reduce from childhood to adulthood). Higher level of interferences are often associated with brain troubles such as Attention-Deficit Hyperactivity Disorder.\n",
    "\n",
    "Sources: (https://en.wikipedia.org/wiki/Stroop_effect), (https://powersthatbeat.wordpress.com/2012/09/16/what-are-the-different-tests-for-the-stroop-effect-autismaid/), (https://imotions.com/blog/the-stroop-effect/)."
   ]
  },
  {
   "cell_type": "markdown",
   "metadata": {},
   "source": [
    "<a id='Appendix'/>"
   ]
  },
  {
   "cell_type": "markdown",
   "metadata": {},
   "source": [
    "## Appendix *[top](#Top)*\n",
    "\n",
    "### References\n",
    "\n",
    "Re-organization of panda dataframe on [StackOverflow](https://stackoverflow.com/questions/38241933/how-to-convert-column-names-into-column-values-in-pandas-python).<hr>\n",
    "Paired t-test [assumptions](https://statistics.laerd.com/stata-tutorials/paired-t-test-using-stata.php).<hr>\n",
    "Hypothesis testing on [Stat Trek](http://stattrek.com/hypothesis-test/hypothesis-testing.aspx).<hr>\n",
    "One-tail and two-tailed tests().<hr>\n",
    "Violation of [t-test assumptions](http://www.basic.northwestern.edu/statguidefiles/ttest_unpaired_ass_viol.html).<hr>\n",
    "Statistical calculations with [GraphPad](http://www.graphpad.com/quickcalcs/).<hr>"
   ]
  },
  {
   "cell_type": "code",
   "execution_count": 17,
   "metadata": {
    "tags": [
     "hide_export"
    ]
   },
   "outputs": [
    {
     "name": "stdout",
     "output_type": "stream",
     "text": [
      "[NbConvertApp] Converting notebook inferential_statistics.ipynb to html\n",
      "[NbConvertApp] Writing 373752 bytes to inferential_statistics.html\n"
     ]
    }
   ],
   "source": [
    "#Export to html\n",
    "!jupyter nbconvert --to html --template html_minimal.tpl inferential_statistics.ipynb"
   ]
  }
 ],
 "metadata": {
  "celltoolbar": "Tags",
  "kernelspec": {
   "display_name": "Python 2",
   "language": "python",
   "name": "python2"
  },
  "language_info": {
   "codemirror_mode": {
    "name": "ipython",
    "version": 2
   },
   "file_extension": ".py",
   "mimetype": "text/x-python",
   "name": "python",
   "nbconvert_exporter": "python",
   "pygments_lexer": "ipython2",
   "version": "2.7.13"
  }
 },
 "nbformat": 4,
 "nbformat_minor": 2
}
