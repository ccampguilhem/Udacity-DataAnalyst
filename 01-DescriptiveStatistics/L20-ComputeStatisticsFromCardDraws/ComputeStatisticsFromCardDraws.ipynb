{
 "cells": [
  {
   "cell_type": "markdown",
   "metadata": {},
   "source": [
    "# Compute statistics from card draws"
   ]
  },
  {
   "cell_type": "markdown",
   "metadata": {},
   "source": [
    "## Intializations\n",
    "\n",
    "We load any library we need for analysis. `print_function` enables to backport print functions from Python 3.x."
   ]
  },
  {
   "cell_type": "code",
   "execution_count": 1,
   "metadata": {
    "collapsed": true
   },
   "outputs": [],
   "source": [
    "from __future__ import print_function\n",
    "import matplotlib.pyplot as plt\n",
    "import numpy as np\n",
    "%matplotlib inline"
   ]
  },
  {
   "cell_type": "markdown",
   "metadata": {},
   "source": [
    "## Create cards\n",
    "\n",
    "52 card deck, from ace to ten with jack, queen and king in spades, hearts, diamonds and clubs.\n",
    "Ace has value 1, 2-10 have respective values from 2 to 10. Each face card has value 10.\n"
   ]
  },
  {
   "cell_type": "code",
   "execution_count": 2,
   "metadata": {
    "collapsed": true
   },
   "outputs": [],
   "source": [
    "def createDeck():\n",
    "    \"\"\"\n",
    "    Create deck of cards.\n",
    "    \n",
    "    Returns a list of tuples with:\n",
    "    - card string\n",
    "    - card suit\n",
    "    - card value\n",
    "    \"\"\"\n",
    "    values = {'ace': 1, 'J': 10, 'Q': 10, 'K': 10}\n",
    "    deck = [ ]\n",
    "    for suit in ['spades', 'hearts', 'diamonds', 'clubs']:\n",
    "        for card in ['ace', '2', '3', '4', '5', '6', '7', '8', '9', '10', 'J', 'Q', 'K']:\n",
    "            try:\n",
    "                value = int(card)\n",
    "            except ValueError:\n",
    "                value = values[card]\n",
    "            deck.append((suit, card, value))\n",
    "    return deck"
   ]
  },
  {
   "cell_type": "markdown",
   "metadata": {},
   "source": [
    "Let's check the deck:"
   ]
  },
  {
   "cell_type": "code",
   "execution_count": 3,
   "metadata": {},
   "outputs": [
    {
     "name": "stdout",
     "output_type": "stream",
     "text": [
      "52\n",
      "('spades', 'ace', 1)\n",
      "('spades', '2', 2)\n",
      "('spades', '3', 3)\n",
      "('spades', '4', 4)\n",
      "('spades', '5', 5)\n",
      "('spades', '6', 6)\n",
      "('spades', '7', 7)\n",
      "('spades', '8', 8)\n",
      "('spades', '9', 9)\n",
      "('spades', '10', 10)\n",
      "('spades', 'J', 10)\n",
      "('spades', 'Q', 10)\n",
      "('spades', 'K', 10)\n",
      "('hearts', 'ace', 1)\n",
      "('hearts', '2', 2)\n",
      "('hearts', '3', 3)\n",
      "('hearts', '4', 4)\n",
      "('hearts', '5', 5)\n",
      "('hearts', '6', 6)\n",
      "('hearts', '7', 7)\n",
      "('hearts', '8', 8)\n",
      "('hearts', '9', 9)\n",
      "('hearts', '10', 10)\n",
      "('hearts', 'J', 10)\n",
      "('hearts', 'Q', 10)\n",
      "('hearts', 'K', 10)\n",
      "('diamonds', 'ace', 1)\n",
      "('diamonds', '2', 2)\n",
      "('diamonds', '3', 3)\n",
      "('diamonds', '4', 4)\n",
      "('diamonds', '5', 5)\n",
      "('diamonds', '6', 6)\n",
      "('diamonds', '7', 7)\n",
      "('diamonds', '8', 8)\n",
      "('diamonds', '9', 9)\n",
      "('diamonds', '10', 10)\n",
      "('diamonds', 'J', 10)\n",
      "('diamonds', 'Q', 10)\n",
      "('diamonds', 'K', 10)\n",
      "('clubs', 'ace', 1)\n",
      "('clubs', '2', 2)\n",
      "('clubs', '3', 3)\n",
      "('clubs', '4', 4)\n",
      "('clubs', '5', 5)\n",
      "('clubs', '6', 6)\n",
      "('clubs', '7', 7)\n",
      "('clubs', '8', 8)\n",
      "('clubs', '9', 9)\n",
      "('clubs', '10', 10)\n",
      "('clubs', 'J', 10)\n",
      "('clubs', 'Q', 10)\n",
      "('clubs', 'K', 10)\n"
     ]
    }
   ],
   "source": [
    "deck = createDeck()\n",
    "print(len(deck))\n",
    "for card in deck:\n",
    "    print(card)"
   ]
  },
  {
   "cell_type": "markdown",
   "metadata": {},
   "source": [
    "## Distribution of card values\n",
    "\n",
    "We first create a numpy array with all card values, then we draw a histogram of distribution of cards."
   ]
  },
  {
   "cell_type": "code",
   "execution_count": 4,
   "metadata": {},
   "outputs": [
    {
     "name": "stdout",
     "output_type": "stream",
     "text": [
      "[ 1  2  3  4  5  6  7  8  9 10 10 10 10  1  2  3  4  5  6  7  8  9 10 10 10\n",
      " 10  1  2  3  4  5  6  7  8  9 10 10 10 10  1  2  3  4  5  6  7  8  9 10 10\n",
      " 10 10]\n"
     ]
    }
   ],
   "source": [
    "values = np.array([card[2] for card in deck], dtype=np.int32)\n",
    "print(values)"
   ]
  },
  {
   "cell_type": "code",
   "execution_count": 5,
   "metadata": {},
   "outputs": [
    {
     "data": {
      "image/png": "[encoded data removed]",
      "text/plain": [
       "<matplotlib.figure.Figure at 0x7f3841d00c10>"
      ]
     },
     "metadata": {},
     "output_type": "display_data"
    }
   ],
   "source": [
    "figure = plt.figure(figsize=(14, 6))\n",
    "axes = figure.add_subplot(111)\n",
    "bins = np.arange(values.max() + 2) - 0.5\n",
    "axes.hist(values, bins=bins, edgecolor='black', linewidth=1.0)\n",
    "axes.set_xticks(range(0, 11))\n",
    "axes.set_xlabel('Card value')\n",
    "axes.set_ylabel('Frequency')\n",
    "plt.show()"
   ]
  },
  {
   "cell_type": "markdown",
   "metadata": {},
   "source": [
    "We can see that the distribution is a negative skew distribution.\n",
    "\n",
    "Now we calculate mean, median and standard deviation. Numpy has some built-in functions:"
   ]
  },
  {
   "cell_type": "code",
   "execution_count": 6,
   "metadata": {},
   "outputs": [
    {
     "name": "stdout",
     "output_type": "stream",
     "text": [
      "mean = 6.54\n",
      "median = 7.00\n",
      "stddev = 3.15\n"
     ]
    }
   ],
   "source": [
    "mean = np.mean(values)\n",
    "median = np.median(values)\n",
    "stddev = np.std(values)\n",
    "print (\"mean = %.2f\" % mean)\n",
    "print (\"median = %.2f\" % median)\n",
    "print (\"stddev = %.2f\" % stddev)"
   ]
  },
  {
   "cell_type": "markdown",
   "metadata": {},
   "source": [
    "## Sampling distribution\n",
    "\n",
    "We are now going to take few samples of n cards and calculate the sum of values for each sample. You can adjust *n* (sample size) and *m* number of samples in the cell below:"
   ]
  },
  {
   "cell_type": "code",
   "execution_count": 7,
   "metadata": {
    "collapsed": true
   },
   "outputs": [],
   "source": [
    "n = 3\n",
    "m = 300"
   ]
  },
  {
   "cell_type": "markdown",
   "metadata": {},
   "source": [
    "We use numpy to generate random numbers. We set a value for seed such as results are reproductible. We then creates samples as specified by n and m values and calculate sum of values for each sample:"
   ]
  },
  {
   "cell_type": "code",
   "execution_count": 8,
   "metadata": {},
   "outputs": [
    {
     "name": "stdout",
     "output_type": "stream",
     "text": [
      "Min sum of values:  5\n",
      "Max sum of values:  30\n"
     ]
    }
   ],
   "source": [
    "np.random.seed(1234)\n",
    "samples = np.zeros((m,), dtype=np.int32)\n",
    "for i in xrange(m):\n",
    "    #Both lines are equivalent\n",
    "    #samples[i] = np.random.permutation(values)[:3].sum()\n",
    "    samples[i] = np.random.choice(values, n, replace=False).sum()\n",
    "    \n",
    "print(\"Min sum of values: \", samples.min())\n",
    "print(\"Max sum of values: \", samples.max())"
   ]
  },
  {
   "cell_type": "markdown",
   "metadata": {},
   "source": [
    "We plot distribution of the samples sum:"
   ]
  },
  {
   "cell_type": "code",
   "execution_count": 9,
   "metadata": {},
   "outputs": [
    {
     "data": {
      "image/png": "[encoded data removed]",
      "text/plain": [
       "<matplotlib.figure.Figure at 0x7f3841fb3110>"
      ]
     },
     "metadata": {},
     "output_type": "display_data"
    }
   ],
   "source": [
    "figure = plt.figure(figsize=(14, 6))\n",
    "axes = figure.add_subplot(111)\n",
    "bins = np.arange(samples.max() + 2) - 0.5\n",
    "axes.hist(samples, bins=bins, edgecolor='black', linewidth=1.0)\n",
    "axes.set_xticks(range(0, int(np.ceil(samples.max())) + 1))\n",
    "axes.set_xlabel('Value sums')\n",
    "axes.set_ylabel('Frequency')\n",
    "axes.set_title('%i samples of %i cards' % (m, n))\n",
    "plt.show()"
   ]
  },
  {
   "cell_type": "markdown",
   "metadata": {},
   "source": [
    "The distribution loks like a normal distribution.\n",
    "We can calculate mean, median and standard error:"
   ]
  },
  {
   "cell_type": "code",
   "execution_count": 10,
   "metadata": {},
   "outputs": [
    {
     "name": "stdout",
     "output_type": "stream",
     "text": [
      "mean_sum = 19.71\n",
      "median_sum = 20.00\n",
      "se_sum = 5.54\n"
     ]
    }
   ],
   "source": [
    "mean_sum = np.mean(samples)\n",
    "median_sum = np.median(samples)\n",
    "se_sum = np.std(samples)\n",
    "print (\"mean_sum = %.2f\" % mean_sum)\n",
    "print (\"median_sum = %.2f\" % median_sum)\n",
    "print (\"se_sum = %.2f\" % se_sum)"
   ]
  },
  {
   "cell_type": "markdown",
   "metadata": {},
   "source": [
    "With sums of samples, the central limit theorems says that mean of samples sum shall be:\n",
    "\\begin{equation*}\n",
    "\\bar{X} = n \\mu\n",
    "\\end{equation*}\n",
    "\n",
    "And that standard error should be:\n",
    "\\begin{equation*}\n",
    "SE = \\sigma \\sqrt{n}\n",
    "\\end{equation*}\n",
    "\n",
    "And finally that the distribution tends to look like a normal distribution.\n",
    "\n",
    "This is something we can check:"
   ]
  },
  {
   "cell_type": "code",
   "execution_count": 11,
   "metadata": {},
   "outputs": [
    {
     "name": "stdout",
     "output_type": "stream",
     "text": [
      "19.62\n",
      "5.45596004384\n"
     ]
    }
   ],
   "source": [
    "print(n*6.54)\n",
    "print(np.sqrt(n)*3.15)"
   ]
  },
  {
   "cell_type": "markdown",
   "metadata": {},
   "source": [
    "These numbers are pretty close !"
   ]
  },
  {
   "cell_type": "markdown",
   "metadata": {},
   "source": [
    "We can also do the same with the sample averages:"
   ]
  },
  {
   "cell_type": "code",
   "execution_count": 12,
   "metadata": {},
   "outputs": [
    {
     "name": "stdout",
     "output_type": "stream",
     "text": [
      "mean_average = 6.54\n",
      "median_average = 7.00\n"
     ]
    },
    {
     "ename": "NameError",
     "evalue": "name 'se' is not defined",
     "output_type": "error",
     "traceback": [
      "\u001b[0;31m---------------------------------------------------------------------------\u001b[0m",
      "\u001b[0;31mNameError\u001b[0m                                 Traceback (most recent call last)",
      "\u001b[0;32m<ipython-input-12-7cde51da0341>\u001b[0m in \u001b[0;36m<module>\u001b[0;34m()\u001b[0m\n\u001b[1;32m      5\u001b[0m \u001b[0;32mprint\u001b[0m \u001b[0;34m(\u001b[0m\u001b[0;34m\"mean_average = %.2f\"\u001b[0m \u001b[0;34m%\u001b[0m \u001b[0mmean\u001b[0m\u001b[0;34m)\u001b[0m\u001b[0;34m\u001b[0m\u001b[0m\n\u001b[1;32m      6\u001b[0m \u001b[0;32mprint\u001b[0m \u001b[0;34m(\u001b[0m\u001b[0;34m\"median_average = %.2f\"\u001b[0m \u001b[0;34m%\u001b[0m \u001b[0mmedian\u001b[0m\u001b[0;34m)\u001b[0m\u001b[0;34m\u001b[0m\u001b[0m\n\u001b[0;32m----> 7\u001b[0;31m \u001b[0;32mprint\u001b[0m \u001b[0;34m(\u001b[0m\u001b[0;34m\"se_average = %.2f\"\u001b[0m \u001b[0;34m%\u001b[0m \u001b[0mse\u001b[0m\u001b[0;34m)\u001b[0m\u001b[0;34m\u001b[0m\u001b[0m\n\u001b[0m\u001b[1;32m      8\u001b[0m \u001b[0mfigure\u001b[0m \u001b[0;34m=\u001b[0m \u001b[0mplt\u001b[0m\u001b[0;34m.\u001b[0m\u001b[0mfigure\u001b[0m\u001b[0;34m(\u001b[0m\u001b[0mfigsize\u001b[0m\u001b[0;34m=\u001b[0m\u001b[0;34m(\u001b[0m\u001b[0;36m14\u001b[0m\u001b[0;34m,\u001b[0m \u001b[0;36m6\u001b[0m\u001b[0;34m)\u001b[0m\u001b[0;34m)\u001b[0m\u001b[0;34m\u001b[0m\u001b[0m\n\u001b[1;32m      9\u001b[0m \u001b[0maxes\u001b[0m \u001b[0;34m=\u001b[0m \u001b[0mfigure\u001b[0m\u001b[0;34m.\u001b[0m\u001b[0madd_subplot\u001b[0m\u001b[0;34m(\u001b[0m\u001b[0;36m111\u001b[0m\u001b[0;34m)\u001b[0m\u001b[0;34m\u001b[0m\u001b[0m\n",
      "\u001b[0;31mNameError\u001b[0m: name 'se' is not defined"
     ]
    }
   ],
   "source": [
    "samples_average = samples / n\n",
    "mean_average = np.mean(samples_average)\n",
    "median_average = np.median(samples_average)\n",
    "se_average = np.std(samples_average)\n",
    "print (\"mean_average = %.2f\" % mean)\n",
    "print (\"median_average = %.2f\" % median)\n",
    "print (\"se_average = %.2f\" % se)\n",
    "figure = plt.figure(figsize=(14, 6))\n",
    "axes = figure.add_subplot(111)\n",
    "bins = np.arange(samples_average.max() + 2) - 0.5\n",
    "axes.hist(samples_average, bins=bins, edgecolor='black', linewidth=1.0)\n",
    "axes.set_xticks(range(0, int(np.ceil(samples_average.max())) + 1))\n",
    "axes.set_xlabel('Value average')\n",
    "axes.set_ylabel('Frequency')\n",
    "axes.set_title('%i samples of %i cards' % (m, n))\n",
    "plt.show()"
   ]
  },
  {
   "cell_type": "markdown",
   "metadata": {},
   "source": [
    "The distribution also looks like a normal distribution.\n",
    "\n",
    "The central limit theorem says that standard error of samples mean shall be:\n",
    "\\begin{equation*}\n",
    "SE = \\frac{\\sigma}{\\sqrt{n}}\n",
    "\\end{equation*}\n",
    "\n",
    "while mean of samples mean is very close to population mean."
   ]
  },
  {
   "cell_type": "code",
   "execution_count": null,
   "metadata": {},
   "outputs": [],
   "source": [
    "print(stddev/np.sqrt(n))"
   ]
  },
  {
   "cell_type": "markdown",
   "metadata": {},
   "source": [
    "The expected value of standard error is quite close from the standard deviation of the population divided by the square root of n.\n",
    "The mean of samples average is also quite close from the population mean."
   ]
  },
  {
   "cell_type": "markdown",
   "metadata": {},
   "source": [
    "## Normalizing distribution\n",
    "\n",
    "In this section we will normalize the sample distributions using z-scores. \n",
    "\n",
    "\\begin{equation*}\n",
    "Zscore = \\frac{(x - \\mu)}{\\sigma}\n",
    "\\end{equation*}\n",
    "\n",
    "We will do this for samples sum:"
   ]
  },
  {
   "cell_type": "code",
   "execution_count": null,
   "metadata": {},
   "outputs": [],
   "source": [
    "zscores = (samples - mean_sum) / se_sum\n",
    "print(zscores.min())\n",
    "print(zscores.max())"
   ]
  },
  {
   "cell_type": "markdown",
   "metadata": {},
   "source": [
    "We can plot the distribution of z-scores:"
   ]
  },
  {
   "cell_type": "code",
   "execution_count": null,
   "metadata": {},
   "outputs": [],
   "source": [
    "figure = plt.figure(figsize=(14, 6))\n",
    "axes = figure.add_subplot(111)\n",
    "bins = np.arange(zscores.min(), zscores.max() + 1., 0.5) - 0.25\n",
    "axes.hist(zscores, bins=bins, edgecolor='black', linewidth=1.0)\n",
    "axes.set_xticks(np.arange(zscores.min(), zscores.max() + 1., 0.5))\n",
    "axes.set_xlabel('z-score')\n",
    "axes.set_ylabel('Frequency')\n",
    "axes.set_title('%i samples of %i cards' % (m, n))\n",
    "plt.show()"
   ]
  },
  {
   "cell_type": "markdown",
   "metadata": {},
   "source": [
    "We can calculate the probability of a certain z-score using a z-score table (such as http://www.stat.ufl.edu/~athienit/Tables/Ztable.pdf) assuming that we have a normal distribution.\n",
    "\n",
    "For example, the range of 90% of draws may be calculated this way:\n",
    "\n",
    "The probability of 0.9 is associated with a z-score of 1.29. That means that 90% of samples have a z-score of 1.29 or less. The sum associated to this z-score is:"
   ]
  },
  {
   "cell_type": "code",
   "execution_count": null,
   "metadata": {},
   "outputs": [],
   "source": [
    "sum_90 = 1.29 * se_sum + mean_sum\n",
    "print(sum_90)"
   ]
  },
  {
   "cell_type": "markdown",
   "metadata": {},
   "source": [
    "So 90% of draws would have a sum between 3 and 26.86.\n",
    "\n",
    "The probability of getting a sum of at least 20 can be calculated from the probability of having less than 20. A sum of 20 is associated to a z-score of:"
   ]
  },
  {
   "cell_type": "code",
   "execution_count": null,
   "metadata": {},
   "outputs": [],
   "source": [
    "zscore_20 = (20 - mean_sum) / se_sum\n",
    "print(zscore_20)"
   ]
  },
  {
   "cell_type": "markdown",
   "metadata": {},
   "source": [
    "The probability of having a z-score of 0.05 or less is 0.5199, so the probability of having more is:"
   ]
  },
  {
   "cell_type": "code",
   "execution_count": null,
   "metadata": {},
   "outputs": [],
   "source": [
    "p_20 = 1. - 0.5199\n",
    "print(p_20)"
   ]
  },
  {
   "cell_type": "markdown",
   "metadata": {},
   "source": [
    "We have 48% of chances to get a sum of 20 or more."
   ]
  },
  {
   "cell_type": "code",
   "execution_count": null,
   "metadata": {
    "collapsed": true
   },
   "outputs": [],
   "source": []
  }
 ],
 "metadata": {
  "kernelspec": {
   "display_name": "Python [default]",
   "language": "python",
   "name": "python2"
  },
  "language_info": {
   "codemirror_mode": {
    "name": "ipython",
    "version": 2
   },
   "file_extension": ".py",
   "mimetype": "text/x-python",
   "name": "python",
   "nbconvert_exporter": "python",
   "pygments_lexer": "ipython2",
   "version": "2.7.13"
  }
 },
 "nbformat": 4,
 "nbformat_minor": 2
}
